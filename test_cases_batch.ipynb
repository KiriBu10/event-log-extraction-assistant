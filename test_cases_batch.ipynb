{
 "cells": [
  {
   "cell_type": "code",
   "execution_count": 1,
   "metadata": {},
   "outputs": [],
   "source": [
    "from utils.apps import SimpleApp\n",
    "from langchain_openai import ChatOpenAI\n",
    "from utils.db import get_database_schema_execute_all\n",
    "from utils.helper import save_results\n",
    "import os\n",
    "from keys import OPENAI_KEY\n",
    "os.environ['OPENAI_API_KEY'] = OPENAI_KEY"
   ]
  },
  {
   "cell_type": "code",
   "execution_count": 2,
   "metadata": {},
   "outputs": [
    {
     "name": "stdout",
     "output_type": "stream",
     "text": [
      "['test1', 'UWV_case_1', 'baseline-with-misleading-table', 'baseline-with-useless-table', 'baseline (aka toy database)']\n",
      "CREATE TABLE \"order\" (\"id\" TEXT, \"creation_date\" DATETIME, PRIMARY KEY (\"id\"))\n",
      "CREATE TABLE \"payment\" (\"id\" TEXT, \"invoice_id\" TEXT, \"creation_date\" DATETIME, PRIMARY KEY (\"id\"), FOREIGN KEY (\"invoice_id\") REFERENCES \"invoice\"(\"id\"))\n",
      "CREATE TABLE \"shipment\" (\"id\" TEXT, \"order_id\" TEXT, \"creation_date\" DATETIME, PRIMARY KEY (\"id\"), FOREIGN KEY (\"order_id\") REFERENCES \"order\"(\"id\"))\n",
      "CREATE TABLE \"invoice\" (\"id\" TEXT, \"order_id\" TEXT, \"creation_date\" DATETIME, PRIMARY KEY (\"id\"), FOREIGN KEY (\"order_id\") REFERENCES \"order\"(\"id\"))\n",
      "CREATE TABLE \"AA\" (\"id\" TEXT, \"a\" TEXT, \"b\" TEXT)\n",
      "Data inserted into table order\n",
      "Data inserted into table invoice\n",
      "Data inserted into table payment\n",
      "Data inserted into table shipment\n",
      "Data inserted into table AA\n",
      "Database created: testDBs/test1/example.db\n"
     ]
    },
    {
     "name": "stderr",
     "output_type": "stream",
     "text": [
      "Skipping write for channel tags which has no readers\n",
      "Skipping write for channel tags which has no readers\n",
      "Skipping write for channel tags which has no readers\n"
     ]
    },
    {
     "name": "stdout",
     "output_type": "stream",
     "text": [
      "['test1', 'prompt-baseline.txt', 'Error in SQL statement.']\n"
     ]
    },
    {
     "name": "stderr",
     "output_type": "stream",
     "text": [
      "Skipping write for channel tags which has no readers\n",
      "Skipping write for channel tags which has no readers\n",
      "Skipping write for channel tags which has no readers\n"
     ]
    },
    {
     "name": "stdout",
     "output_type": "stream",
     "text": [
      "['test1', 'prompt-chain-of-thought.txt', {'prec': 0.0, 'rec': 0.0, 'f1': 0}]\n"
     ]
    },
    {
     "name": "stderr",
     "output_type": "stream",
     "text": [
      "Skipping write for channel tags which has no readers\n",
      "Skipping write for channel tags which has no readers\n",
      "Skipping write for channel tags which has no readers\n"
     ]
    },
    {
     "name": "stdout",
     "output_type": "stream",
     "text": [
      "['test1', 'prompt-few-shot-example.txt', {'prec': 0.0, 'rec': 0.0, 'f1': 0}]\n"
     ]
    },
    {
     "name": "stderr",
     "output_type": "stream",
     "text": [
      "Skipping write for channel tags which has no readers\n",
      "Skipping write for channel tags which has no readers\n",
      "Skipping write for channel tags which has no readers\n"
     ]
    },
    {
     "name": "stdout",
     "output_type": "stream",
     "text": [
      "['test1', 'prompt-MD1.txt', {'prec': 0.769, 'rec': 0.769, 'f1': 0.769}]\n"
     ]
    },
    {
     "name": "stderr",
     "output_type": "stream",
     "text": [
      "Skipping write for channel tags which has no readers\n",
      "Skipping write for channel tags which has no readers\n",
      "Skipping write for channel tags which has no readers\n"
     ]
    },
    {
     "name": "stdout",
     "output_type": "stream",
     "text": [
      "['test1', 'prompt-MD2.txt', 'Error in SQL statement.']\n"
     ]
    }
   ],
   "source": [
    "# Collect all dbs and all prompts\n",
    "db_list = [x for x in os.listdir('testDBs') if '.' not in x]\n",
    "prompt_list = [x for x in os.listdir('prompts') if '.txt' in x]\n",
    "\n",
    "print(db_list[0:])\n",
    "# print(prompt_list[0:])\n",
    "\n",
    "# LLM model and parameters\n",
    "llm_model = ChatOpenAI(model=\"gpt-4\", temperature=0)\n",
    "\n",
    "# Loop over all dbs and prompt combinations\n",
    "for db in db_list[0:]:\n",
    "\n",
    "    path_to_csv_files = 'testDBs/'+db+'/db/'\n",
    "    path_to_csv_schema_file = 'testDBs/'+db+'/csv_schema.xlsx'\n",
    "    path_to_groud_truth_eventlog = 'testDBs/'+db+'/ground-truth-eventlog.csv'\n",
    "    db_output_dir = 'testDBs/'+db+'/example.db'\n",
    "    result_output_dir = 'testDBs/'+db+'/results/'\n",
    "    db_schema = get_database_schema_execute_all(path_to_csv_files = path_to_csv_files,path_to_csv_schema_file=path_to_csv_schema_file, db_output_dir= db_output_dir)\n",
    "\n",
    "    for pr in prompt_list[0:]:\n",
    "        prompt_file_name = pr.split('.txt')[0]\n",
    "        file = open('prompts/'+pr, \"r\")\n",
    "        file_txt = file.read()\n",
    "        file.close()\n",
    "\n",
    "        prompt=(f\"\"\"Consider the following db schema: {db_schema}\"\"\"+file_txt\n",
    "               +f\"\"\"Write one sql statement that returns an event log from the selected tables with the following columns: case_id,activity_id,timestamp. \"\"\"\n",
    "               +f\"\"\"Use quotes for identifiers. Provide only the query.\"\"\")\n",
    "        # print(prompt)\n",
    "\n",
    "        AgentState = {\"messages\": [prompt]}\n",
    "        a = SimpleApp(path_to_db = db_output_dir, path_to_groud_truth_eventlog=path_to_groud_truth_eventlog, llm_model = llm_model)\n",
    "        result = a.invoke(AgentState)\n",
    "        save_results(chain_response=result, output_dir=result_output_dir, prompt_file=prompt_file_name)\n",
    "        # print('\\n EXECUTED SQL STATEMNENT: \\n', result['agent_response'])\n",
    "        # print(result)\n",
    "        try:\n",
    "            print([db, pr ,result['result']])\n",
    "        except:\n",
    "            print([db,pr,f\"\"\"Can't calculate Precision, Recall and F1. ERROR in SQL\"\"\"])       "
   ]
  },
  {
   "cell_type": "markdown",
   "metadata": {},
   "source": [
    "## TEST 1 Toy Example"
   ]
  },
  {
   "cell_type": "code",
   "execution_count": 9,
   "metadata": {},
   "outputs": [
    {
     "name": "stdout",
     "output_type": "stream",
     "text": [
      "CREATE TABLE \"invoice\" (\"id\" TEXT, \"order_id\" TEXT, \"creation_date\" DATETIME, PRIMARY KEY (\"id\"), FOREIGN KEY (\"order_id\") REFERENCES \"order\"(\"id\"))\n",
      "CREATE TABLE \"order\" (\"id\" TEXT, \"creation_date\" DATETIME, PRIMARY KEY (\"id\"))\n",
      "CREATE TABLE \"payment\" (\"id\" TEXT, \"invoice_id\" TEXT, \"creation_date\" DATETIME, PRIMARY KEY (\"id\"), FOREIGN KEY (\"invoice_id\") REFERENCES \"invoice\"(\"id\"))\n",
      "CREATE TABLE \"shipment\" (\"id\" TEXT, \"order_id\" TEXT, \"creation_date\" DATETIME, PRIMARY KEY (\"id\"), FOREIGN KEY (\"order_id\") REFERENCES \"order\"(\"id\"))\n",
      "Data inserted into table order\n",
      "Data inserted into table invoice\n",
      "Data inserted into table payment\n",
      "Data inserted into table shipment\n",
      "Database created: testDBs/test1/example.db\n"
     ]
    }
   ],
   "source": [
    "## TEST 1\n",
    "\n",
    "# Change path to csv files and prompt\n",
    "path_to_csv_files = 'testDBs/test1/db/'\n",
    "path_to_csv_schema_file = 'testDBs/test1/csv_schema.xlsx'\n",
    "path_to_groud_truth_eventlog = 'testDBs/test1/ground-truth-eventlog.csv'\n",
    "db_output_dir = 'testDBs/test1/example.db'\n",
    "db_schema = get_database_schema_execute_all(path_to_csv_files = path_to_csv_files,path_to_csv_schema_file=path_to_csv_schema_file, db_output_dir= db_output_dir)"
   ]
  },
  {
   "cell_type": "code",
   "execution_count": 10,
   "metadata": {},
   "outputs": [],
   "source": [
    "\n",
    "# llm_model = ChatOpenAI(model=\"gpt-3.5-turbo\", temperature=0)\n",
    "# llm_model = ChatOpenAI(model=\"gpt-4-turbo\", temperature=0)\n",
    "llm_model = ChatOpenAI(model=\"gpt-4\", temperature=0)\n",
    "\n",
    "            # Combine the payment table with the invoice tabel to derive the order for which the payment is made. Use the derived order_id as case_id for this part of the query.\n",
    "            # Add this result to the records from the order table, invoice table and shipment table. Use the attribute in each table that is related to the id of the order as the case_id.\n",
    "            # Use the name of the table where a record originates from as the activity_id.\n",
    "\n",
    "prompt=f\"\"\"Consider the following db schema:\n",
    "            {db_schema}\n",
    "            Each record in each table represents at least one event.\n",
    "            If a table contains multiple timestamp attributes, then each of these attributes is related to an event with the activity_id equal to the attribute name.\n",
    "            \n",
    "            Use the id of the order as the case notion.\n",
    "            \n",
    "            When a table does not have an attribute that contains the selected case notion, combine the necessary tables to obtain this case notion.\n",
    "            \n",
    "            Write one sql statement that returns an event log from the selected tables with the following columns: case_id,activity_id,timestamp. \n",
    "            In activity_id leave out \"_created\".\n",
    "            Use quotes for identifiers. Provide only the query.\"\"\"\n",
    "\n",
    "# prompt=f\"\"\"Consider the relational database structure of the provided tables. \n",
    "#             Also consider you have a process model represented by start -> Create order -> Create invoice -> Deliver goods -> end. \n",
    "#             Where Create order, Create invoice, and Deliver goods are activity names of the process model, \n",
    "#             and \"X -> Y\" represents that any activity X is directly followed by an activity Y. \n",
    "#             With this in mind, now you need to write one sql statement that returns an event log from the tables with the following columns: case_id,activity_id,timestamp. \n",
    "#             Use quotes for identifiers. Provide only the query.\"\"\""
   ]
  },
  {
   "cell_type": "code",
   "execution_count": 11,
   "metadata": {},
   "outputs": [
    {
     "data": {
      "text/plain": [
       "'Consider the following db schema:\\n            TABLE invoice:\\nCREATE TABLE \"invoice\" (\"id\" TEXT, \"order_id\" TEXT, \"creation_date\" DATETIME, PRIMARY KEY (\"id\"), FOREIGN KEY (\"order_id\") REFERENCES \"order\"(\"id\"));\\n\\nTABLE order:\\nCREATE TABLE \"order\" (\"id\" TEXT, \"creation_date\" DATETIME, PRIMARY KEY (\"id\"));\\n\\nTABLE payment:\\nCREATE TABLE \"payment\" (\"id\" TEXT, \"invoice_id\" TEXT, \"creation_date\" DATETIME, PRIMARY KEY (\"id\"), FOREIGN KEY (\"invoice_id\") REFERENCES \"invoice\"(\"id\"));\\n\\nTABLE shipment:\\nCREATE TABLE \"shipment\" (\"id\" TEXT, \"order_id\" TEXT, \"creation_date\" DATETIME, PRIMARY KEY (\"id\"), FOREIGN KEY (\"order_id\") REFERENCES \"order\"(\"id\"));\\n\\n            Each record in each table represents at least one event.\\n            If a table contains multiple timestamp attributes, then each of these attributes is related to an event with the activity_id equal to the attribute name.\\n            \\n            Use the id of the order as the case notion.\\n            \\n            When a table does not have an attribute that contains the selected case notion, combine the necessary tables to obtain this case notion.\\n            \\n            Write one sql statement that returns an event log from the selected tables with the following columns: case_id,activity_id,timestamp. \\n            In activity_id leave out \"_created\".\\n            Use quotes for identifiers. Provide only the query.'"
      ]
     },
     "execution_count": 11,
     "metadata": {},
     "output_type": "execute_result"
    }
   ],
   "source": [
    "# db_schema\n",
    "prompt"
   ]
  },
  {
   "cell_type": "code",
   "execution_count": 12,
   "metadata": {},
   "outputs": [
    {
     "name": "stderr",
     "output_type": "stream",
     "text": [
      "Skipping write for channel tags which has no readers\n",
      "Skipping write for channel tags which has no readers\n",
      "Skipping write for channel tags which has no readers\n"
     ]
    },
    {
     "data": {
      "text/plain": [
       "{'messages': ['Consider the following db schema:\\n            TABLE invoice:\\nCREATE TABLE \"invoice\" (\"id\" TEXT, \"order_id\" TEXT, \"creation_date\" DATETIME, PRIMARY KEY (\"id\"), FOREIGN KEY (\"order_id\") REFERENCES \"order\"(\"id\"));\\n\\nTABLE order:\\nCREATE TABLE \"order\" (\"id\" TEXT, \"creation_date\" DATETIME, PRIMARY KEY (\"id\"));\\n\\nTABLE payment:\\nCREATE TABLE \"payment\" (\"id\" TEXT, \"invoice_id\" TEXT, \"creation_date\" DATETIME, PRIMARY KEY (\"id\"), FOREIGN KEY (\"invoice_id\") REFERENCES \"invoice\"(\"id\"));\\n\\nTABLE shipment:\\nCREATE TABLE \"shipment\" (\"id\" TEXT, \"order_id\" TEXT, \"creation_date\" DATETIME, PRIMARY KEY (\"id\"), FOREIGN KEY (\"order_id\") REFERENCES \"order\"(\"id\"));\\n\\n            Each record in each table represents at least one event.\\n            If a table contains multiple timestamp attributes, then each of these attributes is related to an event with the activity_id equal to the attribute name.\\n            \\n            Use the id of the order as the case notion.\\n            \\n            When a table does not have an attribute that contains the selected case notion, combine the necessary tables to obtain this case notion.\\n            \\n            Write one sql statement that returns an event log from the selected tables with the following columns: case_id,activity_id,timestamp. \\n            In activity_id leave out \"_created\".\\n            Use quotes for identifiers. Provide only the query.'],\n",
       " 'agent_response': 'SELECT \"order\".\"id\" AS case_id, \\'order\\' AS activity_id, \"order\".\"creation_date\" AS timestamp\\nFROM \"order\"\\nUNION ALL\\nSELECT \"invoice\".\"order_id\" AS case_id, \\'invoice\\' AS activity_id, \"invoice\".\"creation_date\" AS timestamp\\nFROM \"invoice\"\\nUNION ALL\\nSELECT \"order\".\"id\" AS case_id, \\'shipment\\' AS activity_id, \"shipment\".\"creation_date\" AS timestamp\\nFROM \"shipment\"\\nJOIN \"order\" ON \"shipment\".\"order_id\" = \"order\".\"id\"\\nUNION ALL\\nSELECT \"order\".\"id\" AS case_id, \\'payment\\' AS activity_id, \"payment\".\"creation_date\" AS timestamp\\nFROM \"payment\"\\nJOIN \"invoice\" ON \"payment\".\"invoice_id\" = \"invoice\".\"id\"\\nJOIN \"order\" ON \"invoice\".\"order_id\" = \"order\".\"id\"\\nORDER BY timestamp;',\n",
       " 'sqlexecuter':    case_id activity_id            timestamp\n",
       " 0       o1       order  2017-08-11 10:33:37\n",
       " 1       o2       order  2017-08-13 16:18:15\n",
       " 2       o1     invoice  2017-08-15 09:13:27\n",
       " 3       o3       order  2017-08-15 22:02:53\n",
       " 4       o4       order  2017-08-17 02:18:12\n",
       " 5       o2     invoice  2017-08-17 17:38:36\n",
       " 6       o3     invoice  2017-08-19 23:03:45\n",
       " 7       o4     invoice  2017-08-21 14:25:04\n",
       " 8       o1     payment  2017-08-21 16:26:13\n",
       " 9       o3     payment  2017-08-23 18:42:09\n",
       " 10      o1    shipment  2017-08-24 11:36:35\n",
       " 11      o4     payment  2017-08-25 20:52:10\n",
       " 12      o4    shipment  2017-08-30 09:45:31,\n",
       " 'result': {'prec': 1.0, 'rec': 1.0, 'f1': 1.0}}"
      ]
     },
     "execution_count": 12,
     "metadata": {},
     "output_type": "execute_result"
    }
   ],
   "source": [
    "AgentState = {\"messages\": [prompt]}\n",
    "a = SimpleApp(path_to_db = db_output_dir, path_to_groud_truth_eventlog=path_to_groud_truth_eventlog, llm_model = llm_model)\n",
    "result = a.invoke(AgentState)\n",
    "result"
   ]
  },
  {
   "cell_type": "code",
   "execution_count": null,
   "metadata": {},
   "outputs": [],
   "source": [
    "# SELECT \n",
    "#     \"order\".\"id\" AS \"case_id\", \n",
    "#     'order' AS \"activity_id\", \n",
    "#     \"order\".\"creation_date\" AS \"timestamp\"\n",
    "# FROM \"order\"\n",
    "\n",
    "# UNION ALL\n",
    "\n",
    "# SELECT \n",
    "#     \"invoice\".\"order_id\" AS \"case_id\", \n",
    "#     'invoice' AS \"activity_id\",\n",
    "#     \"invoice\".\"creation_date\" AS \"timestamp\"\n",
    "# FROM \"invoice\"\n",
    "\n",
    "# UNION ALL\n",
    "\n",
    "# SELECT \n",
    "#     \"payment\".\"id\" AS \"case_id\", \n",
    "#     'payment' AS \"activity_id\", \n",
    "#     \"payment\".\"creation_date\" AS \"timestamp\"\n",
    "# FROM \n",
    "#     \"payment\"\n",
    "#     JOIN \"invoice\" ON \"payment\".\"invoice_id\" = \"invoice\".\"id\"\n",
    "\n",
    "# UNION ALL\n",
    "\n",
    "# SELECT \n",
    "#     \"shipment\".\"order_id\" AS \"case_id\",\n",
    "#     'shipment' AS \"activity_id\",\n",
    "#     \"shipment\".\"creation_date\" AS \"timestamp\"\n",
    "# FROM \"shipment\";\n",
    " "
   ]
  },
  {
   "cell_type": "markdown",
   "metadata": {},
   "source": [
    "## TEST UWV_case_1"
   ]
  },
  {
   "cell_type": "code",
   "execution_count": 14,
   "metadata": {},
   "outputs": [
    {
     "name": "stdout",
     "output_type": "stream",
     "text": [
      "CREATE TABLE \"AutoDrive_Event_100_20201215_Sample\" (\"id\" TEXT, \"EventDateTime\" DATETIME, \"ActivityID\" TEXT, \"Attribute_101\" TEXT, PRIMARY KEY (\"id\", \"EventDateTime\", \"ActivityID\", \"Attribute_101\"))\n",
      "CREATE TABLE \"AutoDrive_Event_200_20201215_Sample\" (\"id\" TEXT, \"EventDateTime\" DATETIME, \"ActivityID\" TEXT, PRIMARY KEY (\"id\", \"EventDateTime\", \"ActivityID\"))\n",
      "CREATE TABLE \"AutoDrive_Event_300_20201215_Sample\" (\"id\" TEXT, \"EventDateTime\" DATETIME, \"ActivityID\" TEXT, \"Attribute_301\" TEXT, PRIMARY KEY (\"id\"))\n",
      "CREATE TABLE \"AutoDrive_Event_400_20201215_Sample\" (\"id\" TEXT, \"EventDateTime\" DATETIME, PRIMARY KEY (\"id\"))\n",
      "CREATE TABLE \"AutoDrive_Event_500_20201215_Sample\" (\"session_id\" TEXT, \"id\" TEXT, \"ActivityID_501\" DATETIME, \"ActivityID_502\" DATETIME, \"ActivityID_503\" DATETIME, \"ActivityID_504\" DATETIME, \"ActivityID_505\" DATETIME, \"ActivityID_506\" DATETIME, \"ActivityID_507\" DATETIME, \"Attribute_510\" TEXT, PRIMARY KEY (\"id\"))\n",
      "Data inserted into table AutoDrive_Event_300_20201215_Sample\n",
      "Data inserted into table AutoDrive_Event_500_20201215_Sample\n",
      "Data inserted into table AutoDrive_Event_400_20201215_Sample\n",
      "Data inserted into table AutoDrive_Event_200_20201215_Sample\n",
      "Data inserted into table AutoDrive_Event_100_20201215_Sample\n",
      "Database created: testDBs/UWV_case_1/example.db\n"
     ]
    }
   ],
   "source": [
    "# Change path to csv files and prompt\n",
    "path_to_csv_files = 'testDBs/UWV_case_1/db/'\n",
    "path_to_csv_schema_file = 'testDBs/UWV_case_1/csv_schema.xlsx'\n",
    "path_to_groud_truth_eventlog = 'testDBs/UWV_case_1/AutoDrive_Result_20201515_Sample.csv'\n",
    "db_output_dir = 'testDBs/UWV_case_1/example.db'\n",
    "db_schema = get_database_schema_execute_all(path_to_csv_files = path_to_csv_files,path_to_csv_schema_file=path_to_csv_schema_file, db_output_dir= db_output_dir)"
   ]
  },
  {
   "cell_type": "code",
   "execution_count": 18,
   "metadata": {},
   "outputs": [
    {
     "name": "stderr",
     "output_type": "stream",
     "text": [
      "Skipping write for channel tags which has no readers\n",
      "Skipping write for channel tags which has no readers\n",
      "Skipping write for channel tags which has no readers\n"
     ]
    },
    {
     "data": {
      "text/plain": [
       "{'messages': ['Consider the following db schema:\\n            TABLE AutoDrive_Event_100_20201215_Sample:\\nCREATE TABLE \"AutoDrive_Event_100_20201215_Sample\" (\"id\" TEXT, \"EventDateTime\" DATETIME, \"ActivityID\" TEXT, \"Attribute_101\" TEXT, PRIMARY KEY (\"id\", \"EventDateTime\", \"ActivityID\", \"Attribute_101\"));\\n\\nTABLE AutoDrive_Event_200_20201215_Sample:\\nCREATE TABLE \"AutoDrive_Event_200_20201215_Sample\" (\"id\" TEXT, \"EventDateTime\" DATETIME, \"ActivityID\" TEXT, PRIMARY KEY (\"id\", \"EventDateTime\", \"ActivityID\"));\\n\\nTABLE AutoDrive_Event_300_20201215_Sample:\\nCREATE TABLE \"AutoDrive_Event_300_20201215_Sample\" (\"id\" TEXT, \"EventDateTime\" DATETIME, \"ActivityID\" TEXT, \"Attribute_301\" TEXT, PRIMARY KEY (\"id\"));\\n\\nTABLE AutoDrive_Event_400_20201215_Sample:\\nCREATE TABLE \"AutoDrive_Event_400_20201215_Sample\" (\"id\" TEXT, \"EventDateTime\" DATETIME, PRIMARY KEY (\"id\"));\\n\\nTABLE AutoDrive_Event_500_20201215_Sample:\\nCREATE TABLE \"AutoDrive_Event_500_20201215_Sample\" (\"session_id\" TEXT, \"id\" TEXT, \"ActivityID_501\" DATETIME, \"ActivityID_502\" DATETIME, \"ActivityID_503\" DATETIME, \"ActivityID_504\" DATETIME, \"ActivityID_505\" DATETIME, \"ActivityID_506\" DATETIME, \"ActivityID_507\" DATETIME, \"Attribute_510\" TEXT, PRIMARY KEY (\"id\"));\\n\\n            Each record in each table represents at least one event.\\n            If a table contains multiple timestamp attributes, then each of these attributes is related to an event.\\n            Use the name of the column as the default value of the activity_id.\\n            \\n            Use CaseID as the case notion.\\n            When a table does not have an attribute that contains the selected case notion, combine the necessary tables to obtain this case notion.\\n\\n            Write one sql statement that returns an event log from the selected tables with the following columns: case_id,activity_id,timestamp. \\n            Use quotes for identifiers. \\n            Use for all timestamps the most detailed timeformat that occurs in the tables.\\n            If a value in the table is empty or NULL leave out the whole record.\\n            Provide only the SQL query, no other comments should be part of the response.'],\n",
       " 'agent_response': 'SELECT \"id\" as case_id, \"ActivityID\" as activity_id, \"EventDateTime\" as timestamp\\nFROM \"AutoDrive_Event_100_20201215_Sample\"\\nWHERE \"id\" IS NOT NULL AND \"ActivityID\" IS NOT NULL AND \"EventDateTime\" IS NOT NULL\\nUNION ALL\\nSELECT \"id\" as case_id, \"ActivityID\" as activity_id, \"EventDateTime\" as timestamp\\nFROM \"AutoDrive_Event_200_20201215_Sample\"\\nWHERE \"id\" IS NOT NULL AND \"ActivityID\" IS NOT NULL AND \"EventDateTime\" IS NOT NULL\\nUNION ALL\\nSELECT \"id\" as case_id, \"ActivityID\" as activity_id, \"EventDateTime\" as timestamp\\nFROM \"AutoDrive_Event_300_20201215_Sample\"\\nWHERE \"id\" IS NOT NULL AND \"ActivityID\" IS NOT NULL AND \"EventDateTime\" IS NOT NULL\\nUNION ALL\\nSELECT \"id\" as case_id, NULL as activity_id, \"EventDateTime\" as timestamp\\nFROM \"AutoDrive_Event_400_20201215_Sample\"\\nWHERE \"id\" IS NOT NULL AND \"EventDateTime\" IS NOT NULL\\nUNION ALL\\nSELECT \"id\" as case_id, NULL as activity_id, \"ActivityID_501\" as timestamp\\nFROM \"AutoDrive_Event_500_20201215_Sample\"\\nWHERE \"id\" IS NOT NULL AND \"ActivityID_501\" IS NOT NULL\\nUNION ALL\\nSELECT \"id\" as case_id, NULL as activity_id, \"ActivityID_502\" as timestamp\\nFROM \"AutoDrive_Event_500_20201215_Sample\"\\nWHERE \"id\" IS NOT NULL AND \"ActivityID_502\" IS NOT NULL\\nUNION ALL\\nSELECT \"id\" as case_id, NULL as activity_id, \"ActivityID_503\" as timestamp\\nFROM \"AutoDrive_Event_500_20201215_Sample\"\\nWHERE \"id\" IS NOT NULL AND \"ActivityID_503\" IS NOT NULL\\nUNION ALL\\nSELECT \"id\" as case_id, NULL as activity_id, \"ActivityID_504\" as timestamp\\nFROM \"AutoDrive_Event_500_20201215_Sample\"\\nWHERE \"id\" IS NOT NULL AND \"ActivityID_504\" IS NOT NULL\\nUNION ALL\\nSELECT \"id\" as case_id, NULL as activity_id, \"ActivityID_505\" as timestamp\\nFROM \"AutoDrive_Event_500_20201215_Sample\"\\nWHERE \"id\" IS NOT NULL AND \"ActivityID_505\" IS NOT NULL\\nUNION ALL\\nSELECT \"id\" as case_id, NULL as activity_id, \"ActivityID_506\" as timestamp\\nFROM \"AutoDrive_Event_500_20201215_Sample\"\\nWHERE \"id\" IS NOT NULL AND \"ActivityID_506\" IS NOT NULL\\nUNION ALL\\nSELECT \"id\" as case_id, NULL as activity_id, \"ActivityID_507\" as timestamp\\nFROM \"AutoDrive_Event_500_20201215_Sample\"\\nWHERE \"id\" IS NOT NULL AND \"ActivityID_507\" IS NOT NULL;',\n",
       " 'sqlexecuter':      case_id activity_id                timestamp\n",
       " 0   16969436         109  2019-12-31 13:08:53.827\n",
       " 1   16969436         136  2019-12-31 13:09:59.387\n",
       " 2   16981611         136  2019-12-06 11:16:06.330\n",
       " 3   16981611         109  2019-12-07 06:32:07.097\n",
       " 4   16982614         131  2019-12-07 07:03:19.637\n",
       " 5   16982614         109  2019-12-11 06:41:47.373\n",
       " 6   16982614         136  2019-12-11 06:42:18.430\n",
       " 7   16983477         136  2019-12-19 03:42:10.780\n",
       " 8   16983477         109  2019-12-19 03:52:05.100\n",
       " 9   16969436         253  2019-12-30 17:01:00.000\n",
       " 10  16981611         222  2019-12-05 08:50:00.000\n",
       " 11  16982614         253  2019-12-06 10:32:00.000\n",
       " 12  16982614         222  2019-12-10 10:44:00.000\n",
       " 13  16983477         207  2019-12-09 10:24:00.000\n",
       " 14  16983477         253  2019-12-18 14:49:00.000\n",
       " 15  16983477         253  2019-12-24 13:57:00.000\n",
       " 16  16969436         302               2019-12-30\n",
       " 17  16981611         302               2019-12-05\n",
       " 18  16982614         302               2019-12-03\n",
       " 19  16983477         302               2019-12-18\n",
       " 20  16983477        None  2019-11-28 00:00:01.240\n",
       " 21  16981611        None               2019-12-31\n",
       " 22  16982614        None               2019-12-02\n",
       " 23  16983477        None               2019-12-05\n",
       " 24  16969436        None               2020-01-01\n",
       " 25  16981611        None               2019-12-02\n",
       " 26  16982614        None               2019-12-02\n",
       " 27  16983477        None               2019-11-21\n",
       " 28  16969436        None               2019-12-27\n",
       " 29  16981611        None               2019-12-05\n",
       " 30  16982614        None               2019-12-09\n",
       " 31  16983477        None               2019-12-18\n",
       " 32  16969436        None               2019-12-30\n",
       " 33  16981611        None               2020-01-03\n",
       " 34  16982614        None               2020-01-02\n",
       " 35  16983477        None               2020-01-06\n",
       " 36  16969436        None               2020-02-04\n",
       " 37  16981611        None               2019-12-31\n",
       " 38  16982614        None               2019-12-02\n",
       " 39  16983477        None               2019-12-05\n",
       " 40  16969436        None               2020-01-01\n",
       " 41  16983477        None               2020-03-05\n",
       " 42  16983477        None               2020-04-06,\n",
       " 'result': {'prec': 0.655, 'rec': 0.5, 'f1': 0.567}}"
      ]
     },
     "execution_count": 18,
     "metadata": {},
     "output_type": "execute_result"
    }
   ],
   "source": [
    "# llm_model = ChatOpenAI(model=\"gpt-3.5-turbo\", temperature=0)\n",
    "# llm_model = ChatOpenAI(model=\"gpt-4-turbo\", temperature=0)\n",
    "llm_model = ChatOpenAI(model=\"gpt-4\", temperature=0)\n",
    "\n",
    "            # Combine the payment table with the invoice tabel to derive the order for which the payment is made. Use the derived order_id as case_id for this part of the query.\n",
    "            # Add this result to the records from the order table, invoice table and shipment table. Use the attribute in each table that is related to the id of the order as the case_id.\n",
    "            # Use the name of the table where a record originates from as the activity_id.\n",
    "\n",
    "prompt=f\"\"\"Consider the following db schema:\n",
    "            {db_schema}\n",
    "            Each record in each table represents at least one event.\n",
    "            If a table contains multiple timestamp attributes, then each of these attributes is related to an event.\n",
    "            Use the name of the column as the default value of the activity_id.\n",
    "            \n",
    "            Use CaseID as the case notion.\n",
    "            When a table does not have an attribute that contains the selected case notion, combine the necessary tables to obtain this case notion.\n",
    "\n",
    "            Write one sql statement that returns an event log from the selected tables with the following columns: case_id,activity_id,timestamp. \n",
    "            Use quotes for identifiers. \n",
    "            Use for all timestamps the most detailed timeformat that occurs in the tables.\n",
    "            If a value in the table is empty or NULL leave out the whole record.\n",
    "            Provide only the SQL query, no other comments should be part of the response.\"\"\"\n",
    "\n",
    "AgentState = {\"messages\": [prompt]}\n",
    "a = SimpleApp(path_to_db = db_output_dir, path_to_groud_truth_eventlog=path_to_groud_truth_eventlog, llm_model = llm_model)\n",
    "result = a.invoke(AgentState)\n",
    "result"
   ]
  },
  {
   "cell_type": "code",
   "execution_count": null,
   "metadata": {},
   "outputs": [],
   "source": []
  }
 ],
 "metadata": {
  "kernelspec": {
   "display_name": "Python 3",
   "language": "python",
   "name": "python3"
  },
  "language_info": {
   "codemirror_mode": {
    "name": "ipython",
    "version": 3
   },
   "file_extension": ".py",
   "mimetype": "text/x-python",
   "name": "python",
   "nbconvert_exporter": "python",
   "pygments_lexer": "ipython3",
   "version": "3.10.14"
  }
 },
 "nbformat": 4,
 "nbformat_minor": 2
}
