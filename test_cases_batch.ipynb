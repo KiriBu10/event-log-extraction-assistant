{
 "cells": [
  {
   "cell_type": "code",
   "execution_count": 2,
   "metadata": {},
   "outputs": [
    {
     "name": "stdout",
     "output_type": "stream",
     "text": [
      "SELECT \n",
      "    \"order\".\"id\" AS \"case_id\", \n",
      "    \"AA\".\"id\" AS \"activity_id\", \n",
      "    \"AA\".\"creation_date\" AS \"timestamp\"\n",
      "FROM \n",
      "    \"order\"\n",
      "JOIN \n",
      "    \"invoice\" ON \"order\".\"id\" = \"invoice\".\"order_id\"\n",
      "JOIN \n",
      "    \"payment\" ON \"invoice\".\"id\" = \"payment\".\"invoice_id\"\n",
      "JOIN \n",
      "    \"shipment\" ON \"order\".\"id\" = \"shipment\".\"order_id\"\n",
      "JOIN \n",
      "    \"AA\" ON \"AA\".\"id\" = \"order\".\"id\"\n",
      "UNION ALL\n",
      "SELECT \n",
      "    \"order\".\"id\", \n",
      "    \"invoice\".\"id\", \n",
      "    \"invoice\".\"creation_date\"\n",
      "FROM \n",
      "    \"order\"\n",
      "JOIN \n",
      "    \"invoice\" ON \"order\".\"id\" = \"invoice\".\"order_id\"\n",
      "UNION ALL\n",
      "SELECT \n",
      "    \"order\".\"id\", \n",
      "    \"payment\".\"id\", \n",
      "    \"payment\".\"creation_date\"\n",
      "FROM \n",
      "    \"order\"\n",
      "JOIN \n",
      "    \"invoice\" ON \"order\".\"id\" = \"invoice\".\"order_id\"\n",
      "JOIN \n",
      "    \"payment\" ON \"invoice\".\"id\" = \"payment\".\"invoice_id\"\n",
      "UNION ALL\n",
      "SELECT \n",
      "    \"order\".\"id\", \n",
      "    \"shipment\".\"id\", \n",
      "    \"shipment\".\"creation_date\"\n",
      "FROM \n",
      "    \"order\"\n",
      "JOIN \n",
      "    \"shipment\" ON \"order\".\"id\" = \"shipment\".\"order_id\"\n",
      "ORDER BY \n",
      "    \"timestamp\";\n"
     ]
    }
   ],
   "source": [
    "import re\n",
    "\n",
    "def extract_sql_statement(text):\n",
    "    sql_pattern = re.compile(r\"(SELECT|INSERT|UPDATE|DELETE|CREATE|ALTER|DROP|GRANT|REVOKE|TRUNCATE|MERGE|CALL|EXPLAIN|SHOW|USE)\\b.*?;\", re.IGNORECASE | re.DOTALL)\n",
    "    match = sql_pattern.search(text)\n",
    "    # If a match is found, return the matched string\n",
    "    if match:\n",
    "        return match.group(0)\n",
    "    else:\n",
    "        return None\n",
    "\n",
    "extracted_sql = extract_sql_statement(text_with_sql)\n",
    "print(extracted_sql)\n"
   ]
  },
  {
   "cell_type": "code",
   "execution_count": null,
   "metadata": {},
   "outputs": [],
   "source": []
  },
  {
   "cell_type": "code",
   "execution_count": null,
   "metadata": {},
   "outputs": [],
   "source": []
  },
  {
   "cell_type": "code",
   "execution_count": 1,
   "metadata": {},
   "outputs": [],
   "source": [
    "from utils.apps import SimpleApp\n",
    "from langchain_openai import ChatOpenAI\n",
    "from utils.db import get_database_schema_execute_all\n",
    "from utils.helper import save_results\n",
    "import os\n",
    "from keys import OPENAI_KEY\n",
    "os.environ['OPENAI_API_KEY'] = OPENAI_KEY"
   ]
  },
  {
   "cell_type": "code",
   "execution_count": 2,
   "metadata": {},
   "outputs": [
    {
     "name": "stdout",
     "output_type": "stream",
     "text": [
      "['test1', 'UWV_case_1', 'baseline-with-misleading-table', 'baseline-with-useless-table', 'baseline (aka toy database)', 'BPI2016-V31', 'RunningExample-V03', 'RunningExample-V15', 'RunningExample-V63', 'UWV-V06', 'UWV-V22', 'UWV-V31', 'BPI2016-V07', 'BPI2016-V24', 'paperj-V1', 'paperj-V4', 'paperj-V6']\n",
      "CREATE TABLE \"order\" (\"id\" TEXT, \"creation_date\" DATETIME, PRIMARY KEY (\"id\"))\n",
      "CREATE TABLE \"payment\" (\"id\" TEXT, \"invoice_id\" TEXT, \"creation_date\" DATETIME, PRIMARY KEY (\"id\"), FOREIGN KEY (\"invoice_id\") REFERENCES \"invoice\"(\"id\"))\n",
      "CREATE TABLE \"shipment\" (\"id\" TEXT, \"order_id\" TEXT, \"creation_date\" DATETIME, PRIMARY KEY (\"id\"), FOREIGN KEY (\"order_id\") REFERENCES \"order\"(\"id\"))\n",
      "CREATE TABLE \"invoice\" (\"id\" TEXT, \"order_id\" TEXT, \"creation_date\" DATETIME, PRIMARY KEY (\"id\"), FOREIGN KEY (\"order_id\") REFERENCES \"order\"(\"id\"))\n",
      "CREATE TABLE \"AA\" (\"id\" TEXT, \"a\" TEXT, \"b\" TEXT)\n",
      "Data inserted into table order\n",
      "Data inserted into table invoice\n",
      "Data inserted into table payment\n",
      "Data inserted into table shipment\n",
      "Data inserted into table AA\n",
      "Database created: testDBs/test1/example.db\n"
     ]
    },
    {
     "name": "stderr",
     "output_type": "stream",
     "text": [
      "Skipping write for channel tags which has no readers\n",
      "Skipping write for channel tags which has no readers\n",
      "Skipping write for channel tags which has no readers\n"
     ]
    },
    {
     "name": "stdout",
     "output_type": "stream",
     "text": [
      "['test1', 'prompt-baseline.txt', {'precision': 0.0, 'recall': 0.0, 'f1': 0, 'relaxed_precision': 0.692, 'relaxed_recall': 1.0, 'relaxed_f1': 0.818}]\n"
     ]
    },
    {
     "name": "stderr",
     "output_type": "stream",
     "text": [
      "Skipping write for channel tags which has no readers\n",
      "Skipping write for channel tags which has no readers\n",
      "Skipping write for channel tags which has no readers\n"
     ]
    },
    {
     "name": "stdout",
     "output_type": "stream",
     "text": [
      "['test1', 'prompt-chain-of-thought.txt', {'precision': 0.0, 'recall': 0.0, 'f1': 0, 'relaxed_precision': 0.462, 'relaxed_recall': 0.462, 'relaxed_f1': 0.462}]\n"
     ]
    },
    {
     "name": "stderr",
     "output_type": "stream",
     "text": [
      "Skipping write for channel tags which has no readers\n",
      "Skipping write for channel tags which has no readers\n",
      "Skipping write for channel tags which has no readers\n"
     ]
    },
    {
     "name": "stdout",
     "output_type": "stream",
     "text": [
      "['test1', 'prompt-few-shot-example.txt', {'precision': 0.0, 'recall': 0.0, 'f1': 0, 'relaxed_precision': 0.462, 'relaxed_recall': 0.462, 'relaxed_f1': 0.462}]\n"
     ]
    },
    {
     "name": "stderr",
     "output_type": "stream",
     "text": [
      "Skipping write for channel tags which has no readers\n",
      "Skipping write for channel tags which has no readers\n",
      "Skipping write for channel tags which has no readers\n"
     ]
    },
    {
     "name": "stdout",
     "output_type": "stream",
     "text": [
      "['test1', 'prompt-MD1.txt', {'precision': 0.769, 'recall': 0.769, 'f1': 0.769, 'relaxed_precision': 0.769, 'relaxed_recall': 0.769, 'relaxed_f1': 0.769}]\n"
     ]
    },
    {
     "name": "stderr",
     "output_type": "stream",
     "text": [
      "Skipping write for channel tags which has no readers\n",
      "Skipping write for channel tags which has no readers\n",
      "Skipping write for channel tags which has no readers\n"
     ]
    },
    {
     "name": "stdout",
     "output_type": "stream",
     "text": [
      "['test1', 'prompt-MD2.txt', 'Error in SQL statement.']\n"
     ]
    },
    {
     "name": "stderr",
     "output_type": "stream",
     "text": [
      "Skipping write for channel tags which has no readers\n",
      "Skipping write for channel tags which has no readers\n",
      "Skipping write for channel tags which has no readers\n"
     ]
    },
    {
     "name": "stdout",
     "output_type": "stream",
     "text": [
      "['test1', 'prompt-persona.txt', {'precision': 0.769, 'recall': 0.769, 'f1': 0.769, 'relaxed_precision': 0.769, 'relaxed_recall': 0.769, 'relaxed_f1': 0.769}]\n"
     ]
    },
    {
     "name": "stderr",
     "output_type": "stream",
     "text": [
      "Skipping write for channel tags which has no readers\n",
      "Skipping write for channel tags which has no readers\n",
      "Skipping write for channel tags which has no readers\n"
     ]
    },
    {
     "name": "stdout",
     "output_type": "stream",
     "text": [
      "['test1', 'prompt-tree-of-thought.txt', {'precision': 0.0, 'recall': 0.0, 'f1': 0, 'relaxed_precision': 0.692, 'relaxed_recall': 1.0, 'relaxed_f1': 0.818}]\n"
     ]
    },
    {
     "name": "stderr",
     "output_type": "stream",
     "text": [
      "Skipping write for channel tags which has no readers\n",
      "Skipping write for channel tags which has no readers\n",
      "Skipping write for channel tags which has no readers\n"
     ]
    },
    {
     "name": "stdout",
     "output_type": "stream",
     "text": [
      "['test1', 'prompt-tree-of-thought_persona.txt', {'precision': 0.0, 'recall': 0.0, 'f1': 0, 'relaxed_precision': 0.462, 'relaxed_recall': 0.462, 'relaxed_f1': 0.462}]\n"
     ]
    },
    {
     "name": "stderr",
     "output_type": "stream",
     "text": [
      "Skipping write for channel tags which has no readers\n",
      "Skipping write for channel tags which has no readers\n",
      "Skipping write for channel tags which has no readers\n"
     ]
    },
    {
     "name": "stdout",
     "output_type": "stream",
     "text": [
      "['test1', 'prompt-04-tree-of-thought.txt', {'precision': 0.0, 'recall': 0.0, 'f1': 0, 'relaxed_precision': 0.308, 'relaxed_recall': 1.0, 'relaxed_f1': 0.471}]\n"
     ]
    },
    {
     "name": "stderr",
     "output_type": "stream",
     "text": [
      "Skipping write for channel tags which has no readers\n",
      "Skipping write for channel tags which has no readers\n",
      "Skipping write for channel tags which has no readers\n"
     ]
    },
    {
     "name": "stdout",
     "output_type": "stream",
     "text": [
      "['test1', 'prompt-00-baseline.txt', 'Error in SQL statement.']\n"
     ]
    },
    {
     "name": "stderr",
     "output_type": "stream",
     "text": [
      "Skipping write for channel tags which has no readers\n",
      "Skipping write for channel tags which has no readers\n",
      "Skipping write for channel tags which has no readers\n"
     ]
    },
    {
     "name": "stdout",
     "output_type": "stream",
     "text": [
      "['test1', 'prompt-01-persona.txt', {'precision': 0.462, 'recall': 0.462, 'f1': 0.462, 'relaxed_precision': 0.462, 'relaxed_recall': 0.462, 'relaxed_f1': 0.462}]\n"
     ]
    },
    {
     "name": "stderr",
     "output_type": "stream",
     "text": [
      "Skipping write for channel tags which has no readers\n",
      "Skipping write for channel tags which has no readers\n",
      "Skipping write for channel tags which has no readers\n"
     ]
    },
    {
     "name": "stdout",
     "output_type": "stream",
     "text": [
      "['test1', 'prompt-02-few-shot-example.txt', {'precision': 0.308, 'recall': 0.571, 'f1': 0.4, 'relaxed_precision': 0.308, 'relaxed_recall': 0.571, 'relaxed_f1': 0.4}]\n"
     ]
    },
    {
     "name": "stderr",
     "output_type": "stream",
     "text": [
      "Skipping write for channel tags which has no readers\n",
      "Skipping write for channel tags which has no readers\n",
      "Skipping write for channel tags which has no readers\n"
     ]
    },
    {
     "name": "stdout",
     "output_type": "stream",
     "text": [
      "['test1', 'prompt-03-chain-of-thought.txt', {'precision': 0.0, 'recall': 0.0, 'f1': 0, 'relaxed_precision': 0.462, 'relaxed_recall': 0.462, 'relaxed_f1': 0.462}]\n"
     ]
    },
    {
     "name": "stderr",
     "output_type": "stream",
     "text": [
      "Skipping write for channel tags which has no readers\n",
      "Skipping write for channel tags which has no readers\n",
      "Skipping write for channel tags which has no readers\n"
     ]
    },
    {
     "name": "stdout",
     "output_type": "stream",
     "text": [
      "['test1', 'prompt-05-tree-of-thought-persona.txt', {'precision': 0.0, 'recall': 0.0, 'f1': 0, 'relaxed_precision': 0.769, 'relaxed_recall': 0.769, 'relaxed_f1': 0.769}]\n"
     ]
    },
    {
     "name": "stderr",
     "output_type": "stream",
     "text": [
      "Skipping write for channel tags which has no readers\n",
      "Skipping write for channel tags which has no readers\n",
      "Skipping write for channel tags which has no readers\n"
     ]
    },
    {
     "name": "stdout",
     "output_type": "stream",
     "text": [
      "['test1', 'prompt-06-processmining-knowledge.txt', 'Error in SQL statement.']\n"
     ]
    },
    {
     "name": "stderr",
     "output_type": "stream",
     "text": [
      "Skipping write for channel tags which has no readers\n",
      "Skipping write for channel tags which has no readers\n",
      "Skipping write for channel tags which has no readers\n"
     ]
    },
    {
     "name": "stdout",
     "output_type": "stream",
     "text": [
      "['test1', 'prompt-07-BPI2016.txt', 'Error in SQL statement.']\n"
     ]
    },
    {
     "name": "stderr",
     "output_type": "stream",
     "text": [
      "Skipping write for channel tags which has no readers\n",
      "Skipping write for channel tags which has no readers\n",
      "Skipping write for channel tags which has no readers\n"
     ]
    },
    {
     "name": "stdout",
     "output_type": "stream",
     "text": [
      "['test1', 'prompt-07-RunningExample.txt', 'Error in SQL statement.']\n"
     ]
    },
    {
     "name": "stderr",
     "output_type": "stream",
     "text": [
      "Skipping write for channel tags which has no readers\n",
      "Skipping write for channel tags which has no readers\n",
      "Skipping write for channel tags which has no readers\n"
     ]
    },
    {
     "name": "stdout",
     "output_type": "stream",
     "text": [
      "['test1', 'prompt-07-UWV.txt', 'Error in SQL statement.']\n",
      "CREATE TABLE \"AutoDrive_Event_300_20201215_Sample\" (\"id\" TEXT, \"EventDateTime\" DATETIME, \"ActivityID\" TEXT, \"Attribute_301\" TEXT, PRIMARY KEY (\"id\"))\n",
      "CREATE TABLE \"AutoDrive_Event_400_20201215_Sample\" (\"id\" TEXT, \"EventDateTime\" DATETIME, PRIMARY KEY (\"id\"))\n",
      "CREATE TABLE \"AutoDrive_Event_500_20201215_Sample\" (\"session_id\" TEXT, \"id\" TEXT, \"ActivityID_501\" DATETIME, \"ActivityID_502\" DATETIME, \"ActivityID_503\" DATETIME, \"ActivityID_504\" DATETIME, \"ActivityID_505\" DATETIME, \"ActivityID_506\" DATETIME, \"ActivityID_507\" DATETIME, \"Attribute_510\" TEXT, PRIMARY KEY (\"id\"))\n",
      "CREATE TABLE \"AutoDrive_Event_100_20201215_Sample\" (\"id\" TEXT, \"EventDateTime\" DATETIME, \"ActivityID\" TEXT, \"Attribute_101\" TEXT, PRIMARY KEY (\"id\", \"EventDateTime\", \"ActivityID\", \"Attribute_101\"))\n",
      "CREATE TABLE \"AutoDrive_Event_200_20201215_Sample\" (\"id\" TEXT, \"EventDateTime\" DATETIME, \"ActivityID\" TEXT, PRIMARY KEY (\"id\", \"EventDateTime\", \"ActivityID\"))\n",
      "Data inserted into table AutoDrive_Event_200_20201215_Sample\n",
      "Data inserted into table AutoDrive_Event_400_20201215_Sample\n",
      "Data inserted into table AutoDrive_Event_500_20201215_Sample\n",
      "Data inserted into table AutoDrive_Event_300_20201215_Sample\n",
      "Data inserted into table AutoDrive_Event_100_20201215_Sample\n",
      "Database created: testDBs/UWV_case_1/example.db\n"
     ]
    },
    {
     "name": "stderr",
     "output_type": "stream",
     "text": [
      "Skipping write for channel tags which has no readers\n",
      "Skipping write for channel tags which has no readers\n",
      "Skipping write for channel tags which has no readers\n"
     ]
    },
    {
     "name": "stdout",
     "output_type": "stream",
     "text": [
      "['UWV_case_1', 'prompt-baseline.txt', {'precision': 0.655, 'recall': 0.76, 'f1': 0.704, 'relaxed_precision': 0.655, 'relaxed_recall': 0.76, 'relaxed_f1': 0.704}]\n"
     ]
    },
    {
     "name": "stderr",
     "output_type": "stream",
     "text": [
      "Skipping write for channel tags which has no readers\n",
      "Skipping write for channel tags which has no readers\n",
      "Skipping write for channel tags which has no readers\n"
     ]
    },
    {
     "name": "stdout",
     "output_type": "stream",
     "text": [
      "['UWV_case_1', 'prompt-chain-of-thought.txt', {'precision': 0.655, 'recall': 0.76, 'f1': 0.704, 'relaxed_precision': 0.655, 'relaxed_recall': 0.76, 'relaxed_f1': 0.704}]\n"
     ]
    },
    {
     "name": "stderr",
     "output_type": "stream",
     "text": [
      "Skipping write for channel tags which has no readers\n",
      "Skipping write for channel tags which has no readers\n",
      "Skipping write for channel tags which has no readers\n"
     ]
    },
    {
     "name": "stdout",
     "output_type": "stream",
     "text": [
      "['UWV_case_1', 'prompt-few-shot-example.txt', 'Error in SQL statement.']\n"
     ]
    },
    {
     "name": "stderr",
     "output_type": "stream",
     "text": [
      "Skipping write for channel tags which has no readers\n",
      "Skipping write for channel tags which has no readers\n",
      "Skipping write for channel tags which has no readers\n"
     ]
    },
    {
     "name": "stdout",
     "output_type": "stream",
     "text": [
      "['UWV_case_1', 'prompt-MD1.txt', {'precision': 0.655, 'recall': 0.463, 'f1': 0.543, 'relaxed_precision': 0.655, 'relaxed_recall': 0.5, 'relaxed_f1': 0.567}]\n"
     ]
    },
    {
     "name": "stderr",
     "output_type": "stream",
     "text": [
      "Skipping write for channel tags which has no readers\n",
      "Skipping write for channel tags which has no readers\n",
      "Skipping write for channel tags which has no readers\n"
     ]
    },
    {
     "name": "stdout",
     "output_type": "stream",
     "text": [
      "['UWV_case_1', 'prompt-MD2.txt', {'precision': 0.655, 'recall': 0.905, 'f1': 0.76, 'relaxed_precision': 0.655, 'relaxed_recall': 0.905, 'relaxed_f1': 0.76}]\n"
     ]
    },
    {
     "name": "stderr",
     "output_type": "stream",
     "text": [
      "Skipping write for channel tags which has no readers\n",
      "Skipping write for channel tags which has no readers\n",
      "Skipping write for channel tags which has no readers\n"
     ]
    },
    {
     "name": "stdout",
     "output_type": "stream",
     "text": [
      "['UWV_case_1', 'prompt-persona.txt', {'precision': 0.655, 'recall': 0.76, 'f1': 0.704, 'relaxed_precision': 0.655, 'relaxed_recall': 0.76, 'relaxed_f1': 0.704}]\n"
     ]
    },
    {
     "name": "stderr",
     "output_type": "stream",
     "text": [
      "Skipping write for channel tags which has no readers\n",
      "Skipping write for channel tags which has no readers\n",
      "Skipping write for channel tags which has no readers\n"
     ]
    },
    {
     "name": "stdout",
     "output_type": "stream",
     "text": [
      "['UWV_case_1', 'prompt-tree-of-thought.txt', 'Error in SQL statement.']\n"
     ]
    },
    {
     "name": "stderr",
     "output_type": "stream",
     "text": [
      "Skipping write for channel tags which has no readers\n",
      "Skipping write for channel tags which has no readers\n",
      "Skipping write for channel tags which has no readers\n"
     ]
    },
    {
     "name": "stdout",
     "output_type": "stream",
     "text": [
      "['UWV_case_1', 'prompt-tree-of-thought_persona.txt', {'precision': 0.655, 'recall': 0.76, 'f1': 0.704, 'relaxed_precision': 0.655, 'relaxed_recall': 0.76, 'relaxed_f1': 0.704}]\n"
     ]
    },
    {
     "name": "stderr",
     "output_type": "stream",
     "text": [
      "Skipping write for channel tags which has no readers\n",
      "Skipping write for channel tags which has no readers\n",
      "Skipping write for channel tags which has no readers\n"
     ]
    },
    {
     "name": "stdout",
     "output_type": "stream",
     "text": [
      "['UWV_case_1', 'prompt-04-tree-of-thought.txt', {'precision': 0.655, 'recall': 0.76, 'f1': 0.704, 'relaxed_precision': 0.655, 'relaxed_recall': 0.76, 'relaxed_f1': 0.704}]\n"
     ]
    },
    {
     "name": "stderr",
     "output_type": "stream",
     "text": [
      "Skipping write for channel tags which has no readers\n",
      "Skipping write for channel tags which has no readers\n",
      "Skipping write for channel tags which has no readers\n"
     ]
    },
    {
     "name": "stdout",
     "output_type": "stream",
     "text": [
      "['UWV_case_1', 'prompt-00-baseline.txt', {'precision': 0.655, 'recall': 0.76, 'f1': 0.704, 'relaxed_precision': 0.655, 'relaxed_recall': 0.76, 'relaxed_f1': 0.704}]\n"
     ]
    },
    {
     "name": "stderr",
     "output_type": "stream",
     "text": [
      "Skipping write for channel tags which has no readers\n",
      "Skipping write for channel tags which has no readers\n",
      "Skipping write for channel tags which has no readers\n"
     ]
    },
    {
     "name": "stdout",
     "output_type": "stream",
     "text": [
      "['UWV_case_1', 'prompt-01-persona.txt', {'precision': 0.655, 'recall': 0.76, 'f1': 0.704, 'relaxed_precision': 0.655, 'relaxed_recall': 0.76, 'relaxed_f1': 0.704}]\n"
     ]
    },
    {
     "name": "stderr",
     "output_type": "stream",
     "text": [
      "Skipping write for channel tags which has no readers\n",
      "Skipping write for channel tags which has no readers\n",
      "Skipping write for channel tags which has no readers\n"
     ]
    },
    {
     "name": "stdout",
     "output_type": "stream",
     "text": [
      "['UWV_case_1', 'prompt-02-few-shot-example.txt', 'Error in SQL statement.']\n"
     ]
    },
    {
     "name": "stderr",
     "output_type": "stream",
     "text": [
      "Skipping write for channel tags which has no readers\n",
      "Skipping write for channel tags which has no readers\n",
      "Skipping write for channel tags which has no readers\n"
     ]
    },
    {
     "name": "stdout",
     "output_type": "stream",
     "text": [
      "['UWV_case_1', 'prompt-03-chain-of-thought.txt', {'precision': 0.655, 'recall': 0.76, 'f1': 0.704, 'relaxed_precision': 0.655, 'relaxed_recall': 0.76, 'relaxed_f1': 0.704}]\n"
     ]
    },
    {
     "name": "stderr",
     "output_type": "stream",
     "text": [
      "Skipping write for channel tags which has no readers\n",
      "Skipping write for channel tags which has no readers\n",
      "Skipping write for channel tags which has no readers\n"
     ]
    },
    {
     "name": "stdout",
     "output_type": "stream",
     "text": [
      "['UWV_case_1', 'prompt-05-tree-of-thought-persona.txt', {'precision': 0.655, 'recall': 0.76, 'f1': 0.704, 'relaxed_precision': 0.655, 'relaxed_recall': 0.76, 'relaxed_f1': 0.704}]\n"
     ]
    },
    {
     "name": "stderr",
     "output_type": "stream",
     "text": [
      "Skipping write for channel tags which has no readers\n",
      "Skipping write for channel tags which has no readers\n",
      "Skipping write for channel tags which has no readers\n"
     ]
    },
    {
     "name": "stdout",
     "output_type": "stream",
     "text": [
      "['UWV_case_1', 'prompt-06-processmining-knowledge.txt', 'Error in SQL statement.']\n"
     ]
    },
    {
     "name": "stderr",
     "output_type": "stream",
     "text": [
      "Skipping write for channel tags which has no readers\n",
      "Skipping write for channel tags which has no readers\n",
      "Skipping write for channel tags which has no readers\n"
     ]
    },
    {
     "name": "stdout",
     "output_type": "stream",
     "text": [
      "['UWV_case_1', 'prompt-07-BPI2016.txt', {'precision': 0.655, 'recall': 0.76, 'f1': 0.704, 'relaxed_precision': 0.655, 'relaxed_recall': 0.76, 'relaxed_f1': 0.704}]\n"
     ]
    },
    {
     "name": "stderr",
     "output_type": "stream",
     "text": [
      "Skipping write for channel tags which has no readers\n",
      "Skipping write for channel tags which has no readers\n",
      "Skipping write for channel tags which has no readers\n"
     ]
    },
    {
     "name": "stdout",
     "output_type": "stream",
     "text": [
      "['UWV_case_1', 'prompt-07-RunningExample.txt', 'Error in SQL statement.']\n"
     ]
    },
    {
     "name": "stderr",
     "output_type": "stream",
     "text": [
      "Skipping write for channel tags which has no readers\n",
      "Skipping write for channel tags which has no readers\n",
      "Skipping write for channel tags which has no readers\n"
     ]
    },
    {
     "name": "stdout",
     "output_type": "stream",
     "text": [
      "['UWV_case_1', 'prompt-07-UWV.txt', 'Error in SQL statement.']\n",
      "CREATE TABLE \"invoice\" (\"id\" TEXT, \"order_id\" TEXT, \"creation_date\" DATETIME, PRIMARY KEY (\"id\"), FOREIGN KEY (\"order_id\") REFERENCES \"order\"(\"id\"))\n",
      "CREATE TABLE \"order\" (\"id\" TEXT, \"creation_date\" DATETIME, PRIMARY KEY (\"id\"))\n",
      "CREATE TABLE \"payment\" (\"id\" TEXT, \"invoice_id\" TEXT, \"creation_date\" DATETIME, PRIMARY KEY (\"id\"), FOREIGN KEY (\"invoice_id\") REFERENCES \"invoice\"(\"id\"))\n",
      "CREATE TABLE \"payment_province\" (\"id\" TEXT, \"province\" TEXT, \"creation_date\" DATETIME, PRIMARY KEY (\"id\"))\n",
      "CREATE TABLE \"shipment\" (\"id\" TEXT, \"order_id\" TEXT, \"creation_date\" DATETIME, PRIMARY KEY (\"id\"), FOREIGN KEY (\"order_id\") REFERENCES \"order\"(\"id\"))\n",
      "Data inserted into table order\n",
      "Data inserted into table invoice\n",
      "Data inserted into table payment\n",
      "Data inserted into table shipment\n",
      "Data inserted into table payment_province\n",
      "Database created: testDBs/baseline-with-misleading-table/example.db\n"
     ]
    },
    {
     "name": "stderr",
     "output_type": "stream",
     "text": [
      "Skipping write for channel tags which has no readers\n",
      "Skipping write for channel tags which has no readers\n",
      "Skipping write for channel tags which has no readers\n"
     ]
    },
    {
     "name": "stdout",
     "output_type": "stream",
     "text": [
      "['baseline-with-misleading-table', 'prompt-baseline.txt', {'precision': 0.0, 'recall': 0.0, 'f1': 0, 'relaxed_precision': 0.0, 'relaxed_recall': 0.0, 'relaxed_f1': 0}]\n"
     ]
    },
    {
     "name": "stderr",
     "output_type": "stream",
     "text": [
      "Skipping write for channel tags which has no readers\n",
      "Skipping write for channel tags which has no readers\n",
      "Skipping write for channel tags which has no readers\n"
     ]
    },
    {
     "name": "stdout",
     "output_type": "stream",
     "text": [
      "['baseline-with-misleading-table', 'prompt-chain-of-thought.txt', {'precision': 0.0, 'recall': 0.0, 'f1': 0, 'relaxed_precision': 0.0, 'relaxed_recall': 0.0, 'relaxed_f1': 0}]\n"
     ]
    },
    {
     "name": "stderr",
     "output_type": "stream",
     "text": [
      "Skipping write for channel tags which has no readers\n",
      "Skipping write for channel tags which has no readers\n",
      "Skipping write for channel tags which has no readers\n"
     ]
    },
    {
     "name": "stdout",
     "output_type": "stream",
     "text": [
      "['baseline-with-misleading-table', 'prompt-few-shot-example.txt', {'precision': 0.0, 'recall': 0.0, 'f1': 0, 'relaxed_precision': 0.0, 'relaxed_recall': 0.0, 'relaxed_f1': 0}]\n"
     ]
    },
    {
     "name": "stderr",
     "output_type": "stream",
     "text": [
      "Skipping write for channel tags which has no readers\n",
      "Skipping write for channel tags which has no readers\n",
      "Skipping write for channel tags which has no readers\n"
     ]
    },
    {
     "name": "stdout",
     "output_type": "stream",
     "text": [
      "['baseline-with-misleading-table', 'prompt-MD1.txt', {'precision': 0.0, 'recall': 0.0, 'f1': 0, 'relaxed_precision': 0.0, 'relaxed_recall': 0.0, 'relaxed_f1': 0}]\n"
     ]
    },
    {
     "name": "stderr",
     "output_type": "stream",
     "text": [
      "Skipping write for channel tags which has no readers\n",
      "Skipping write for channel tags which has no readers\n",
      "Skipping write for channel tags which has no readers\n"
     ]
    },
    {
     "name": "stdout",
     "output_type": "stream",
     "text": [
      "['baseline-with-misleading-table', 'prompt-MD2.txt', {'precision': 0.0, 'recall': 0.0, 'f1': 0, 'relaxed_precision': 0.0, 'relaxed_recall': 0.0, 'relaxed_f1': 0}]\n"
     ]
    },
    {
     "name": "stderr",
     "output_type": "stream",
     "text": [
      "Skipping write for channel tags which has no readers\n",
      "Skipping write for channel tags which has no readers\n",
      "Skipping write for channel tags which has no readers\n"
     ]
    },
    {
     "name": "stdout",
     "output_type": "stream",
     "text": [
      "['baseline-with-misleading-table', 'prompt-persona.txt', {'precision': 0.0, 'recall': 0.0, 'f1': 0, 'relaxed_precision': 0.0, 'relaxed_recall': 0.0, 'relaxed_f1': 0}]\n"
     ]
    },
    {
     "name": "stderr",
     "output_type": "stream",
     "text": [
      "Skipping write for channel tags which has no readers\n",
      "Skipping write for channel tags which has no readers\n",
      "Skipping write for channel tags which has no readers\n"
     ]
    },
    {
     "name": "stdout",
     "output_type": "stream",
     "text": [
      "['baseline-with-misleading-table', 'prompt-tree-of-thought.txt', 'Error in SQL statement.']\n"
     ]
    },
    {
     "name": "stderr",
     "output_type": "stream",
     "text": [
      "Skipping write for channel tags which has no readers\n",
      "Skipping write for channel tags which has no readers\n",
      "Skipping write for channel tags which has no readers\n"
     ]
    },
    {
     "name": "stdout",
     "output_type": "stream",
     "text": [
      "['baseline-with-misleading-table', 'prompt-tree-of-thought_persona.txt', {'precision': 0.0, 'recall': 0.0, 'f1': 0, 'relaxed_precision': 0.0, 'relaxed_recall': 0.0, 'relaxed_f1': 0}]\n"
     ]
    },
    {
     "name": "stderr",
     "output_type": "stream",
     "text": [
      "Skipping write for channel tags which has no readers\n",
      "Skipping write for channel tags which has no readers\n",
      "Skipping write for channel tags which has no readers\n"
     ]
    },
    {
     "name": "stdout",
     "output_type": "stream",
     "text": [
      "['baseline-with-misleading-table', 'prompt-04-tree-of-thought.txt', {'precision': 0.0, 'recall': 0.0, 'f1': 0, 'relaxed_precision': 0.0, 'relaxed_recall': 0.0, 'relaxed_f1': 0}]\n"
     ]
    },
    {
     "name": "stderr",
     "output_type": "stream",
     "text": [
      "Skipping write for channel tags which has no readers\n",
      "Skipping write for channel tags which has no readers\n",
      "Skipping write for channel tags which has no readers\n"
     ]
    },
    {
     "name": "stdout",
     "output_type": "stream",
     "text": [
      "['baseline-with-misleading-table', 'prompt-00-baseline.txt', {'precision': 0.0, 'recall': 0.0, 'f1': 0, 'relaxed_precision': 0.0, 'relaxed_recall': 0.0, 'relaxed_f1': 0}]\n"
     ]
    },
    {
     "name": "stderr",
     "output_type": "stream",
     "text": [
      "Skipping write for channel tags which has no readers\n",
      "Skipping write for channel tags which has no readers\n",
      "Skipping write for channel tags which has no readers\n"
     ]
    },
    {
     "name": "stdout",
     "output_type": "stream",
     "text": [
      "['baseline-with-misleading-table', 'prompt-01-persona.txt', {'precision': 0.0, 'recall': 0.0, 'f1': 0, 'relaxed_precision': 0.0, 'relaxed_recall': 0.0, 'relaxed_f1': 0}]\n"
     ]
    },
    {
     "name": "stderr",
     "output_type": "stream",
     "text": [
      "Skipping write for channel tags which has no readers\n",
      "Skipping write for channel tags which has no readers\n",
      "Skipping write for channel tags which has no readers\n"
     ]
    },
    {
     "name": "stdout",
     "output_type": "stream",
     "text": [
      "['baseline-with-misleading-table', 'prompt-02-few-shot-example.txt', {'precision': 0.0, 'recall': 0.0, 'f1': 0, 'relaxed_precision': 0.0, 'relaxed_recall': 0.0, 'relaxed_f1': 0}]\n"
     ]
    },
    {
     "name": "stderr",
     "output_type": "stream",
     "text": [
      "Skipping write for channel tags which has no readers\n",
      "Skipping write for channel tags which has no readers\n",
      "Skipping write for channel tags which has no readers\n"
     ]
    },
    {
     "name": "stdout",
     "output_type": "stream",
     "text": [
      "['baseline-with-misleading-table', 'prompt-03-chain-of-thought.txt', {'precision': 0.0, 'recall': 0.0, 'f1': 0, 'relaxed_precision': 0.0, 'relaxed_recall': 0.0, 'relaxed_f1': 0}]\n"
     ]
    },
    {
     "name": "stderr",
     "output_type": "stream",
     "text": [
      "Skipping write for channel tags which has no readers\n",
      "Skipping write for channel tags which has no readers\n",
      "Skipping write for channel tags which has no readers\n"
     ]
    },
    {
     "name": "stdout",
     "output_type": "stream",
     "text": [
      "['baseline-with-misleading-table', 'prompt-05-tree-of-thought-persona.txt', {'precision': 0.0, 'recall': 0.0, 'f1': 0, 'relaxed_precision': 0.0, 'relaxed_recall': 0.0, 'relaxed_f1': 0}]\n"
     ]
    },
    {
     "name": "stderr",
     "output_type": "stream",
     "text": [
      "Skipping write for channel tags which has no readers\n",
      "Skipping write for channel tags which has no readers\n",
      "Skipping write for channel tags which has no readers\n"
     ]
    },
    {
     "name": "stdout",
     "output_type": "stream",
     "text": [
      "['baseline-with-misleading-table', 'prompt-06-processmining-knowledge.txt', {'precision': 0.0, 'recall': 0.0, 'f1': 0, 'relaxed_precision': 0.0, 'relaxed_recall': 0.0, 'relaxed_f1': 0}]\n"
     ]
    },
    {
     "name": "stderr",
     "output_type": "stream",
     "text": [
      "Skipping write for channel tags which has no readers\n",
      "Skipping write for channel tags which has no readers\n",
      "Skipping write for channel tags which has no readers\n"
     ]
    },
    {
     "name": "stdout",
     "output_type": "stream",
     "text": [
      "['baseline-with-misleading-table', 'prompt-07-BPI2016.txt', {'precision': 0.0, 'recall': 0.0, 'f1': 0, 'relaxed_precision': 0.0, 'relaxed_recall': 0.0, 'relaxed_f1': 0}]\n"
     ]
    },
    {
     "name": "stderr",
     "output_type": "stream",
     "text": [
      "Skipping write for channel tags which has no readers\n",
      "Skipping write for channel tags which has no readers\n",
      "Skipping write for channel tags which has no readers\n"
     ]
    },
    {
     "name": "stdout",
     "output_type": "stream",
     "text": [
      "['baseline-with-misleading-table', 'prompt-07-RunningExample.txt', {'precision': 0.0, 'recall': 0.0, 'f1': 0, 'relaxed_precision': 0.0, 'relaxed_recall': 0.0, 'relaxed_f1': 0}]\n"
     ]
    },
    {
     "name": "stderr",
     "output_type": "stream",
     "text": [
      "Skipping write for channel tags which has no readers\n",
      "Skipping write for channel tags which has no readers\n",
      "Skipping write for channel tags which has no readers\n"
     ]
    },
    {
     "name": "stdout",
     "output_type": "stream",
     "text": [
      "['baseline-with-misleading-table', 'prompt-07-UWV.txt', {'precision': 0.0, 'recall': 0.0, 'f1': 0, 'relaxed_precision': 0.0, 'relaxed_recall': 0.0, 'relaxed_f1': 0}]\n",
      "CREATE TABLE \"configuration\" (\"id\" TEXT, \"config_prop_id\" TEXT, \"version\" TEXT, PRIMARY KEY (\"id\"))\n",
      "CREATE TABLE \"invoice\" (\"id\" TEXT, \"order_id\" TEXT, \"creation_date\" DATETIME, PRIMARY KEY (\"id\"), FOREIGN KEY (\"order_id\") REFERENCES \"order\"(\"id\"))\n",
      "CREATE TABLE \"order\" (\"id\" TEXT, \"creation_date\" DATETIME, PRIMARY KEY (\"id\"))\n",
      "CREATE TABLE \"payment\" (\"id\" TEXT, \"invoice_id\" TEXT, \"creation_date\" DATETIME, PRIMARY KEY (\"id\"), FOREIGN KEY (\"invoice_id\") REFERENCES \"invoice\"(\"id\"))\n",
      "CREATE TABLE \"shipment\" (\"id\" TEXT, \"order_id\" TEXT, \"creation_date\" DATETIME, PRIMARY KEY (\"id\"), FOREIGN KEY (\"order_id\") REFERENCES \"order\"(\"id\"))\n",
      "Data inserted into table order\n",
      "Data inserted into table invoice\n",
      "Data inserted into table payment\n",
      "Data inserted into table shipment\n",
      "Data inserted into table configuration\n",
      "Database created: testDBs/baseline-with-useless-table/example.db\n"
     ]
    },
    {
     "name": "stderr",
     "output_type": "stream",
     "text": [
      "Skipping write for channel tags which has no readers\n",
      "Skipping write for channel tags which has no readers\n",
      "Skipping write for channel tags which has no readers\n"
     ]
    },
    {
     "name": "stdout",
     "output_type": "stream",
     "text": [
      "['baseline-with-useless-table', 'prompt-baseline.txt', {'precision': 0.0, 'recall': 0.0, 'f1': 0, 'relaxed_precision': 0.0, 'relaxed_recall': 0.0, 'relaxed_f1': 0}]\n"
     ]
    },
    {
     "name": "stderr",
     "output_type": "stream",
     "text": [
      "Skipping write for channel tags which has no readers\n",
      "Skipping write for channel tags which has no readers\n",
      "Skipping write for channel tags which has no readers\n"
     ]
    },
    {
     "name": "stdout",
     "output_type": "stream",
     "text": [
      "['baseline-with-useless-table', 'prompt-chain-of-thought.txt', {'precision': 0.0, 'recall': 0.0, 'f1': 0, 'relaxed_precision': 0.0, 'relaxed_recall': 0.0, 'relaxed_f1': 0}]\n"
     ]
    },
    {
     "name": "stderr",
     "output_type": "stream",
     "text": [
      "Skipping write for channel tags which has no readers\n",
      "Skipping write for channel tags which has no readers\n",
      "Skipping write for channel tags which has no readers\n"
     ]
    },
    {
     "name": "stdout",
     "output_type": "stream",
     "text": [
      "['baseline-with-useless-table', 'prompt-few-shot-example.txt', {'precision': 0.0, 'recall': 0.0, 'f1': 0, 'relaxed_precision': 0.0, 'relaxed_recall': 0.0, 'relaxed_f1': 0}]\n"
     ]
    },
    {
     "name": "stderr",
     "output_type": "stream",
     "text": [
      "Skipping write for channel tags which has no readers\n",
      "Skipping write for channel tags which has no readers\n",
      "Skipping write for channel tags which has no readers\n"
     ]
    },
    {
     "name": "stdout",
     "output_type": "stream",
     "text": [
      "['baseline-with-useless-table', 'prompt-MD1.txt', {'precision': 0.0, 'recall': 0.0, 'f1': 0, 'relaxed_precision': 0.0, 'relaxed_recall': 0.0, 'relaxed_f1': 0}]\n"
     ]
    },
    {
     "name": "stderr",
     "output_type": "stream",
     "text": [
      "Skipping write for channel tags which has no readers\n",
      "Skipping write for channel tags which has no readers\n",
      "Skipping write for channel tags which has no readers\n"
     ]
    },
    {
     "name": "stdout",
     "output_type": "stream",
     "text": [
      "['baseline-with-useless-table', 'prompt-MD2.txt', {'precision': 0.0, 'recall': 0.0, 'f1': 0, 'relaxed_precision': 0.0, 'relaxed_recall': 0.0, 'relaxed_f1': 0}]\n"
     ]
    },
    {
     "name": "stderr",
     "output_type": "stream",
     "text": [
      "Skipping write for channel tags which has no readers\n",
      "Skipping write for channel tags which has no readers\n",
      "Skipping write for channel tags which has no readers\n"
     ]
    },
    {
     "name": "stdout",
     "output_type": "stream",
     "text": [
      "['baseline-with-useless-table', 'prompt-persona.txt', {'precision': 0.0, 'recall': 0.0, 'f1': 0, 'relaxed_precision': 0.0, 'relaxed_recall': 0.0, 'relaxed_f1': 0}]\n"
     ]
    },
    {
     "name": "stderr",
     "output_type": "stream",
     "text": [
      "Skipping write for channel tags which has no readers\n",
      "Skipping write for channel tags which has no readers\n",
      "Skipping write for channel tags which has no readers\n"
     ]
    },
    {
     "name": "stdout",
     "output_type": "stream",
     "text": [
      "['baseline-with-useless-table', 'prompt-tree-of-thought.txt', {'precision': 0.0, 'recall': 0.0, 'f1': 0, 'relaxed_precision': 0.0, 'relaxed_recall': 0.0, 'relaxed_f1': 0}]\n"
     ]
    },
    {
     "name": "stderr",
     "output_type": "stream",
     "text": [
      "Skipping write for channel tags which has no readers\n",
      "Skipping write for channel tags which has no readers\n",
      "Skipping write for channel tags which has no readers\n"
     ]
    },
    {
     "name": "stdout",
     "output_type": "stream",
     "text": [
      "['baseline-with-useless-table', 'prompt-tree-of-thought_persona.txt', {'precision': 0.0, 'recall': 0.0, 'f1': 0, 'relaxed_precision': 0.0, 'relaxed_recall': 0.0, 'relaxed_f1': 0}]\n"
     ]
    },
    {
     "name": "stderr",
     "output_type": "stream",
     "text": [
      "Skipping write for channel tags which has no readers\n",
      "Skipping write for channel tags which has no readers\n",
      "Skipping write for channel tags which has no readers\n"
     ]
    },
    {
     "name": "stdout",
     "output_type": "stream",
     "text": [
      "['baseline-with-useless-table', 'prompt-04-tree-of-thought.txt', {'precision': 0.0, 'recall': 0.0, 'f1': 0, 'relaxed_precision': 0.0, 'relaxed_recall': 0.0, 'relaxed_f1': 0}]\n"
     ]
    },
    {
     "name": "stderr",
     "output_type": "stream",
     "text": [
      "Skipping write for channel tags which has no readers\n",
      "Skipping write for channel tags which has no readers\n",
      "Skipping write for channel tags which has no readers\n"
     ]
    },
    {
     "name": "stdout",
     "output_type": "stream",
     "text": [
      "['baseline-with-useless-table', 'prompt-00-baseline.txt', {'precision': 0.0, 'recall': 0.0, 'f1': 0, 'relaxed_precision': 0.0, 'relaxed_recall': 0.0, 'relaxed_f1': 0}]\n"
     ]
    },
    {
     "name": "stderr",
     "output_type": "stream",
     "text": [
      "Skipping write for channel tags which has no readers\n",
      "Skipping write for channel tags which has no readers\n",
      "Skipping write for channel tags which has no readers\n"
     ]
    },
    {
     "name": "stdout",
     "output_type": "stream",
     "text": [
      "['baseline-with-useless-table', 'prompt-01-persona.txt', {'precision': 0.0, 'recall': 0.0, 'f1': 0, 'relaxed_precision': 0.0, 'relaxed_recall': 0.0, 'relaxed_f1': 0}]\n"
     ]
    },
    {
     "name": "stderr",
     "output_type": "stream",
     "text": [
      "Skipping write for channel tags which has no readers\n",
      "Skipping write for channel tags which has no readers\n",
      "Skipping write for channel tags which has no readers\n"
     ]
    },
    {
     "name": "stdout",
     "output_type": "stream",
     "text": [
      "['baseline-with-useless-table', 'prompt-02-few-shot-example.txt', {'precision': 0.0, 'recall': 0.0, 'f1': 0, 'relaxed_precision': 0.0, 'relaxed_recall': 0.0, 'relaxed_f1': 0}]\n"
     ]
    },
    {
     "name": "stderr",
     "output_type": "stream",
     "text": [
      "Skipping write for channel tags which has no readers\n",
      "Skipping write for channel tags which has no readers\n",
      "Skipping write for channel tags which has no readers\n"
     ]
    },
    {
     "name": "stdout",
     "output_type": "stream",
     "text": [
      "['baseline-with-useless-table', 'prompt-03-chain-of-thought.txt', {'precision': 0.0, 'recall': 0.0, 'f1': 0, 'relaxed_precision': 0.0, 'relaxed_recall': 0.0, 'relaxed_f1': 0}]\n"
     ]
    },
    {
     "name": "stderr",
     "output_type": "stream",
     "text": [
      "Skipping write for channel tags which has no readers\n",
      "Skipping write for channel tags which has no readers\n",
      "Skipping write for channel tags which has no readers\n"
     ]
    },
    {
     "name": "stdout",
     "output_type": "stream",
     "text": [
      "['baseline-with-useless-table', 'prompt-05-tree-of-thought-persona.txt', {'precision': 0.0, 'recall': 0.0, 'f1': 0, 'relaxed_precision': 0.0, 'relaxed_recall': 0.0, 'relaxed_f1': 0}]\n"
     ]
    },
    {
     "name": "stderr",
     "output_type": "stream",
     "text": [
      "Skipping write for channel tags which has no readers\n",
      "Skipping write for channel tags which has no readers\n",
      "Skipping write for channel tags which has no readers\n"
     ]
    },
    {
     "name": "stdout",
     "output_type": "stream",
     "text": [
      "['baseline-with-useless-table', 'prompt-06-processmining-knowledge.txt', 'Error in SQL statement.']\n"
     ]
    },
    {
     "name": "stderr",
     "output_type": "stream",
     "text": [
      "Skipping write for channel tags which has no readers\n",
      "Skipping write for channel tags which has no readers\n",
      "Skipping write for channel tags which has no readers\n"
     ]
    },
    {
     "name": "stdout",
     "output_type": "stream",
     "text": [
      "['baseline-with-useless-table', 'prompt-07-BPI2016.txt', 'Error in SQL statement.']\n"
     ]
    },
    {
     "name": "stderr",
     "output_type": "stream",
     "text": [
      "Skipping write for channel tags which has no readers\n",
      "Skipping write for channel tags which has no readers\n",
      "Skipping write for channel tags which has no readers\n"
     ]
    },
    {
     "name": "stdout",
     "output_type": "stream",
     "text": [
      "['baseline-with-useless-table', 'prompt-07-RunningExample.txt', {'precision': 0.0, 'recall': 0.0, 'f1': 0, 'relaxed_precision': 0.0, 'relaxed_recall': 0.0, 'relaxed_f1': 0}]\n"
     ]
    },
    {
     "name": "stderr",
     "output_type": "stream",
     "text": [
      "Skipping write for channel tags which has no readers\n",
      "Skipping write for channel tags which has no readers\n",
      "Skipping write for channel tags which has no readers\n"
     ]
    },
    {
     "name": "stdout",
     "output_type": "stream",
     "text": [
      "['baseline-with-useless-table', 'prompt-07-UWV.txt', 'Error in SQL statement.']\n",
      "CREATE TABLE \"invoice\" (\"id\" TEXT, \"order_id\" TEXT, \"creation_date\" DATETIME, PRIMARY KEY (\"id\"), FOREIGN KEY (\"order_id\") REFERENCES \"order\"(\"id\"))\n",
      "CREATE TABLE \"order\" (\"id\" TEXT, \"creation_date\" DATETIME, PRIMARY KEY (\"id\"))\n",
      "CREATE TABLE \"payment\" (\"id\" TEXT, \"invoice_id\" TEXT, \"creation_date\" DATETIME, PRIMARY KEY (\"id\"), FOREIGN KEY (\"invoice_id\") REFERENCES \"invoice\"(\"id\"))\n",
      "CREATE TABLE \"shipment\" (\"id\" TEXT, \"order_id\" TEXT, \"creation_date\" DATETIME, PRIMARY KEY (\"id\"), FOREIGN KEY (\"order_id\") REFERENCES \"order\"(\"id\"))\n",
      "Data inserted into table order\n",
      "Data inserted into table invoice\n",
      "Data inserted into table payment\n",
      "Data inserted into table shipment\n",
      "Database created: testDBs/baseline (aka toy database)/example.db\n"
     ]
    },
    {
     "name": "stderr",
     "output_type": "stream",
     "text": [
      "Skipping write for channel tags which has no readers\n",
      "Skipping write for channel tags which has no readers\n",
      "Skipping write for channel tags which has no readers\n"
     ]
    },
    {
     "name": "stdout",
     "output_type": "stream",
     "text": [
      "['baseline (aka toy database)', 'prompt-baseline.txt', {'precision': 0.0, 'recall': 0.0, 'f1': 0, 'relaxed_precision': 0.0, 'relaxed_recall': 0.0, 'relaxed_f1': 0}]\n"
     ]
    },
    {
     "name": "stderr",
     "output_type": "stream",
     "text": [
      "Skipping write for channel tags which has no readers\n",
      "Skipping write for channel tags which has no readers\n",
      "Skipping write for channel tags which has no readers\n"
     ]
    },
    {
     "name": "stdout",
     "output_type": "stream",
     "text": [
      "['baseline (aka toy database)', 'prompt-chain-of-thought.txt', {'precision': 0.0, 'recall': 0.0, 'f1': 0, 'relaxed_precision': 0.0, 'relaxed_recall': 0.0, 'relaxed_f1': 0}]\n"
     ]
    },
    {
     "name": "stderr",
     "output_type": "stream",
     "text": [
      "Skipping write for channel tags which has no readers\n",
      "Skipping write for channel tags which has no readers\n",
      "Skipping write for channel tags which has no readers\n"
     ]
    },
    {
     "name": "stdout",
     "output_type": "stream",
     "text": [
      "['baseline (aka toy database)', 'prompt-few-shot-example.txt', \"Can't calculate Precision, Recall and F1. DataFrames must have the same columns\"]\n"
     ]
    },
    {
     "name": "stderr",
     "output_type": "stream",
     "text": [
      "Skipping write for channel tags which has no readers\n",
      "Skipping write for channel tags which has no readers\n",
      "Skipping write for channel tags which has no readers\n"
     ]
    },
    {
     "name": "stdout",
     "output_type": "stream",
     "text": [
      "['baseline (aka toy database)', 'prompt-MD1.txt', {'precision': 0.0, 'recall': 0.0, 'f1': 0, 'relaxed_precision': 0.0, 'relaxed_recall': 0.0, 'relaxed_f1': 0}]\n"
     ]
    },
    {
     "name": "stderr",
     "output_type": "stream",
     "text": [
      "Skipping write for channel tags which has no readers\n",
      "Skipping write for channel tags which has no readers\n",
      "Skipping write for channel tags which has no readers\n"
     ]
    },
    {
     "name": "stdout",
     "output_type": "stream",
     "text": [
      "['baseline (aka toy database)', 'prompt-MD2.txt', {'precision': 0.0, 'recall': 0.0, 'f1': 0, 'relaxed_precision': 0.0, 'relaxed_recall': 0.0, 'relaxed_f1': 0}]\n"
     ]
    },
    {
     "name": "stderr",
     "output_type": "stream",
     "text": [
      "Skipping write for channel tags which has no readers\n",
      "Skipping write for channel tags which has no readers\n",
      "Skipping write for channel tags which has no readers\n"
     ]
    },
    {
     "name": "stdout",
     "output_type": "stream",
     "text": [
      "['baseline (aka toy database)', 'prompt-persona.txt', {'precision': 0.0, 'recall': 0.0, 'f1': 0, 'relaxed_precision': 0.0, 'relaxed_recall': 0.0, 'relaxed_f1': 0}]\n"
     ]
    },
    {
     "name": "stderr",
     "output_type": "stream",
     "text": [
      "Skipping write for channel tags which has no readers\n",
      "Skipping write for channel tags which has no readers\n",
      "Skipping write for channel tags which has no readers\n"
     ]
    },
    {
     "name": "stdout",
     "output_type": "stream",
     "text": [
      "['baseline (aka toy database)', 'prompt-tree-of-thought.txt', 'Error in SQL statement.']\n"
     ]
    },
    {
     "name": "stderr",
     "output_type": "stream",
     "text": [
      "Skipping write for channel tags which has no readers\n",
      "Skipping write for channel tags which has no readers\n",
      "Skipping write for channel tags which has no readers\n"
     ]
    },
    {
     "name": "stdout",
     "output_type": "stream",
     "text": [
      "['baseline (aka toy database)', 'prompt-tree-of-thought_persona.txt', {'precision': 0.0, 'recall': 0.0, 'f1': 0, 'relaxed_precision': 0.0, 'relaxed_recall': 0.0, 'relaxed_f1': 0}]\n"
     ]
    },
    {
     "name": "stderr",
     "output_type": "stream",
     "text": [
      "Skipping write for channel tags which has no readers\n",
      "Skipping write for channel tags which has no readers\n",
      "Skipping write for channel tags which has no readers\n"
     ]
    },
    {
     "name": "stdout",
     "output_type": "stream",
     "text": [
      "['baseline (aka toy database)', 'prompt-04-tree-of-thought.txt', {'precision': 0.0, 'recall': 0.0, 'f1': 0, 'relaxed_precision': 0.0, 'relaxed_recall': 0.0, 'relaxed_f1': 0}]\n"
     ]
    },
    {
     "name": "stderr",
     "output_type": "stream",
     "text": [
      "Skipping write for channel tags which has no readers\n",
      "Skipping write for channel tags which has no readers\n",
      "Skipping write for channel tags which has no readers\n"
     ]
    },
    {
     "name": "stdout",
     "output_type": "stream",
     "text": [
      "['baseline (aka toy database)', 'prompt-00-baseline.txt', {'precision': 0.0, 'recall': 0.0, 'f1': 0, 'relaxed_precision': 0.0, 'relaxed_recall': 0.0, 'relaxed_f1': 0}]\n"
     ]
    },
    {
     "name": "stderr",
     "output_type": "stream",
     "text": [
      "Skipping write for channel tags which has no readers\n",
      "Skipping write for channel tags which has no readers\n",
      "Skipping write for channel tags which has no readers\n"
     ]
    },
    {
     "name": "stdout",
     "output_type": "stream",
     "text": [
      "['baseline (aka toy database)', 'prompt-01-persona.txt', {'precision': 0.0, 'recall': 0.0, 'f1': 0, 'relaxed_precision': 0.0, 'relaxed_recall': 0.0, 'relaxed_f1': 0}]\n"
     ]
    },
    {
     "name": "stderr",
     "output_type": "stream",
     "text": [
      "Skipping write for channel tags which has no readers\n",
      "Skipping write for channel tags which has no readers\n",
      "Skipping write for channel tags which has no readers\n"
     ]
    },
    {
     "name": "stdout",
     "output_type": "stream",
     "text": [
      "['baseline (aka toy database)', 'prompt-02-few-shot-example.txt', {'precision': 0.0, 'recall': 0.0, 'f1': 0, 'relaxed_precision': 0.0, 'relaxed_recall': 0.0, 'relaxed_f1': 0}]\n"
     ]
    },
    {
     "name": "stderr",
     "output_type": "stream",
     "text": [
      "Skipping write for channel tags which has no readers\n",
      "Skipping write for channel tags which has no readers\n",
      "Skipping write for channel tags which has no readers\n"
     ]
    },
    {
     "name": "stdout",
     "output_type": "stream",
     "text": [
      "['baseline (aka toy database)', 'prompt-03-chain-of-thought.txt', {'precision': 0.0, 'recall': 0.0, 'f1': 0, 'relaxed_precision': 0.0, 'relaxed_recall': 0.0, 'relaxed_f1': 0}]\n"
     ]
    },
    {
     "name": "stderr",
     "output_type": "stream",
     "text": [
      "Skipping write for channel tags which has no readers\n",
      "Skipping write for channel tags which has no readers\n",
      "Skipping write for channel tags which has no readers\n"
     ]
    },
    {
     "name": "stdout",
     "output_type": "stream",
     "text": [
      "['baseline (aka toy database)', 'prompt-05-tree-of-thought-persona.txt', {'precision': 0.0, 'recall': 0.0, 'f1': 0, 'relaxed_precision': 0.0, 'relaxed_recall': 0.0, 'relaxed_f1': 0}]\n"
     ]
    },
    {
     "name": "stderr",
     "output_type": "stream",
     "text": [
      "Skipping write for channel tags which has no readers\n",
      "Skipping write for channel tags which has no readers\n",
      "Skipping write for channel tags which has no readers\n"
     ]
    },
    {
     "name": "stdout",
     "output_type": "stream",
     "text": [
      "['baseline (aka toy database)', 'prompt-06-processmining-knowledge.txt', {'precision': 0.0, 'recall': 0.0, 'f1': 0, 'relaxed_precision': 0.0, 'relaxed_recall': 0.0, 'relaxed_f1': 0}]\n"
     ]
    },
    {
     "name": "stderr",
     "output_type": "stream",
     "text": [
      "Skipping write for channel tags which has no readers\n",
      "Skipping write for channel tags which has no readers\n",
      "Skipping write for channel tags which has no readers\n"
     ]
    },
    {
     "name": "stdout",
     "output_type": "stream",
     "text": [
      "['baseline (aka toy database)', 'prompt-07-BPI2016.txt', 'Error in SQL statement.']\n"
     ]
    },
    {
     "name": "stderr",
     "output_type": "stream",
     "text": [
      "Skipping write for channel tags which has no readers\n",
      "Skipping write for channel tags which has no readers\n",
      "Skipping write for channel tags which has no readers\n"
     ]
    },
    {
     "name": "stdout",
     "output_type": "stream",
     "text": [
      "['baseline (aka toy database)', 'prompt-07-RunningExample.txt', {'precision': 0.0, 'recall': 0.0, 'f1': 0, 'relaxed_precision': 0.0, 'relaxed_recall': 0.0, 'relaxed_f1': 0}]\n"
     ]
    },
    {
     "name": "stderr",
     "output_type": "stream",
     "text": [
      "Skipping write for channel tags which has no readers\n",
      "Skipping write for channel tags which has no readers\n",
      "Skipping write for channel tags which has no readers\n"
     ]
    },
    {
     "name": "stdout",
     "output_type": "stream",
     "text": [
      "['baseline (aka toy database)', 'prompt-07-UWV.txt', {'precision': 0.0, 'recall': 0.0, 'f1': 0, 'relaxed_precision': 0.0, 'relaxed_recall': 0.0, 'relaxed_f1': 0}]\n",
      "CREATE TABLE \"BPI2016_Clicks_Logged_In\" (\"CustomerID\" TEXT, \"AgeCategory\" TEXT, \"Gender\" TEXT, \"Office_U\" TEXT, \"Office_W\" TEXT, \"SessionID\" TEXT, \"IPID\" TEXT, \"ClickTimestamp\" DATETIME, \"VHOST\" TEXT, \"URL_FILE\" TEXT, \"PAGE_NAME\" TEXT, \"REF_URL_category\" TEXT, \"page_load_error\" TEXT, \"page_action_detail\" TEXT, \"tip\" TEXT, \"service_detail\" TEXT, \"xps_info\" TEXT, \"page_action_detail_EN\" TEXT, \"service_detail_EN\" TEXT, \"tip_EN\" TEXT, PRIMARY KEY (\"CustomerID\", \"ClickTimestamp\"))\n",
      "CREATE TABLE \"BPI2016_Clicks_NOT_Logged_In\" (\"SessionID\" TEXT, \"IPID\" TEXT, \"ClickTimestamp\" DATETIME, \"VHOST\" TEXT, \"URL_FILE\" TEXT, \"PAGE_NAME\" TEXT, \"REF_URL_category\" TEXT, \"page_load_error\" TEXT, \"page_action_detail\" TEXT, \"tip\" TEXT, \"service_detail\" TEXT, \"xps_info\" TEXT, \"page_action_detail_EN\" TEXT, \"service_detail_EN\" TEXT, \"tip_EN\" TEXT, PRIMARY KEY (\"SessionID\", \"ClickTimestamp\"))\n",
      "CREATE TABLE \"BPI2016_Complaints\" (\"CustomerID\" TEXT, \"AgeCategory\" TEXT, \"Gender\" TEXT, \"Office_U\" TEXT, \"Office_W\" TEXT, \"ComplaintDossierID\" TEXT, \"ComplaintID\" TEXT, \"ComplaintDate\" DATETIME, \"ContactChannelID\" TEXT, \"ComplaintThemeID\" TEXT, \"ComplaintSubthemeID\" TEXT, \"ComplaintTopicID\" TEXT, \"ComplaintTheme\" TEXT, \"ComplaintSubtheme\" TEXT, \"ComplaintTopic\" TEXT, \"ComplaintTheme_EN\" TEXT, \"ComplaintSubtheme_EN\" TEXT, \"ComplaintTopic_EN\" TEXT, PRIMARY KEY (\"CustomerID\"))\n",
      "CREATE TABLE \"BPI2016_Questions\" (\"CustomerID\" TEXT, \"AgeCategory\" TEXT, \"Gender\" TEXT, \"Office_U\" TEXT, \"Office_W\" TEXT, \"QuestionTimestampStart\" DATETIME, \"QuestionTimestampEnd\" TEXT, \"QuestionThemeID\" TEXT, \"QuestionSubthemeID\" TEXT, \"QuestionTopicID\" TEXT, \"QuestionTheme\" TEXT, \"QuestionSubtheme\" TEXT, \"QuestionTopic\" TEXT, \"QuestionTheme_EN\" TEXT, \"QuestionSubtheme_EN\" TEXT, \"QuestionTopic_EN\" TEXT, PRIMARY KEY (\"CustomerID\", \"QuestionTimestampStart\"))\n",
      "CREATE TABLE \"BPI2016_Werkmap_Messages\" (\"CustomerID\" TEXT, \"AgeCategory\" TEXT, \"Gender\" TEXT, \"Office_U\" TEXT, \"Office_W\" TEXT, \"WerkmapTimestamp\" DATETIME, \"EventType\" TEXT, \"HandlingChannelID\" TEXT, PRIMARY KEY (\"CustomerID\", \"WerkmapTimestamp\"))\n",
      "Data inserted into table BPI2016_Complaints\n",
      "Data inserted into table BPI2016_Questions\n",
      "Data inserted into table BPI2016_Clicks_Logged_In\n",
      "Data inserted into table BPI2016_Clicks_NOT_Logged_In\n",
      "Data inserted into table BPI2016_Werkmap_Messages\n",
      "Database created: testDBs/BPI2016-V31/example.db\n"
     ]
    },
    {
     "name": "stderr",
     "output_type": "stream",
     "text": [
      "Skipping write for channel tags which has no readers\n",
      "Skipping write for channel tags which has no readers\n",
      "Skipping write for channel tags which has no readers\n"
     ]
    },
    {
     "name": "stdout",
     "output_type": "stream",
     "text": [
      "['BPI2016-V31', 'prompt-baseline.txt', {'precision': 0.571, 'recall': 0.571, 'f1': 0.571, 'relaxed_precision': 0.671, 'relaxed_recall': 0.671, 'relaxed_f1': 0.671}]\n"
     ]
    },
    {
     "name": "stderr",
     "output_type": "stream",
     "text": [
      "Skipping write for channel tags which has no readers\n",
      "Skipping write for channel tags which has no readers\n",
      "Skipping write for channel tags which has no readers\n"
     ]
    },
    {
     "name": "stdout",
     "output_type": "stream",
     "text": [
      "['BPI2016-V31', 'prompt-chain-of-thought.txt', {'precision': 0.0, 'recall': 0.0, 'f1': 0, 'relaxed_precision': 0.671, 'relaxed_recall': 0.671, 'relaxed_f1': 0.671}]\n"
     ]
    },
    {
     "name": "stderr",
     "output_type": "stream",
     "text": [
      "Skipping write for channel tags which has no readers\n",
      "Skipping write for channel tags which has no readers\n",
      "Skipping write for channel tags which has no readers\n"
     ]
    },
    {
     "name": "stdout",
     "output_type": "stream",
     "text": [
      "['BPI2016-V31', 'prompt-few-shot-example.txt', 'Error in SQL statement.']\n"
     ]
    },
    {
     "name": "stderr",
     "output_type": "stream",
     "text": [
      "Skipping write for channel tags which has no readers\n",
      "Skipping write for channel tags which has no readers\n",
      "Skipping write for channel tags which has no readers\n"
     ]
    },
    {
     "name": "stdout",
     "output_type": "stream",
     "text": [
      "['BPI2016-V31', 'prompt-MD1.txt', {'precision': 0.0, 'recall': 0.0, 'f1': 0, 'relaxed_precision': 0.671, 'relaxed_recall': 0.614, 'relaxed_f1': 0.642}]\n"
     ]
    },
    {
     "name": "stderr",
     "output_type": "stream",
     "text": [
      "Skipping write for channel tags which has no readers\n",
      "Skipping write for channel tags which has no readers\n",
      "Skipping write for channel tags which has no readers\n"
     ]
    },
    {
     "name": "stdout",
     "output_type": "stream",
     "text": [
      "['BPI2016-V31', 'prompt-MD2.txt', {'precision': 0.0, 'recall': 0.0, 'f1': 0, 'relaxed_precision': 0.671, 'relaxed_recall': 0.671, 'relaxed_f1': 0.671}]\n"
     ]
    },
    {
     "name": "stderr",
     "output_type": "stream",
     "text": [
      "Skipping write for channel tags which has no readers\n",
      "Skipping write for channel tags which has no readers\n",
      "Skipping write for channel tags which has no readers\n"
     ]
    },
    {
     "name": "stdout",
     "output_type": "stream",
     "text": [
      "['BPI2016-V31', 'prompt-persona.txt', {'precision': 0.0, 'recall': 0.0, 'f1': 0, 'relaxed_precision': 0.671, 'relaxed_recall': 0.671, 'relaxed_f1': 0.671}]\n"
     ]
    },
    {
     "name": "stderr",
     "output_type": "stream",
     "text": [
      "Skipping write for channel tags which has no readers\n",
      "Skipping write for channel tags which has no readers\n",
      "Skipping write for channel tags which has no readers\n"
     ]
    },
    {
     "name": "stdout",
     "output_type": "stream",
     "text": [
      "['BPI2016-V31', 'prompt-tree-of-thought.txt', {'precision': 0.007, 'recall': 0.007, 'f1': 0.007, 'relaxed_precision': 0.671, 'relaxed_recall': 0.671, 'relaxed_f1': 0.671}]\n"
     ]
    },
    {
     "name": "stderr",
     "output_type": "stream",
     "text": [
      "Skipping write for channel tags which has no readers\n",
      "Skipping write for channel tags which has no readers\n",
      "Skipping write for channel tags which has no readers\n"
     ]
    },
    {
     "name": "stdout",
     "output_type": "stream",
     "text": [
      "['BPI2016-V31', 'prompt-tree-of-thought_persona.txt', {'precision': 0.007, 'recall': 0.007, 'f1': 0.007, 'relaxed_precision': 0.671, 'relaxed_recall': 0.671, 'relaxed_f1': 0.671}]\n"
     ]
    },
    {
     "name": "stderr",
     "output_type": "stream",
     "text": [
      "Skipping write for channel tags which has no readers\n",
      "Skipping write for channel tags which has no readers\n",
      "Skipping write for channel tags which has no readers\n"
     ]
    },
    {
     "name": "stdout",
     "output_type": "stream",
     "text": [
      "['BPI2016-V31', 'prompt-04-tree-of-thought.txt', {'precision': 0.007, 'recall': 0.007, 'f1': 0.007, 'relaxed_precision': 0.671, 'relaxed_recall': 0.671, 'relaxed_f1': 0.671}]\n"
     ]
    },
    {
     "ename": "RateLimitError",
     "evalue": "Error code: 429 - {'error': {'message': 'You exceeded your current quota, please check your plan and billing details. For more information on this error, read the docs: https://platform.openai.com/docs/guides/error-codes/api-errors.', 'type': 'insufficient_quota', 'param': None, 'code': 'insufficient_quota'}}",
     "output_type": "error",
     "traceback": [
      "\u001b[1;31m---------------------------------------------------------------------------\u001b[0m",
      "\u001b[1;31mRateLimitError\u001b[0m                            Traceback (most recent call last)",
      "Cell \u001b[1;32mIn[2], line 34\u001b[0m\n\u001b[0;32m     32\u001b[0m AgentState \u001b[38;5;241m=\u001b[39m {\u001b[38;5;124m\"\u001b[39m\u001b[38;5;124mmessages\u001b[39m\u001b[38;5;124m\"\u001b[39m: [prompt]}\n\u001b[0;32m     33\u001b[0m a \u001b[38;5;241m=\u001b[39m SimpleApp(path_to_db \u001b[38;5;241m=\u001b[39m db_output_dir, path_to_groud_truth_eventlog\u001b[38;5;241m=\u001b[39mpath_to_groud_truth_eventlog, llm_model \u001b[38;5;241m=\u001b[39m llm_model)\n\u001b[1;32m---> 34\u001b[0m result \u001b[38;5;241m=\u001b[39m \u001b[43ma\u001b[49m\u001b[38;5;241;43m.\u001b[39;49m\u001b[43minvoke\u001b[49m\u001b[43m(\u001b[49m\u001b[43mAgentState\u001b[49m\u001b[43m)\u001b[49m\n\u001b[0;32m     35\u001b[0m save_results(chain_response\u001b[38;5;241m=\u001b[39mresult, output_dir\u001b[38;5;241m=\u001b[39mresult_output_dir, prompt_file\u001b[38;5;241m=\u001b[39mprompt_file_name)\n\u001b[0;32m     36\u001b[0m \u001b[38;5;66;03m# print('\\n EXECUTED SQL STATEMNENT: \\n', result['agent_response'])\u001b[39;00m\n\u001b[0;32m     37\u001b[0m \u001b[38;5;66;03m# print(result)\u001b[39;00m\n",
      "File \u001b[1;32mf:\\event-log-extraction-assistant\\utils\\apps.py:55\u001b[0m, in \u001b[0;36mSimpleApp.invoke\u001b[1;34m(self, AgentState)\u001b[0m\n\u001b[0;32m     53\u001b[0m workflow\u001b[38;5;241m.\u001b[39mset_finish_point(\u001b[38;5;124m\"\u001b[39m\u001b[38;5;124mdfcomparator\u001b[39m\u001b[38;5;124m\"\u001b[39m)\n\u001b[0;32m     54\u001b[0m app \u001b[38;5;241m=\u001b[39m workflow\u001b[38;5;241m.\u001b[39mcompile()\n\u001b[1;32m---> 55\u001b[0m \u001b[43mapp\u001b[49m\u001b[38;5;241;43m.\u001b[39;49m\u001b[43minvoke\u001b[49m\u001b[43m(\u001b[49m\u001b[43mAgentState\u001b[49m\u001b[43m)\u001b[49m\n\u001b[0;32m     56\u001b[0m \u001b[38;5;28;01mreturn\u001b[39;00m AgentState\n",
      "File \u001b[1;32mc:\\Users\\kiran.busch\\anaconda3\\envs\\event-log-extraction-assistant\\lib\\site-packages\\langgraph\\pregel\\__init__.py:977\u001b[0m, in \u001b[0;36mPregel.invoke\u001b[1;34m(self, input, config, output_keys, input_keys, interrupt_before_nodes, interrupt_after_nodes, debug, **kwargs)\u001b[0m\n\u001b[0;32m    975\u001b[0m output_is_dict \u001b[38;5;241m=\u001b[39m \u001b[38;5;129;01mnot\u001b[39;00m \u001b[38;5;28misinstance\u001b[39m(output_keys, \u001b[38;5;28mstr\u001b[39m)\n\u001b[0;32m    976\u001b[0m latest: Union[\u001b[38;5;28mdict\u001b[39m[\u001b[38;5;28mstr\u001b[39m, Any], Any] \u001b[38;5;241m=\u001b[39m {} \u001b[38;5;28;01mif\u001b[39;00m output_is_dict \u001b[38;5;28;01melse\u001b[39;00m \u001b[38;5;28;01mNone\u001b[39;00m\n\u001b[1;32m--> 977\u001b[0m \u001b[38;5;28;01mfor\u001b[39;00m chunk \u001b[38;5;129;01min\u001b[39;00m \u001b[38;5;28mself\u001b[39m\u001b[38;5;241m.\u001b[39mstream(\n\u001b[0;32m    978\u001b[0m     \u001b[38;5;28minput\u001b[39m,\n\u001b[0;32m    979\u001b[0m     config,\n\u001b[0;32m    980\u001b[0m     stream_mode\u001b[38;5;241m=\u001b[39m\u001b[38;5;124m\"\u001b[39m\u001b[38;5;124mvalues\u001b[39m\u001b[38;5;124m\"\u001b[39m,\n\u001b[0;32m    981\u001b[0m     output_keys\u001b[38;5;241m=\u001b[39moutput_keys,\n\u001b[0;32m    982\u001b[0m     input_keys\u001b[38;5;241m=\u001b[39minput_keys,\n\u001b[0;32m    983\u001b[0m     interrupt_before_nodes\u001b[38;5;241m=\u001b[39minterrupt_before_nodes,\n\u001b[0;32m    984\u001b[0m     interrupt_after_nodes\u001b[38;5;241m=\u001b[39minterrupt_after_nodes,\n\u001b[0;32m    985\u001b[0m     debug\u001b[38;5;241m=\u001b[39mdebug,\n\u001b[0;32m    986\u001b[0m     \u001b[38;5;241m*\u001b[39m\u001b[38;5;241m*\u001b[39mkwargs,\n\u001b[0;32m    987\u001b[0m ):\n\u001b[0;32m    988\u001b[0m     latest \u001b[38;5;241m=\u001b[39m {\u001b[38;5;241m*\u001b[39m\u001b[38;5;241m*\u001b[39mlatest, \u001b[38;5;241m*\u001b[39m\u001b[38;5;241m*\u001b[39mchunk} \u001b[38;5;28;01mif\u001b[39;00m output_is_dict \u001b[38;5;28;01melse\u001b[39;00m chunk\n\u001b[0;32m    989\u001b[0m \u001b[38;5;28;01mreturn\u001b[39;00m latest\n",
      "File \u001b[1;32mc:\\Users\\kiran.busch\\anaconda3\\envs\\event-log-extraction-assistant\\lib\\site-packages\\langgraph\\pregel\\__init__.py:686\u001b[0m, in \u001b[0;36mPregel.stream\u001b[1;34m(self, input, config, stream_mode, output_keys, input_keys, interrupt_before_nodes, interrupt_after_nodes, debug)\u001b[0m\n\u001b[0;32m    679\u001b[0m done, inflight \u001b[38;5;241m=\u001b[39m concurrent\u001b[38;5;241m.\u001b[39mfutures\u001b[38;5;241m.\u001b[39mwait(\n\u001b[0;32m    680\u001b[0m     futures,\n\u001b[0;32m    681\u001b[0m     return_when\u001b[38;5;241m=\u001b[39mconcurrent\u001b[38;5;241m.\u001b[39mfutures\u001b[38;5;241m.\u001b[39mFIRST_EXCEPTION,\n\u001b[0;32m    682\u001b[0m     timeout\u001b[38;5;241m=\u001b[39m\u001b[38;5;28mself\u001b[39m\u001b[38;5;241m.\u001b[39mstep_timeout,\n\u001b[0;32m    683\u001b[0m )\n\u001b[0;32m    685\u001b[0m \u001b[38;5;66;03m# panic on failure or timeout\u001b[39;00m\n\u001b[1;32m--> 686\u001b[0m \u001b[43m_panic_or_proceed\u001b[49m\u001b[43m(\u001b[49m\u001b[43mdone\u001b[49m\u001b[43m,\u001b[49m\u001b[43m \u001b[49m\u001b[43minflight\u001b[49m\u001b[43m,\u001b[49m\u001b[43m \u001b[49m\u001b[43mstep\u001b[49m\u001b[43m)\u001b[49m\n\u001b[0;32m    688\u001b[0m \u001b[38;5;66;03m# combine pending writes from all tasks\u001b[39;00m\n\u001b[0;32m    689\u001b[0m pending_writes \u001b[38;5;241m=\u001b[39m deque[\u001b[38;5;28mtuple\u001b[39m[\u001b[38;5;28mstr\u001b[39m, Any]]()\n",
      "File \u001b[1;32mc:\\Users\\kiran.busch\\anaconda3\\envs\\event-log-extraction-assistant\\lib\\site-packages\\langgraph\\pregel\\__init__.py:1033\u001b[0m, in \u001b[0;36m_panic_or_proceed\u001b[1;34m(done, inflight, step)\u001b[0m\n\u001b[0;32m   1031\u001b[0m             inflight\u001b[38;5;241m.\u001b[39mpop()\u001b[38;5;241m.\u001b[39mcancel()\n\u001b[0;32m   1032\u001b[0m         \u001b[38;5;66;03m# raise the exception\u001b[39;00m\n\u001b[1;32m-> 1033\u001b[0m         \u001b[38;5;28;01mraise\u001b[39;00m exc\n\u001b[0;32m   1034\u001b[0m         \u001b[38;5;66;03m# TODO this is where retry of an entire step would happen\u001b[39;00m\n\u001b[0;32m   1036\u001b[0m \u001b[38;5;28;01mif\u001b[39;00m inflight:\n\u001b[0;32m   1037\u001b[0m     \u001b[38;5;66;03m# if we got here means we timed out\u001b[39;00m\n",
      "File \u001b[1;32mc:\\Users\\kiran.busch\\anaconda3\\envs\\event-log-extraction-assistant\\lib\\concurrent\\futures\\thread.py:58\u001b[0m, in \u001b[0;36m_WorkItem.run\u001b[1;34m(self)\u001b[0m\n\u001b[0;32m     55\u001b[0m     \u001b[38;5;28;01mreturn\u001b[39;00m\n\u001b[0;32m     57\u001b[0m \u001b[38;5;28;01mtry\u001b[39;00m:\n\u001b[1;32m---> 58\u001b[0m     result \u001b[38;5;241m=\u001b[39m \u001b[38;5;28mself\u001b[39m\u001b[38;5;241m.\u001b[39mfn(\u001b[38;5;241m*\u001b[39m\u001b[38;5;28mself\u001b[39m\u001b[38;5;241m.\u001b[39margs, \u001b[38;5;241m*\u001b[39m\u001b[38;5;241m*\u001b[39m\u001b[38;5;28mself\u001b[39m\u001b[38;5;241m.\u001b[39mkwargs)\n\u001b[0;32m     59\u001b[0m \u001b[38;5;28;01mexcept\u001b[39;00m \u001b[38;5;167;01mBaseException\u001b[39;00m \u001b[38;5;28;01mas\u001b[39;00m exc:\n\u001b[0;32m     60\u001b[0m     \u001b[38;5;28mself\u001b[39m\u001b[38;5;241m.\u001b[39mfuture\u001b[38;5;241m.\u001b[39mset_exception(exc)\n",
      "File \u001b[1;32mc:\\Users\\kiran.busch\\anaconda3\\envs\\event-log-extraction-assistant\\lib\\site-packages\\langchain_core\\runnables\\base.py:2499\u001b[0m, in \u001b[0;36mRunnableSequence.invoke\u001b[1;34m(self, input, config)\u001b[0m\n\u001b[0;32m   2497\u001b[0m \u001b[38;5;28;01mtry\u001b[39;00m:\n\u001b[0;32m   2498\u001b[0m     \u001b[38;5;28;01mfor\u001b[39;00m i, step \u001b[38;5;129;01min\u001b[39;00m \u001b[38;5;28menumerate\u001b[39m(\u001b[38;5;28mself\u001b[39m\u001b[38;5;241m.\u001b[39msteps):\n\u001b[1;32m-> 2499\u001b[0m         \u001b[38;5;28minput\u001b[39m \u001b[38;5;241m=\u001b[39m \u001b[43mstep\u001b[49m\u001b[38;5;241;43m.\u001b[39;49m\u001b[43minvoke\u001b[49m\u001b[43m(\u001b[49m\n\u001b[0;32m   2500\u001b[0m \u001b[43m            \u001b[49m\u001b[38;5;28;43minput\u001b[39;49m\u001b[43m,\u001b[49m\n\u001b[0;32m   2501\u001b[0m \u001b[43m            \u001b[49m\u001b[38;5;66;43;03m# mark each step as a child run\u001b[39;49;00m\n\u001b[0;32m   2502\u001b[0m \u001b[43m            \u001b[49m\u001b[43mpatch_config\u001b[49m\u001b[43m(\u001b[49m\n\u001b[0;32m   2503\u001b[0m \u001b[43m                \u001b[49m\u001b[43mconfig\u001b[49m\u001b[43m,\u001b[49m\u001b[43m \u001b[49m\u001b[43mcallbacks\u001b[49m\u001b[38;5;241;43m=\u001b[39;49m\u001b[43mrun_manager\u001b[49m\u001b[38;5;241;43m.\u001b[39;49m\u001b[43mget_child\u001b[49m\u001b[43m(\u001b[49m\u001b[38;5;124;43mf\u001b[39;49m\u001b[38;5;124;43m\"\u001b[39;49m\u001b[38;5;124;43mseq:step:\u001b[39;49m\u001b[38;5;132;43;01m{\u001b[39;49;00m\u001b[43mi\u001b[49m\u001b[38;5;241;43m+\u001b[39;49m\u001b[38;5;241;43m1\u001b[39;49m\u001b[38;5;132;43;01m}\u001b[39;49;00m\u001b[38;5;124;43m\"\u001b[39;49m\u001b[43m)\u001b[49m\n\u001b[0;32m   2504\u001b[0m \u001b[43m            \u001b[49m\u001b[43m)\u001b[49m\u001b[43m,\u001b[49m\n\u001b[0;32m   2505\u001b[0m \u001b[43m        \u001b[49m\u001b[43m)\u001b[49m\n\u001b[0;32m   2506\u001b[0m \u001b[38;5;66;03m# finish the root run\u001b[39;00m\n\u001b[0;32m   2507\u001b[0m \u001b[38;5;28;01mexcept\u001b[39;00m \u001b[38;5;167;01mBaseException\u001b[39;00m \u001b[38;5;28;01mas\u001b[39;00m e:\n",
      "File \u001b[1;32mc:\\Users\\kiran.busch\\anaconda3\\envs\\event-log-extraction-assistant\\lib\\site-packages\\langchain_core\\runnables\\base.py:3961\u001b[0m, in \u001b[0;36mRunnableLambda.invoke\u001b[1;34m(self, input, config, **kwargs)\u001b[0m\n\u001b[0;32m   3959\u001b[0m \u001b[38;5;250m\u001b[39m\u001b[38;5;124;03m\"\"\"Invoke this runnable synchronously.\"\"\"\u001b[39;00m\n\u001b[0;32m   3960\u001b[0m \u001b[38;5;28;01mif\u001b[39;00m \u001b[38;5;28mhasattr\u001b[39m(\u001b[38;5;28mself\u001b[39m, \u001b[38;5;124m\"\u001b[39m\u001b[38;5;124mfunc\u001b[39m\u001b[38;5;124m\"\u001b[39m):\n\u001b[1;32m-> 3961\u001b[0m     \u001b[38;5;28;01mreturn\u001b[39;00m \u001b[38;5;28mself\u001b[39m\u001b[38;5;241m.\u001b[39m_call_with_config(\n\u001b[0;32m   3962\u001b[0m         \u001b[38;5;28mself\u001b[39m\u001b[38;5;241m.\u001b[39m_invoke,\n\u001b[0;32m   3963\u001b[0m         \u001b[38;5;28minput\u001b[39m,\n\u001b[0;32m   3964\u001b[0m         \u001b[38;5;28mself\u001b[39m\u001b[38;5;241m.\u001b[39m_config(config, \u001b[38;5;28mself\u001b[39m\u001b[38;5;241m.\u001b[39mfunc),\n\u001b[0;32m   3965\u001b[0m         \u001b[38;5;241m*\u001b[39m\u001b[38;5;241m*\u001b[39mkwargs,\n\u001b[0;32m   3966\u001b[0m     )\n\u001b[0;32m   3967\u001b[0m \u001b[38;5;28;01melse\u001b[39;00m:\n\u001b[0;32m   3968\u001b[0m     \u001b[38;5;28;01mraise\u001b[39;00m \u001b[38;5;167;01mTypeError\u001b[39;00m(\n\u001b[0;32m   3969\u001b[0m         \u001b[38;5;124m\"\u001b[39m\u001b[38;5;124mCannot invoke a coroutine function synchronously.\u001b[39m\u001b[38;5;124m\"\u001b[39m\n\u001b[0;32m   3970\u001b[0m         \u001b[38;5;124m\"\u001b[39m\u001b[38;5;124mUse `ainvoke` instead.\u001b[39m\u001b[38;5;124m\"\u001b[39m\n\u001b[0;32m   3971\u001b[0m     )\n",
      "File \u001b[1;32mc:\\Users\\kiran.busch\\anaconda3\\envs\\event-log-extraction-assistant\\lib\\site-packages\\langchain_core\\runnables\\base.py:1625\u001b[0m, in \u001b[0;36mRunnable._call_with_config\u001b[1;34m(self, func, input, config, run_type, **kwargs)\u001b[0m\n\u001b[0;32m   1621\u001b[0m     context \u001b[38;5;241m=\u001b[39m copy_context()\n\u001b[0;32m   1622\u001b[0m     context\u001b[38;5;241m.\u001b[39mrun(var_child_runnable_config\u001b[38;5;241m.\u001b[39mset, child_config)\n\u001b[0;32m   1623\u001b[0m     output \u001b[38;5;241m=\u001b[39m cast(\n\u001b[0;32m   1624\u001b[0m         Output,\n\u001b[1;32m-> 1625\u001b[0m         context\u001b[38;5;241m.\u001b[39mrun(\n\u001b[0;32m   1626\u001b[0m             call_func_with_variable_args,  \u001b[38;5;66;03m# type: ignore[arg-type]\u001b[39;00m\n\u001b[0;32m   1627\u001b[0m             func,  \u001b[38;5;66;03m# type: ignore[arg-type]\u001b[39;00m\n\u001b[0;32m   1628\u001b[0m             \u001b[38;5;28minput\u001b[39m,  \u001b[38;5;66;03m# type: ignore[arg-type]\u001b[39;00m\n\u001b[0;32m   1629\u001b[0m             config,\n\u001b[0;32m   1630\u001b[0m             run_manager,\n\u001b[0;32m   1631\u001b[0m             \u001b[38;5;241m*\u001b[39m\u001b[38;5;241m*\u001b[39mkwargs,\n\u001b[0;32m   1632\u001b[0m         ),\n\u001b[0;32m   1633\u001b[0m     )\n\u001b[0;32m   1634\u001b[0m \u001b[38;5;28;01mexcept\u001b[39;00m \u001b[38;5;167;01mBaseException\u001b[39;00m \u001b[38;5;28;01mas\u001b[39;00m e:\n\u001b[0;32m   1635\u001b[0m     run_manager\u001b[38;5;241m.\u001b[39mon_chain_error(e)\n",
      "File \u001b[1;32mc:\\Users\\kiran.busch\\anaconda3\\envs\\event-log-extraction-assistant\\lib\\site-packages\\langchain_core\\runnables\\config.py:347\u001b[0m, in \u001b[0;36mcall_func_with_variable_args\u001b[1;34m(func, input, config, run_manager, **kwargs)\u001b[0m\n\u001b[0;32m    345\u001b[0m \u001b[38;5;28;01mif\u001b[39;00m run_manager \u001b[38;5;129;01mis\u001b[39;00m \u001b[38;5;129;01mnot\u001b[39;00m \u001b[38;5;28;01mNone\u001b[39;00m \u001b[38;5;129;01mand\u001b[39;00m accepts_run_manager(func):\n\u001b[0;32m    346\u001b[0m     kwargs[\u001b[38;5;124m\"\u001b[39m\u001b[38;5;124mrun_manager\u001b[39m\u001b[38;5;124m\"\u001b[39m] \u001b[38;5;241m=\u001b[39m run_manager\n\u001b[1;32m--> 347\u001b[0m \u001b[38;5;28;01mreturn\u001b[39;00m func(\u001b[38;5;28minput\u001b[39m, \u001b[38;5;241m*\u001b[39m\u001b[38;5;241m*\u001b[39mkwargs)\n",
      "File \u001b[1;32mc:\\Users\\kiran.busch\\anaconda3\\envs\\event-log-extraction-assistant\\lib\\site-packages\\langchain_core\\runnables\\base.py:3835\u001b[0m, in \u001b[0;36mRunnableLambda._invoke\u001b[1;34m(self, input, run_manager, config, **kwargs)\u001b[0m\n\u001b[0;32m   3833\u001b[0m                 output \u001b[38;5;241m=\u001b[39m chunk\n\u001b[0;32m   3834\u001b[0m \u001b[38;5;28;01melse\u001b[39;00m:\n\u001b[1;32m-> 3835\u001b[0m     output \u001b[38;5;241m=\u001b[39m call_func_with_variable_args(\n\u001b[0;32m   3836\u001b[0m         \u001b[38;5;28mself\u001b[39m\u001b[38;5;241m.\u001b[39mfunc, \u001b[38;5;28minput\u001b[39m, config, run_manager, \u001b[38;5;241m*\u001b[39m\u001b[38;5;241m*\u001b[39mkwargs\n\u001b[0;32m   3837\u001b[0m     )\n\u001b[0;32m   3838\u001b[0m \u001b[38;5;66;03m# If the output is a runnable, invoke it\u001b[39;00m\n\u001b[0;32m   3839\u001b[0m \u001b[38;5;28;01mif\u001b[39;00m \u001b[38;5;28misinstance\u001b[39m(output, Runnable):\n",
      "File \u001b[1;32mc:\\Users\\kiran.busch\\anaconda3\\envs\\event-log-extraction-assistant\\lib\\site-packages\\langchain_core\\runnables\\config.py:347\u001b[0m, in \u001b[0;36mcall_func_with_variable_args\u001b[1;34m(func, input, config, run_manager, **kwargs)\u001b[0m\n\u001b[0;32m    345\u001b[0m \u001b[38;5;28;01mif\u001b[39;00m run_manager \u001b[38;5;129;01mis\u001b[39;00m \u001b[38;5;129;01mnot\u001b[39;00m \u001b[38;5;28;01mNone\u001b[39;00m \u001b[38;5;129;01mand\u001b[39;00m accepts_run_manager(func):\n\u001b[0;32m    346\u001b[0m     kwargs[\u001b[38;5;124m\"\u001b[39m\u001b[38;5;124mrun_manager\u001b[39m\u001b[38;5;124m\"\u001b[39m] \u001b[38;5;241m=\u001b[39m run_manager\n\u001b[1;32m--> 347\u001b[0m \u001b[38;5;28;01mreturn\u001b[39;00m func(\u001b[38;5;28minput\u001b[39m, \u001b[38;5;241m*\u001b[39m\u001b[38;5;241m*\u001b[39mkwargs)\n",
      "File \u001b[1;32mf:\\event-log-extraction-assistant\\utils\\apps.py:16\u001b[0m, in \u001b[0;36mSimpleApp.get_sql_query\u001b[1;34m(self, state)\u001b[0m\n\u001b[0;32m     14\u001b[0m messages \u001b[38;5;241m=\u001b[39m state[\u001b[38;5;124m'\u001b[39m\u001b[38;5;124mmessages\u001b[39m\u001b[38;5;124m'\u001b[39m]\n\u001b[0;32m     15\u001b[0m user_input \u001b[38;5;241m=\u001b[39m messages[\u001b[38;5;241m-\u001b[39m\u001b[38;5;241m1\u001b[39m]\n\u001b[1;32m---> 16\u001b[0m response \u001b[38;5;241m=\u001b[39m \u001b[38;5;28;43mself\u001b[39;49m\u001b[38;5;241;43m.\u001b[39;49m\u001b[43mllm_model\u001b[49m\u001b[38;5;241;43m.\u001b[39;49m\u001b[43minvoke\u001b[49m\u001b[43m(\u001b[49m\u001b[43muser_input\u001b[49m\u001b[43m)\u001b[49m\n\u001b[0;32m     17\u001b[0m \u001b[38;5;66;03m#state['messages'].append(response.content) # appending AIMessage response to the AgentState\u001b[39;00m\n\u001b[0;32m     18\u001b[0m state[\u001b[38;5;124m'\u001b[39m\u001b[38;5;124magent_response\u001b[39m\u001b[38;5;124m'\u001b[39m]\u001b[38;5;241m=\u001b[39mresponse\u001b[38;5;241m.\u001b[39mcontent\n",
      "File \u001b[1;32mc:\\Users\\kiran.busch\\anaconda3\\envs\\event-log-extraction-assistant\\lib\\site-packages\\langchain_core\\language_models\\chat_models.py:154\u001b[0m, in \u001b[0;36mBaseChatModel.invoke\u001b[1;34m(self, input, config, stop, **kwargs)\u001b[0m\n\u001b[0;32m    143\u001b[0m \u001b[38;5;28;01mdef\u001b[39;00m \u001b[38;5;21minvoke\u001b[39m(\n\u001b[0;32m    144\u001b[0m     \u001b[38;5;28mself\u001b[39m,\n\u001b[0;32m    145\u001b[0m     \u001b[38;5;28minput\u001b[39m: LanguageModelInput,\n\u001b[1;32m   (...)\u001b[0m\n\u001b[0;32m    149\u001b[0m     \u001b[38;5;241m*\u001b[39m\u001b[38;5;241m*\u001b[39mkwargs: Any,\n\u001b[0;32m    150\u001b[0m ) \u001b[38;5;241m-\u001b[39m\u001b[38;5;241m>\u001b[39m BaseMessage:\n\u001b[0;32m    151\u001b[0m     config \u001b[38;5;241m=\u001b[39m ensure_config(config)\n\u001b[0;32m    152\u001b[0m     \u001b[38;5;28;01mreturn\u001b[39;00m cast(\n\u001b[0;32m    153\u001b[0m         ChatGeneration,\n\u001b[1;32m--> 154\u001b[0m         \u001b[38;5;28mself\u001b[39m\u001b[38;5;241m.\u001b[39mgenerate_prompt(\n\u001b[0;32m    155\u001b[0m             [\u001b[38;5;28mself\u001b[39m\u001b[38;5;241m.\u001b[39m_convert_input(\u001b[38;5;28minput\u001b[39m)],\n\u001b[0;32m    156\u001b[0m             stop\u001b[38;5;241m=\u001b[39mstop,\n\u001b[0;32m    157\u001b[0m             callbacks\u001b[38;5;241m=\u001b[39mconfig\u001b[38;5;241m.\u001b[39mget(\u001b[38;5;124m\"\u001b[39m\u001b[38;5;124mcallbacks\u001b[39m\u001b[38;5;124m\"\u001b[39m),\n\u001b[0;32m    158\u001b[0m             tags\u001b[38;5;241m=\u001b[39mconfig\u001b[38;5;241m.\u001b[39mget(\u001b[38;5;124m\"\u001b[39m\u001b[38;5;124mtags\u001b[39m\u001b[38;5;124m\"\u001b[39m),\n\u001b[0;32m    159\u001b[0m             metadata\u001b[38;5;241m=\u001b[39mconfig\u001b[38;5;241m.\u001b[39mget(\u001b[38;5;124m\"\u001b[39m\u001b[38;5;124mmetadata\u001b[39m\u001b[38;5;124m\"\u001b[39m),\n\u001b[0;32m    160\u001b[0m             run_name\u001b[38;5;241m=\u001b[39mconfig\u001b[38;5;241m.\u001b[39mget(\u001b[38;5;124m\"\u001b[39m\u001b[38;5;124mrun_name\u001b[39m\u001b[38;5;124m\"\u001b[39m),\n\u001b[0;32m    161\u001b[0m             \u001b[38;5;241m*\u001b[39m\u001b[38;5;241m*\u001b[39mkwargs,\n\u001b[0;32m    162\u001b[0m         )\u001b[38;5;241m.\u001b[39mgenerations[\u001b[38;5;241m0\u001b[39m][\u001b[38;5;241m0\u001b[39m],\n\u001b[0;32m    163\u001b[0m     )\u001b[38;5;241m.\u001b[39mmessage\n",
      "File \u001b[1;32mc:\\Users\\kiran.busch\\anaconda3\\envs\\event-log-extraction-assistant\\lib\\site-packages\\langchain_core\\language_models\\chat_models.py:554\u001b[0m, in \u001b[0;36mBaseChatModel.generate_prompt\u001b[1;34m(self, prompts, stop, callbacks, **kwargs)\u001b[0m\n\u001b[0;32m    546\u001b[0m \u001b[38;5;28;01mdef\u001b[39;00m \u001b[38;5;21mgenerate_prompt\u001b[39m(\n\u001b[0;32m    547\u001b[0m     \u001b[38;5;28mself\u001b[39m,\n\u001b[0;32m    548\u001b[0m     prompts: List[PromptValue],\n\u001b[1;32m   (...)\u001b[0m\n\u001b[0;32m    551\u001b[0m     \u001b[38;5;241m*\u001b[39m\u001b[38;5;241m*\u001b[39mkwargs: Any,\n\u001b[0;32m    552\u001b[0m ) \u001b[38;5;241m-\u001b[39m\u001b[38;5;241m>\u001b[39m LLMResult:\n\u001b[0;32m    553\u001b[0m     prompt_messages \u001b[38;5;241m=\u001b[39m [p\u001b[38;5;241m.\u001b[39mto_messages() \u001b[38;5;28;01mfor\u001b[39;00m p \u001b[38;5;129;01min\u001b[39;00m prompts]\n\u001b[1;32m--> 554\u001b[0m     \u001b[38;5;28;01mreturn\u001b[39;00m \u001b[38;5;28mself\u001b[39m\u001b[38;5;241m.\u001b[39mgenerate(prompt_messages, stop\u001b[38;5;241m=\u001b[39mstop, callbacks\u001b[38;5;241m=\u001b[39mcallbacks, \u001b[38;5;241m*\u001b[39m\u001b[38;5;241m*\u001b[39mkwargs)\n",
      "File \u001b[1;32mc:\\Users\\kiran.busch\\anaconda3\\envs\\event-log-extraction-assistant\\lib\\site-packages\\langchain_core\\language_models\\chat_models.py:415\u001b[0m, in \u001b[0;36mBaseChatModel.generate\u001b[1;34m(self, messages, stop, callbacks, tags, metadata, run_name, run_id, **kwargs)\u001b[0m\n\u001b[0;32m    413\u001b[0m         \u001b[38;5;28;01mif\u001b[39;00m run_managers:\n\u001b[0;32m    414\u001b[0m             run_managers[i]\u001b[38;5;241m.\u001b[39mon_llm_error(e, response\u001b[38;5;241m=\u001b[39mLLMResult(generations\u001b[38;5;241m=\u001b[39m[]))\n\u001b[1;32m--> 415\u001b[0m         \u001b[38;5;28;01mraise\u001b[39;00m e\n\u001b[0;32m    416\u001b[0m flattened_outputs \u001b[38;5;241m=\u001b[39m [\n\u001b[0;32m    417\u001b[0m     LLMResult(generations\u001b[38;5;241m=\u001b[39m[res\u001b[38;5;241m.\u001b[39mgenerations], llm_output\u001b[38;5;241m=\u001b[39mres\u001b[38;5;241m.\u001b[39mllm_output)  \u001b[38;5;66;03m# type: ignore[list-item]\u001b[39;00m\n\u001b[0;32m    418\u001b[0m     \u001b[38;5;28;01mfor\u001b[39;00m res \u001b[38;5;129;01min\u001b[39;00m results\n\u001b[0;32m    419\u001b[0m ]\n\u001b[0;32m    420\u001b[0m llm_output \u001b[38;5;241m=\u001b[39m \u001b[38;5;28mself\u001b[39m\u001b[38;5;241m.\u001b[39m_combine_llm_outputs([res\u001b[38;5;241m.\u001b[39mllm_output \u001b[38;5;28;01mfor\u001b[39;00m res \u001b[38;5;129;01min\u001b[39;00m results])\n",
      "File \u001b[1;32mc:\\Users\\kiran.busch\\anaconda3\\envs\\event-log-extraction-assistant\\lib\\site-packages\\langchain_core\\language_models\\chat_models.py:405\u001b[0m, in \u001b[0;36mBaseChatModel.generate\u001b[1;34m(self, messages, stop, callbacks, tags, metadata, run_name, run_id, **kwargs)\u001b[0m\n\u001b[0;32m    402\u001b[0m \u001b[38;5;28;01mfor\u001b[39;00m i, m \u001b[38;5;129;01min\u001b[39;00m \u001b[38;5;28menumerate\u001b[39m(messages):\n\u001b[0;32m    403\u001b[0m     \u001b[38;5;28;01mtry\u001b[39;00m:\n\u001b[0;32m    404\u001b[0m         results\u001b[38;5;241m.\u001b[39mappend(\n\u001b[1;32m--> 405\u001b[0m             \u001b[38;5;28mself\u001b[39m\u001b[38;5;241m.\u001b[39m_generate_with_cache(\n\u001b[0;32m    406\u001b[0m                 m,\n\u001b[0;32m    407\u001b[0m                 stop\u001b[38;5;241m=\u001b[39mstop,\n\u001b[0;32m    408\u001b[0m                 run_manager\u001b[38;5;241m=\u001b[39mrun_managers[i] \u001b[38;5;28;01mif\u001b[39;00m run_managers \u001b[38;5;28;01melse\u001b[39;00m \u001b[38;5;28;01mNone\u001b[39;00m,\n\u001b[0;32m    409\u001b[0m                 \u001b[38;5;241m*\u001b[39m\u001b[38;5;241m*\u001b[39mkwargs,\n\u001b[0;32m    410\u001b[0m             )\n\u001b[0;32m    411\u001b[0m         )\n\u001b[0;32m    412\u001b[0m     \u001b[38;5;28;01mexcept\u001b[39;00m \u001b[38;5;167;01mBaseException\u001b[39;00m \u001b[38;5;28;01mas\u001b[39;00m e:\n\u001b[0;32m    413\u001b[0m         \u001b[38;5;28;01mif\u001b[39;00m run_managers:\n",
      "File \u001b[1;32mc:\\Users\\kiran.busch\\anaconda3\\envs\\event-log-extraction-assistant\\lib\\site-packages\\langchain_core\\language_models\\chat_models.py:624\u001b[0m, in \u001b[0;36mBaseChatModel._generate_with_cache\u001b[1;34m(self, messages, stop, run_manager, **kwargs)\u001b[0m\n\u001b[0;32m    622\u001b[0m \u001b[38;5;28;01melse\u001b[39;00m:\n\u001b[0;32m    623\u001b[0m     \u001b[38;5;28;01mif\u001b[39;00m inspect\u001b[38;5;241m.\u001b[39msignature(\u001b[38;5;28mself\u001b[39m\u001b[38;5;241m.\u001b[39m_generate)\u001b[38;5;241m.\u001b[39mparameters\u001b[38;5;241m.\u001b[39mget(\u001b[38;5;124m\"\u001b[39m\u001b[38;5;124mrun_manager\u001b[39m\u001b[38;5;124m\"\u001b[39m):\n\u001b[1;32m--> 624\u001b[0m         result \u001b[38;5;241m=\u001b[39m \u001b[38;5;28mself\u001b[39m\u001b[38;5;241m.\u001b[39m_generate(\n\u001b[0;32m    625\u001b[0m             messages, stop\u001b[38;5;241m=\u001b[39mstop, run_manager\u001b[38;5;241m=\u001b[39mrun_manager, \u001b[38;5;241m*\u001b[39m\u001b[38;5;241m*\u001b[39mkwargs\n\u001b[0;32m    626\u001b[0m         )\n\u001b[0;32m    627\u001b[0m     \u001b[38;5;28;01melse\u001b[39;00m:\n\u001b[0;32m    628\u001b[0m         result \u001b[38;5;241m=\u001b[39m \u001b[38;5;28mself\u001b[39m\u001b[38;5;241m.\u001b[39m_generate(messages, stop\u001b[38;5;241m=\u001b[39mstop, \u001b[38;5;241m*\u001b[39m\u001b[38;5;241m*\u001b[39mkwargs)\n",
      "File \u001b[1;32mc:\\Users\\kiran.busch\\anaconda3\\envs\\event-log-extraction-assistant\\lib\\site-packages\\langchain_openai\\chat_models\\base.py:484\u001b[0m, in \u001b[0;36mChatOpenAI._generate\u001b[1;34m(self, messages, stop, run_manager, stream, **kwargs)\u001b[0m\n\u001b[0;32m    478\u001b[0m message_dicts, params \u001b[38;5;241m=\u001b[39m \u001b[38;5;28mself\u001b[39m\u001b[38;5;241m.\u001b[39m_create_message_dicts(messages, stop)\n\u001b[0;32m    479\u001b[0m params \u001b[38;5;241m=\u001b[39m {\n\u001b[0;32m    480\u001b[0m     \u001b[38;5;241m*\u001b[39m\u001b[38;5;241m*\u001b[39mparams,\n\u001b[0;32m    481\u001b[0m     \u001b[38;5;241m*\u001b[39m\u001b[38;5;241m*\u001b[39m({\u001b[38;5;124m\"\u001b[39m\u001b[38;5;124mstream\u001b[39m\u001b[38;5;124m\"\u001b[39m: stream} \u001b[38;5;28;01mif\u001b[39;00m stream \u001b[38;5;129;01mis\u001b[39;00m \u001b[38;5;129;01mnot\u001b[39;00m \u001b[38;5;28;01mNone\u001b[39;00m \u001b[38;5;28;01melse\u001b[39;00m {}),\n\u001b[0;32m    482\u001b[0m     \u001b[38;5;241m*\u001b[39m\u001b[38;5;241m*\u001b[39mkwargs,\n\u001b[0;32m    483\u001b[0m }\n\u001b[1;32m--> 484\u001b[0m response \u001b[38;5;241m=\u001b[39m \u001b[38;5;28mself\u001b[39m\u001b[38;5;241m.\u001b[39mclient\u001b[38;5;241m.\u001b[39mcreate(messages\u001b[38;5;241m=\u001b[39mmessage_dicts, \u001b[38;5;241m*\u001b[39m\u001b[38;5;241m*\u001b[39mparams)\n\u001b[0;32m    485\u001b[0m \u001b[38;5;28;01mreturn\u001b[39;00m \u001b[38;5;28mself\u001b[39m\u001b[38;5;241m.\u001b[39m_create_chat_result(response)\n",
      "File \u001b[1;32mc:\\Users\\kiran.busch\\anaconda3\\envs\\event-log-extraction-assistant\\lib\\site-packages\\openai\\_utils\\_utils.py:275\u001b[0m, in \u001b[0;36mrequired_args.<locals>.inner.<locals>.wrapper\u001b[1;34m(*args, **kwargs)\u001b[0m\n\u001b[0;32m    273\u001b[0m             msg \u001b[38;5;241m=\u001b[39m \u001b[38;5;124mf\u001b[39m\u001b[38;5;124m\"\u001b[39m\u001b[38;5;124mMissing required argument: \u001b[39m\u001b[38;5;132;01m{\u001b[39;00mquote(missing[\u001b[38;5;241m0\u001b[39m])\u001b[38;5;132;01m}\u001b[39;00m\u001b[38;5;124m\"\u001b[39m\n\u001b[0;32m    274\u001b[0m     \u001b[38;5;28;01mraise\u001b[39;00m \u001b[38;5;167;01mTypeError\u001b[39;00m(msg)\n\u001b[1;32m--> 275\u001b[0m \u001b[38;5;28;01mreturn\u001b[39;00m func(\u001b[38;5;241m*\u001b[39margs, \u001b[38;5;241m*\u001b[39m\u001b[38;5;241m*\u001b[39mkwargs)\n",
      "File \u001b[1;32mc:\\Users\\kiran.busch\\anaconda3\\envs\\event-log-extraction-assistant\\lib\\site-packages\\openai\\resources\\chat\\completions.py:667\u001b[0m, in \u001b[0;36mCompletions.create\u001b[1;34m(self, messages, model, frequency_penalty, function_call, functions, logit_bias, logprobs, max_tokens, n, presence_penalty, response_format, seed, stop, stream, temperature, tool_choice, tools, top_logprobs, top_p, user, extra_headers, extra_query, extra_body, timeout)\u001b[0m\n\u001b[0;32m    615\u001b[0m \u001b[38;5;129m@required_args\u001b[39m([\u001b[38;5;124m\"\u001b[39m\u001b[38;5;124mmessages\u001b[39m\u001b[38;5;124m\"\u001b[39m, \u001b[38;5;124m\"\u001b[39m\u001b[38;5;124mmodel\u001b[39m\u001b[38;5;124m\"\u001b[39m], [\u001b[38;5;124m\"\u001b[39m\u001b[38;5;124mmessages\u001b[39m\u001b[38;5;124m\"\u001b[39m, \u001b[38;5;124m\"\u001b[39m\u001b[38;5;124mmodel\u001b[39m\u001b[38;5;124m\"\u001b[39m, \u001b[38;5;124m\"\u001b[39m\u001b[38;5;124mstream\u001b[39m\u001b[38;5;124m\"\u001b[39m])\n\u001b[0;32m    616\u001b[0m \u001b[38;5;28;01mdef\u001b[39;00m \u001b[38;5;21mcreate\u001b[39m(\n\u001b[0;32m    617\u001b[0m     \u001b[38;5;28mself\u001b[39m,\n\u001b[1;32m   (...)\u001b[0m\n\u001b[0;32m    665\u001b[0m     timeout: \u001b[38;5;28mfloat\u001b[39m \u001b[38;5;241m|\u001b[39m httpx\u001b[38;5;241m.\u001b[39mTimeout \u001b[38;5;241m|\u001b[39m \u001b[38;5;28;01mNone\u001b[39;00m \u001b[38;5;241m|\u001b[39m NotGiven \u001b[38;5;241m=\u001b[39m NOT_GIVEN,\n\u001b[0;32m    666\u001b[0m ) \u001b[38;5;241m-\u001b[39m\u001b[38;5;241m>\u001b[39m ChatCompletion \u001b[38;5;241m|\u001b[39m Stream[ChatCompletionChunk]:\n\u001b[1;32m--> 667\u001b[0m     \u001b[38;5;28;01mreturn\u001b[39;00m \u001b[38;5;28;43mself\u001b[39;49m\u001b[38;5;241;43m.\u001b[39;49m\u001b[43m_post\u001b[49m\u001b[43m(\u001b[49m\n\u001b[0;32m    668\u001b[0m \u001b[43m        \u001b[49m\u001b[38;5;124;43m\"\u001b[39;49m\u001b[38;5;124;43m/chat/completions\u001b[39;49m\u001b[38;5;124;43m\"\u001b[39;49m\u001b[43m,\u001b[49m\n\u001b[0;32m    669\u001b[0m \u001b[43m        \u001b[49m\u001b[43mbody\u001b[49m\u001b[38;5;241;43m=\u001b[39;49m\u001b[43mmaybe_transform\u001b[49m\u001b[43m(\u001b[49m\n\u001b[0;32m    670\u001b[0m \u001b[43m            \u001b[49m\u001b[43m{\u001b[49m\n\u001b[0;32m    671\u001b[0m \u001b[43m                \u001b[49m\u001b[38;5;124;43m\"\u001b[39;49m\u001b[38;5;124;43mmessages\u001b[39;49m\u001b[38;5;124;43m\"\u001b[39;49m\u001b[43m:\u001b[49m\u001b[43m \u001b[49m\u001b[43mmessages\u001b[49m\u001b[43m,\u001b[49m\n\u001b[0;32m    672\u001b[0m \u001b[43m                \u001b[49m\u001b[38;5;124;43m\"\u001b[39;49m\u001b[38;5;124;43mmodel\u001b[39;49m\u001b[38;5;124;43m\"\u001b[39;49m\u001b[43m:\u001b[49m\u001b[43m \u001b[49m\u001b[43mmodel\u001b[49m\u001b[43m,\u001b[49m\n\u001b[0;32m    673\u001b[0m \u001b[43m                \u001b[49m\u001b[38;5;124;43m\"\u001b[39;49m\u001b[38;5;124;43mfrequency_penalty\u001b[39;49m\u001b[38;5;124;43m\"\u001b[39;49m\u001b[43m:\u001b[49m\u001b[43m \u001b[49m\u001b[43mfrequency_penalty\u001b[49m\u001b[43m,\u001b[49m\n\u001b[0;32m    674\u001b[0m \u001b[43m                \u001b[49m\u001b[38;5;124;43m\"\u001b[39;49m\u001b[38;5;124;43mfunction_call\u001b[39;49m\u001b[38;5;124;43m\"\u001b[39;49m\u001b[43m:\u001b[49m\u001b[43m \u001b[49m\u001b[43mfunction_call\u001b[49m\u001b[43m,\u001b[49m\n\u001b[0;32m    675\u001b[0m \u001b[43m                \u001b[49m\u001b[38;5;124;43m\"\u001b[39;49m\u001b[38;5;124;43mfunctions\u001b[39;49m\u001b[38;5;124;43m\"\u001b[39;49m\u001b[43m:\u001b[49m\u001b[43m \u001b[49m\u001b[43mfunctions\u001b[49m\u001b[43m,\u001b[49m\n\u001b[0;32m    676\u001b[0m \u001b[43m                \u001b[49m\u001b[38;5;124;43m\"\u001b[39;49m\u001b[38;5;124;43mlogit_bias\u001b[39;49m\u001b[38;5;124;43m\"\u001b[39;49m\u001b[43m:\u001b[49m\u001b[43m \u001b[49m\u001b[43mlogit_bias\u001b[49m\u001b[43m,\u001b[49m\n\u001b[0;32m    677\u001b[0m \u001b[43m                \u001b[49m\u001b[38;5;124;43m\"\u001b[39;49m\u001b[38;5;124;43mlogprobs\u001b[39;49m\u001b[38;5;124;43m\"\u001b[39;49m\u001b[43m:\u001b[49m\u001b[43m \u001b[49m\u001b[43mlogprobs\u001b[49m\u001b[43m,\u001b[49m\n\u001b[0;32m    678\u001b[0m \u001b[43m                \u001b[49m\u001b[38;5;124;43m\"\u001b[39;49m\u001b[38;5;124;43mmax_tokens\u001b[39;49m\u001b[38;5;124;43m\"\u001b[39;49m\u001b[43m:\u001b[49m\u001b[43m \u001b[49m\u001b[43mmax_tokens\u001b[49m\u001b[43m,\u001b[49m\n\u001b[0;32m    679\u001b[0m \u001b[43m                \u001b[49m\u001b[38;5;124;43m\"\u001b[39;49m\u001b[38;5;124;43mn\u001b[39;49m\u001b[38;5;124;43m\"\u001b[39;49m\u001b[43m:\u001b[49m\u001b[43m \u001b[49m\u001b[43mn\u001b[49m\u001b[43m,\u001b[49m\n\u001b[0;32m    680\u001b[0m \u001b[43m                \u001b[49m\u001b[38;5;124;43m\"\u001b[39;49m\u001b[38;5;124;43mpresence_penalty\u001b[39;49m\u001b[38;5;124;43m\"\u001b[39;49m\u001b[43m:\u001b[49m\u001b[43m \u001b[49m\u001b[43mpresence_penalty\u001b[49m\u001b[43m,\u001b[49m\n\u001b[0;32m    681\u001b[0m \u001b[43m                \u001b[49m\u001b[38;5;124;43m\"\u001b[39;49m\u001b[38;5;124;43mresponse_format\u001b[39;49m\u001b[38;5;124;43m\"\u001b[39;49m\u001b[43m:\u001b[49m\u001b[43m \u001b[49m\u001b[43mresponse_format\u001b[49m\u001b[43m,\u001b[49m\n\u001b[0;32m    682\u001b[0m \u001b[43m                \u001b[49m\u001b[38;5;124;43m\"\u001b[39;49m\u001b[38;5;124;43mseed\u001b[39;49m\u001b[38;5;124;43m\"\u001b[39;49m\u001b[43m:\u001b[49m\u001b[43m \u001b[49m\u001b[43mseed\u001b[49m\u001b[43m,\u001b[49m\n\u001b[0;32m    683\u001b[0m \u001b[43m                \u001b[49m\u001b[38;5;124;43m\"\u001b[39;49m\u001b[38;5;124;43mstop\u001b[39;49m\u001b[38;5;124;43m\"\u001b[39;49m\u001b[43m:\u001b[49m\u001b[43m \u001b[49m\u001b[43mstop\u001b[49m\u001b[43m,\u001b[49m\n\u001b[0;32m    684\u001b[0m \u001b[43m                \u001b[49m\u001b[38;5;124;43m\"\u001b[39;49m\u001b[38;5;124;43mstream\u001b[39;49m\u001b[38;5;124;43m\"\u001b[39;49m\u001b[43m:\u001b[49m\u001b[43m \u001b[49m\u001b[43mstream\u001b[49m\u001b[43m,\u001b[49m\n\u001b[0;32m    685\u001b[0m \u001b[43m                \u001b[49m\u001b[38;5;124;43m\"\u001b[39;49m\u001b[38;5;124;43mtemperature\u001b[39;49m\u001b[38;5;124;43m\"\u001b[39;49m\u001b[43m:\u001b[49m\u001b[43m \u001b[49m\u001b[43mtemperature\u001b[49m\u001b[43m,\u001b[49m\n\u001b[0;32m    686\u001b[0m \u001b[43m                \u001b[49m\u001b[38;5;124;43m\"\u001b[39;49m\u001b[38;5;124;43mtool_choice\u001b[39;49m\u001b[38;5;124;43m\"\u001b[39;49m\u001b[43m:\u001b[49m\u001b[43m \u001b[49m\u001b[43mtool_choice\u001b[49m\u001b[43m,\u001b[49m\n\u001b[0;32m    687\u001b[0m \u001b[43m                \u001b[49m\u001b[38;5;124;43m\"\u001b[39;49m\u001b[38;5;124;43mtools\u001b[39;49m\u001b[38;5;124;43m\"\u001b[39;49m\u001b[43m:\u001b[49m\u001b[43m \u001b[49m\u001b[43mtools\u001b[49m\u001b[43m,\u001b[49m\n\u001b[0;32m    688\u001b[0m \u001b[43m                \u001b[49m\u001b[38;5;124;43m\"\u001b[39;49m\u001b[38;5;124;43mtop_logprobs\u001b[39;49m\u001b[38;5;124;43m\"\u001b[39;49m\u001b[43m:\u001b[49m\u001b[43m \u001b[49m\u001b[43mtop_logprobs\u001b[49m\u001b[43m,\u001b[49m\n\u001b[0;32m    689\u001b[0m \u001b[43m                \u001b[49m\u001b[38;5;124;43m\"\u001b[39;49m\u001b[38;5;124;43mtop_p\u001b[39;49m\u001b[38;5;124;43m\"\u001b[39;49m\u001b[43m:\u001b[49m\u001b[43m \u001b[49m\u001b[43mtop_p\u001b[49m\u001b[43m,\u001b[49m\n\u001b[0;32m    690\u001b[0m \u001b[43m                \u001b[49m\u001b[38;5;124;43m\"\u001b[39;49m\u001b[38;5;124;43muser\u001b[39;49m\u001b[38;5;124;43m\"\u001b[39;49m\u001b[43m:\u001b[49m\u001b[43m \u001b[49m\u001b[43muser\u001b[49m\u001b[43m,\u001b[49m\n\u001b[0;32m    691\u001b[0m \u001b[43m            \u001b[49m\u001b[43m}\u001b[49m\u001b[43m,\u001b[49m\n\u001b[0;32m    692\u001b[0m \u001b[43m            \u001b[49m\u001b[43mcompletion_create_params\u001b[49m\u001b[38;5;241;43m.\u001b[39;49m\u001b[43mCompletionCreateParams\u001b[49m\u001b[43m,\u001b[49m\n\u001b[0;32m    693\u001b[0m \u001b[43m        \u001b[49m\u001b[43m)\u001b[49m\u001b[43m,\u001b[49m\n\u001b[0;32m    694\u001b[0m \u001b[43m        \u001b[49m\u001b[43moptions\u001b[49m\u001b[38;5;241;43m=\u001b[39;49m\u001b[43mmake_request_options\u001b[49m\u001b[43m(\u001b[49m\n\u001b[0;32m    695\u001b[0m \u001b[43m            \u001b[49m\u001b[43mextra_headers\u001b[49m\u001b[38;5;241;43m=\u001b[39;49m\u001b[43mextra_headers\u001b[49m\u001b[43m,\u001b[49m\u001b[43m \u001b[49m\u001b[43mextra_query\u001b[49m\u001b[38;5;241;43m=\u001b[39;49m\u001b[43mextra_query\u001b[49m\u001b[43m,\u001b[49m\u001b[43m \u001b[49m\u001b[43mextra_body\u001b[49m\u001b[38;5;241;43m=\u001b[39;49m\u001b[43mextra_body\u001b[49m\u001b[43m,\u001b[49m\u001b[43m \u001b[49m\u001b[43mtimeout\u001b[49m\u001b[38;5;241;43m=\u001b[39;49m\u001b[43mtimeout\u001b[49m\n\u001b[0;32m    696\u001b[0m \u001b[43m        \u001b[49m\u001b[43m)\u001b[49m\u001b[43m,\u001b[49m\n\u001b[0;32m    697\u001b[0m \u001b[43m        \u001b[49m\u001b[43mcast_to\u001b[49m\u001b[38;5;241;43m=\u001b[39;49m\u001b[43mChatCompletion\u001b[49m\u001b[43m,\u001b[49m\n\u001b[0;32m    698\u001b[0m \u001b[43m        \u001b[49m\u001b[43mstream\u001b[49m\u001b[38;5;241;43m=\u001b[39;49m\u001b[43mstream\u001b[49m\u001b[43m \u001b[49m\u001b[38;5;129;43;01mor\u001b[39;49;00m\u001b[43m \u001b[49m\u001b[38;5;28;43;01mFalse\u001b[39;49;00m\u001b[43m,\u001b[49m\n\u001b[0;32m    699\u001b[0m \u001b[43m        \u001b[49m\u001b[43mstream_cls\u001b[49m\u001b[38;5;241;43m=\u001b[39;49m\u001b[43mStream\u001b[49m\u001b[43m[\u001b[49m\u001b[43mChatCompletionChunk\u001b[49m\u001b[43m]\u001b[49m\u001b[43m,\u001b[49m\n\u001b[0;32m    700\u001b[0m \u001b[43m    \u001b[49m\u001b[43m)\u001b[49m\n",
      "File \u001b[1;32mc:\\Users\\kiran.busch\\anaconda3\\envs\\event-log-extraction-assistant\\lib\\site-packages\\openai\\_base_client.py:1213\u001b[0m, in \u001b[0;36mSyncAPIClient.post\u001b[1;34m(self, path, cast_to, body, options, files, stream, stream_cls)\u001b[0m\n\u001b[0;32m   1199\u001b[0m \u001b[38;5;28;01mdef\u001b[39;00m \u001b[38;5;21mpost\u001b[39m(\n\u001b[0;32m   1200\u001b[0m     \u001b[38;5;28mself\u001b[39m,\n\u001b[0;32m   1201\u001b[0m     path: \u001b[38;5;28mstr\u001b[39m,\n\u001b[1;32m   (...)\u001b[0m\n\u001b[0;32m   1208\u001b[0m     stream_cls: \u001b[38;5;28mtype\u001b[39m[_StreamT] \u001b[38;5;241m|\u001b[39m \u001b[38;5;28;01mNone\u001b[39;00m \u001b[38;5;241m=\u001b[39m \u001b[38;5;28;01mNone\u001b[39;00m,\n\u001b[0;32m   1209\u001b[0m ) \u001b[38;5;241m-\u001b[39m\u001b[38;5;241m>\u001b[39m ResponseT \u001b[38;5;241m|\u001b[39m _StreamT:\n\u001b[0;32m   1210\u001b[0m     opts \u001b[38;5;241m=\u001b[39m FinalRequestOptions\u001b[38;5;241m.\u001b[39mconstruct(\n\u001b[0;32m   1211\u001b[0m         method\u001b[38;5;241m=\u001b[39m\u001b[38;5;124m\"\u001b[39m\u001b[38;5;124mpost\u001b[39m\u001b[38;5;124m\"\u001b[39m, url\u001b[38;5;241m=\u001b[39mpath, json_data\u001b[38;5;241m=\u001b[39mbody, files\u001b[38;5;241m=\u001b[39mto_httpx_files(files), \u001b[38;5;241m*\u001b[39m\u001b[38;5;241m*\u001b[39moptions\n\u001b[0;32m   1212\u001b[0m     )\n\u001b[1;32m-> 1213\u001b[0m     \u001b[38;5;28;01mreturn\u001b[39;00m cast(ResponseT, \u001b[38;5;28;43mself\u001b[39;49m\u001b[38;5;241;43m.\u001b[39;49m\u001b[43mrequest\u001b[49m\u001b[43m(\u001b[49m\u001b[43mcast_to\u001b[49m\u001b[43m,\u001b[49m\u001b[43m \u001b[49m\u001b[43mopts\u001b[49m\u001b[43m,\u001b[49m\u001b[43m \u001b[49m\u001b[43mstream\u001b[49m\u001b[38;5;241;43m=\u001b[39;49m\u001b[43mstream\u001b[49m\u001b[43m,\u001b[49m\u001b[43m \u001b[49m\u001b[43mstream_cls\u001b[49m\u001b[38;5;241;43m=\u001b[39;49m\u001b[43mstream_cls\u001b[49m\u001b[43m)\u001b[49m)\n",
      "File \u001b[1;32mc:\\Users\\kiran.busch\\anaconda3\\envs\\event-log-extraction-assistant\\lib\\site-packages\\openai\\_base_client.py:902\u001b[0m, in \u001b[0;36mSyncAPIClient.request\u001b[1;34m(self, cast_to, options, remaining_retries, stream, stream_cls)\u001b[0m\n\u001b[0;32m    893\u001b[0m \u001b[38;5;28;01mdef\u001b[39;00m \u001b[38;5;21mrequest\u001b[39m(\n\u001b[0;32m    894\u001b[0m     \u001b[38;5;28mself\u001b[39m,\n\u001b[0;32m    895\u001b[0m     cast_to: Type[ResponseT],\n\u001b[1;32m   (...)\u001b[0m\n\u001b[0;32m    900\u001b[0m     stream_cls: \u001b[38;5;28mtype\u001b[39m[_StreamT] \u001b[38;5;241m|\u001b[39m \u001b[38;5;28;01mNone\u001b[39;00m \u001b[38;5;241m=\u001b[39m \u001b[38;5;28;01mNone\u001b[39;00m,\n\u001b[0;32m    901\u001b[0m ) \u001b[38;5;241m-\u001b[39m\u001b[38;5;241m>\u001b[39m ResponseT \u001b[38;5;241m|\u001b[39m _StreamT:\n\u001b[1;32m--> 902\u001b[0m     \u001b[38;5;28;01mreturn\u001b[39;00m \u001b[38;5;28;43mself\u001b[39;49m\u001b[38;5;241;43m.\u001b[39;49m\u001b[43m_request\u001b[49m\u001b[43m(\u001b[49m\n\u001b[0;32m    903\u001b[0m \u001b[43m        \u001b[49m\u001b[43mcast_to\u001b[49m\u001b[38;5;241;43m=\u001b[39;49m\u001b[43mcast_to\u001b[49m\u001b[43m,\u001b[49m\n\u001b[0;32m    904\u001b[0m \u001b[43m        \u001b[49m\u001b[43moptions\u001b[49m\u001b[38;5;241;43m=\u001b[39;49m\u001b[43moptions\u001b[49m\u001b[43m,\u001b[49m\n\u001b[0;32m    905\u001b[0m \u001b[43m        \u001b[49m\u001b[43mstream\u001b[49m\u001b[38;5;241;43m=\u001b[39;49m\u001b[43mstream\u001b[49m\u001b[43m,\u001b[49m\n\u001b[0;32m    906\u001b[0m \u001b[43m        \u001b[49m\u001b[43mstream_cls\u001b[49m\u001b[38;5;241;43m=\u001b[39;49m\u001b[43mstream_cls\u001b[49m\u001b[43m,\u001b[49m\n\u001b[0;32m    907\u001b[0m \u001b[43m        \u001b[49m\u001b[43mremaining_retries\u001b[49m\u001b[38;5;241;43m=\u001b[39;49m\u001b[43mremaining_retries\u001b[49m\u001b[43m,\u001b[49m\n\u001b[0;32m    908\u001b[0m \u001b[43m    \u001b[49m\u001b[43m)\u001b[49m\n",
      "File \u001b[1;32mc:\\Users\\kiran.busch\\anaconda3\\envs\\event-log-extraction-assistant\\lib\\site-packages\\openai\\_base_client.py:978\u001b[0m, in \u001b[0;36mSyncAPIClient._request\u001b[1;34m(self, cast_to, options, remaining_retries, stream, stream_cls)\u001b[0m\n\u001b[0;32m    976\u001b[0m \u001b[38;5;28;01mif\u001b[39;00m retries \u001b[38;5;241m>\u001b[39m \u001b[38;5;241m0\u001b[39m \u001b[38;5;129;01mand\u001b[39;00m \u001b[38;5;28mself\u001b[39m\u001b[38;5;241m.\u001b[39m_should_retry(err\u001b[38;5;241m.\u001b[39mresponse):\n\u001b[0;32m    977\u001b[0m     err\u001b[38;5;241m.\u001b[39mresponse\u001b[38;5;241m.\u001b[39mclose()\n\u001b[1;32m--> 978\u001b[0m     \u001b[38;5;28;01mreturn\u001b[39;00m \u001b[38;5;28;43mself\u001b[39;49m\u001b[38;5;241;43m.\u001b[39;49m\u001b[43m_retry_request\u001b[49m\u001b[43m(\u001b[49m\n\u001b[0;32m    979\u001b[0m \u001b[43m        \u001b[49m\u001b[43moptions\u001b[49m\u001b[43m,\u001b[49m\n\u001b[0;32m    980\u001b[0m \u001b[43m        \u001b[49m\u001b[43mcast_to\u001b[49m\u001b[43m,\u001b[49m\n\u001b[0;32m    981\u001b[0m \u001b[43m        \u001b[49m\u001b[43mretries\u001b[49m\u001b[43m,\u001b[49m\n\u001b[0;32m    982\u001b[0m \u001b[43m        \u001b[49m\u001b[43merr\u001b[49m\u001b[38;5;241;43m.\u001b[39;49m\u001b[43mresponse\u001b[49m\u001b[38;5;241;43m.\u001b[39;49m\u001b[43mheaders\u001b[49m\u001b[43m,\u001b[49m\n\u001b[0;32m    983\u001b[0m \u001b[43m        \u001b[49m\u001b[43mstream\u001b[49m\u001b[38;5;241;43m=\u001b[39;49m\u001b[43mstream\u001b[49m\u001b[43m,\u001b[49m\n\u001b[0;32m    984\u001b[0m \u001b[43m        \u001b[49m\u001b[43mstream_cls\u001b[49m\u001b[38;5;241;43m=\u001b[39;49m\u001b[43mstream_cls\u001b[49m\u001b[43m,\u001b[49m\n\u001b[0;32m    985\u001b[0m \u001b[43m    \u001b[49m\u001b[43m)\u001b[49m\n\u001b[0;32m    987\u001b[0m \u001b[38;5;66;03m# If the response is streamed then we need to explicitly read the response\u001b[39;00m\n\u001b[0;32m    988\u001b[0m \u001b[38;5;66;03m# to completion before attempting to access the response text.\u001b[39;00m\n\u001b[0;32m    989\u001b[0m \u001b[38;5;28;01mif\u001b[39;00m \u001b[38;5;129;01mnot\u001b[39;00m err\u001b[38;5;241m.\u001b[39mresponse\u001b[38;5;241m.\u001b[39mis_closed:\n",
      "File \u001b[1;32mc:\\Users\\kiran.busch\\anaconda3\\envs\\event-log-extraction-assistant\\lib\\site-packages\\openai\\_base_client.py:1026\u001b[0m, in \u001b[0;36mSyncAPIClient._retry_request\u001b[1;34m(self, options, cast_to, remaining_retries, response_headers, stream, stream_cls)\u001b[0m\n\u001b[0;32m   1022\u001b[0m \u001b[38;5;66;03m# In a synchronous context we are blocking the entire thread. Up to the library user to run the client in a\u001b[39;00m\n\u001b[0;32m   1023\u001b[0m \u001b[38;5;66;03m# different thread if necessary.\u001b[39;00m\n\u001b[0;32m   1024\u001b[0m time\u001b[38;5;241m.\u001b[39msleep(timeout)\n\u001b[1;32m-> 1026\u001b[0m \u001b[38;5;28;01mreturn\u001b[39;00m \u001b[38;5;28;43mself\u001b[39;49m\u001b[38;5;241;43m.\u001b[39;49m\u001b[43m_request\u001b[49m\u001b[43m(\u001b[49m\n\u001b[0;32m   1027\u001b[0m \u001b[43m    \u001b[49m\u001b[43moptions\u001b[49m\u001b[38;5;241;43m=\u001b[39;49m\u001b[43moptions\u001b[49m\u001b[43m,\u001b[49m\n\u001b[0;32m   1028\u001b[0m \u001b[43m    \u001b[49m\u001b[43mcast_to\u001b[49m\u001b[38;5;241;43m=\u001b[39;49m\u001b[43mcast_to\u001b[49m\u001b[43m,\u001b[49m\n\u001b[0;32m   1029\u001b[0m \u001b[43m    \u001b[49m\u001b[43mremaining_retries\u001b[49m\u001b[38;5;241;43m=\u001b[39;49m\u001b[43mremaining\u001b[49m\u001b[43m,\u001b[49m\n\u001b[0;32m   1030\u001b[0m \u001b[43m    \u001b[49m\u001b[43mstream\u001b[49m\u001b[38;5;241;43m=\u001b[39;49m\u001b[43mstream\u001b[49m\u001b[43m,\u001b[49m\n\u001b[0;32m   1031\u001b[0m \u001b[43m    \u001b[49m\u001b[43mstream_cls\u001b[49m\u001b[38;5;241;43m=\u001b[39;49m\u001b[43mstream_cls\u001b[49m\u001b[43m,\u001b[49m\n\u001b[0;32m   1032\u001b[0m \u001b[43m\u001b[49m\u001b[43m)\u001b[49m\n",
      "File \u001b[1;32mc:\\Users\\kiran.busch\\anaconda3\\envs\\event-log-extraction-assistant\\lib\\site-packages\\openai\\_base_client.py:978\u001b[0m, in \u001b[0;36mSyncAPIClient._request\u001b[1;34m(self, cast_to, options, remaining_retries, stream, stream_cls)\u001b[0m\n\u001b[0;32m    976\u001b[0m \u001b[38;5;28;01mif\u001b[39;00m retries \u001b[38;5;241m>\u001b[39m \u001b[38;5;241m0\u001b[39m \u001b[38;5;129;01mand\u001b[39;00m \u001b[38;5;28mself\u001b[39m\u001b[38;5;241m.\u001b[39m_should_retry(err\u001b[38;5;241m.\u001b[39mresponse):\n\u001b[0;32m    977\u001b[0m     err\u001b[38;5;241m.\u001b[39mresponse\u001b[38;5;241m.\u001b[39mclose()\n\u001b[1;32m--> 978\u001b[0m     \u001b[38;5;28;01mreturn\u001b[39;00m \u001b[38;5;28;43mself\u001b[39;49m\u001b[38;5;241;43m.\u001b[39;49m\u001b[43m_retry_request\u001b[49m\u001b[43m(\u001b[49m\n\u001b[0;32m    979\u001b[0m \u001b[43m        \u001b[49m\u001b[43moptions\u001b[49m\u001b[43m,\u001b[49m\n\u001b[0;32m    980\u001b[0m \u001b[43m        \u001b[49m\u001b[43mcast_to\u001b[49m\u001b[43m,\u001b[49m\n\u001b[0;32m    981\u001b[0m \u001b[43m        \u001b[49m\u001b[43mretries\u001b[49m\u001b[43m,\u001b[49m\n\u001b[0;32m    982\u001b[0m \u001b[43m        \u001b[49m\u001b[43merr\u001b[49m\u001b[38;5;241;43m.\u001b[39;49m\u001b[43mresponse\u001b[49m\u001b[38;5;241;43m.\u001b[39;49m\u001b[43mheaders\u001b[49m\u001b[43m,\u001b[49m\n\u001b[0;32m    983\u001b[0m \u001b[43m        \u001b[49m\u001b[43mstream\u001b[49m\u001b[38;5;241;43m=\u001b[39;49m\u001b[43mstream\u001b[49m\u001b[43m,\u001b[49m\n\u001b[0;32m    984\u001b[0m \u001b[43m        \u001b[49m\u001b[43mstream_cls\u001b[49m\u001b[38;5;241;43m=\u001b[39;49m\u001b[43mstream_cls\u001b[49m\u001b[43m,\u001b[49m\n\u001b[0;32m    985\u001b[0m \u001b[43m    \u001b[49m\u001b[43m)\u001b[49m\n\u001b[0;32m    987\u001b[0m \u001b[38;5;66;03m# If the response is streamed then we need to explicitly read the response\u001b[39;00m\n\u001b[0;32m    988\u001b[0m \u001b[38;5;66;03m# to completion before attempting to access the response text.\u001b[39;00m\n\u001b[0;32m    989\u001b[0m \u001b[38;5;28;01mif\u001b[39;00m \u001b[38;5;129;01mnot\u001b[39;00m err\u001b[38;5;241m.\u001b[39mresponse\u001b[38;5;241m.\u001b[39mis_closed:\n",
      "File \u001b[1;32mc:\\Users\\kiran.busch\\anaconda3\\envs\\event-log-extraction-assistant\\lib\\site-packages\\openai\\_base_client.py:1026\u001b[0m, in \u001b[0;36mSyncAPIClient._retry_request\u001b[1;34m(self, options, cast_to, remaining_retries, response_headers, stream, stream_cls)\u001b[0m\n\u001b[0;32m   1022\u001b[0m \u001b[38;5;66;03m# In a synchronous context we are blocking the entire thread. Up to the library user to run the client in a\u001b[39;00m\n\u001b[0;32m   1023\u001b[0m \u001b[38;5;66;03m# different thread if necessary.\u001b[39;00m\n\u001b[0;32m   1024\u001b[0m time\u001b[38;5;241m.\u001b[39msleep(timeout)\n\u001b[1;32m-> 1026\u001b[0m \u001b[38;5;28;01mreturn\u001b[39;00m \u001b[38;5;28;43mself\u001b[39;49m\u001b[38;5;241;43m.\u001b[39;49m\u001b[43m_request\u001b[49m\u001b[43m(\u001b[49m\n\u001b[0;32m   1027\u001b[0m \u001b[43m    \u001b[49m\u001b[43moptions\u001b[49m\u001b[38;5;241;43m=\u001b[39;49m\u001b[43moptions\u001b[49m\u001b[43m,\u001b[49m\n\u001b[0;32m   1028\u001b[0m \u001b[43m    \u001b[49m\u001b[43mcast_to\u001b[49m\u001b[38;5;241;43m=\u001b[39;49m\u001b[43mcast_to\u001b[49m\u001b[43m,\u001b[49m\n\u001b[0;32m   1029\u001b[0m \u001b[43m    \u001b[49m\u001b[43mremaining_retries\u001b[49m\u001b[38;5;241;43m=\u001b[39;49m\u001b[43mremaining\u001b[49m\u001b[43m,\u001b[49m\n\u001b[0;32m   1030\u001b[0m \u001b[43m    \u001b[49m\u001b[43mstream\u001b[49m\u001b[38;5;241;43m=\u001b[39;49m\u001b[43mstream\u001b[49m\u001b[43m,\u001b[49m\n\u001b[0;32m   1031\u001b[0m \u001b[43m    \u001b[49m\u001b[43mstream_cls\u001b[49m\u001b[38;5;241;43m=\u001b[39;49m\u001b[43mstream_cls\u001b[49m\u001b[43m,\u001b[49m\n\u001b[0;32m   1032\u001b[0m \u001b[43m\u001b[49m\u001b[43m)\u001b[49m\n",
      "File \u001b[1;32mc:\\Users\\kiran.busch\\anaconda3\\envs\\event-log-extraction-assistant\\lib\\site-packages\\openai\\_base_client.py:993\u001b[0m, in \u001b[0;36mSyncAPIClient._request\u001b[1;34m(self, cast_to, options, remaining_retries, stream, stream_cls)\u001b[0m\n\u001b[0;32m    990\u001b[0m         err\u001b[38;5;241m.\u001b[39mresponse\u001b[38;5;241m.\u001b[39mread()\n\u001b[0;32m    992\u001b[0m     log\u001b[38;5;241m.\u001b[39mdebug(\u001b[38;5;124m\"\u001b[39m\u001b[38;5;124mRe-raising status error\u001b[39m\u001b[38;5;124m\"\u001b[39m)\n\u001b[1;32m--> 993\u001b[0m     \u001b[38;5;28;01mraise\u001b[39;00m \u001b[38;5;28mself\u001b[39m\u001b[38;5;241m.\u001b[39m_make_status_error_from_response(err\u001b[38;5;241m.\u001b[39mresponse) \u001b[38;5;28;01mfrom\u001b[39;00m \u001b[38;5;28;01mNone\u001b[39;00m\n\u001b[0;32m    995\u001b[0m \u001b[38;5;28;01mreturn\u001b[39;00m \u001b[38;5;28mself\u001b[39m\u001b[38;5;241m.\u001b[39m_process_response(\n\u001b[0;32m    996\u001b[0m     cast_to\u001b[38;5;241m=\u001b[39mcast_to,\n\u001b[0;32m    997\u001b[0m     options\u001b[38;5;241m=\u001b[39moptions,\n\u001b[1;32m   (...)\u001b[0m\n\u001b[0;32m   1000\u001b[0m     stream_cls\u001b[38;5;241m=\u001b[39mstream_cls,\n\u001b[0;32m   1001\u001b[0m )\n",
      "\u001b[1;31mRateLimitError\u001b[0m: Error code: 429 - {'error': {'message': 'You exceeded your current quota, please check your plan and billing details. For more information on this error, read the docs: https://platform.openai.com/docs/guides/error-codes/api-errors.', 'type': 'insufficient_quota', 'param': None, 'code': 'insufficient_quota'}}"
     ]
    }
   ],
   "source": [
    "# Collect all dbs and all prompts\n",
    "db_list = [x for x in os.listdir('testDBs') if '.' not in x]\n",
    "prompt_list = [x for x in os.listdir('prompts') if '.txt' in x]\n",
    "\n",
    "print(db_list[0:])\n",
    "# print(prompt_list[0:])\n",
    "\n",
    "# LLM model and parameters\n",
    "llm_model = ChatOpenAI(model=\"gpt-4\", temperature=0)\n",
    "\n",
    "# Loop over all dbs and prompt combinations\n",
    "for db in db_list[0:]:\n",
    "\n",
    "    path_to_csv_files = 'testDBs/'+db+'/db/'\n",
    "    path_to_csv_schema_file = 'testDBs/'+db+'/csv_schema.xlsx'\n",
    "    path_to_groud_truth_eventlog = 'testDBs/'+db+'/ground-truth-eventlog.csv'\n",
    "    db_output_dir = 'testDBs/'+db+'/example.db'\n",
    "    result_output_dir = 'testDBs/'+db+'/results/'\n",
    "    db_schema = get_database_schema_execute_all(path_to_csv_files = path_to_csv_files,path_to_csv_schema_file=path_to_csv_schema_file, db_output_dir= db_output_dir)\n",
    "\n",
    "    for pr in prompt_list[0:]:\n",
    "        prompt_file_name = pr.split('.txt')[0]\n",
    "        file = open('prompts/'+pr, \"r\")\n",
    "        file_txt = file.read()\n",
    "        file.close()\n",
    "\n",
    "        prompt=(f\"\"\"Consider the following db schema: {db_schema}\"\"\"+file_txt\n",
    "               +f\"\"\"Write one sql statement that returns an event log from the selected tables with the following columns: case_id,activity_id,timestamp. \"\"\"\n",
    "               +f\"\"\"Use quotes for identifiers. Provide only the query.\"\"\")\n",
    "        # print(prompt)\n",
    "\n",
    "        AgentState = {\"messages\": [prompt]}\n",
    "        a = SimpleApp(path_to_db = db_output_dir, path_to_groud_truth_eventlog=path_to_groud_truth_eventlog, llm_model = llm_model)\n",
    "        result = a.invoke(AgentState)\n",
    "        save_results(chain_response=result, output_dir=result_output_dir, prompt_file=prompt_file_name)\n",
    "        # print('\\n EXECUTED SQL STATEMNENT: \\n', result['agent_response'])\n",
    "        # print(result)\n",
    "        try:\n",
    "            print([db, pr ,result['result']])\n",
    "        except:\n",
    "            print([db,pr,f\"\"\"Can't calculate Precision, Recall and F1. ERROR in SQL\"\"\"])       "
   ]
  },
  {
   "cell_type": "markdown",
   "metadata": {},
   "source": [
    "## TEST 1 Toy Example"
   ]
  },
  {
   "cell_type": "code",
   "execution_count": 9,
   "metadata": {},
   "outputs": [
    {
     "name": "stdout",
     "output_type": "stream",
     "text": [
      "CREATE TABLE \"invoice\" (\"id\" TEXT, \"order_id\" TEXT, \"creation_date\" DATETIME, PRIMARY KEY (\"id\"), FOREIGN KEY (\"order_id\") REFERENCES \"order\"(\"id\"))\n",
      "CREATE TABLE \"order\" (\"id\" TEXT, \"creation_date\" DATETIME, PRIMARY KEY (\"id\"))\n",
      "CREATE TABLE \"payment\" (\"id\" TEXT, \"invoice_id\" TEXT, \"creation_date\" DATETIME, PRIMARY KEY (\"id\"), FOREIGN KEY (\"invoice_id\") REFERENCES \"invoice\"(\"id\"))\n",
      "CREATE TABLE \"shipment\" (\"id\" TEXT, \"order_id\" TEXT, \"creation_date\" DATETIME, PRIMARY KEY (\"id\"), FOREIGN KEY (\"order_id\") REFERENCES \"order\"(\"id\"))\n",
      "Data inserted into table order\n",
      "Data inserted into table invoice\n",
      "Data inserted into table payment\n",
      "Data inserted into table shipment\n",
      "Database created: testDBs/test1/example.db\n"
     ]
    }
   ],
   "source": [
    "## TEST 1\n",
    "\n",
    "# Change path to csv files and prompt\n",
    "path_to_csv_files = 'testDBs/test1/db/'\n",
    "path_to_csv_schema_file = 'testDBs/test1/csv_schema.xlsx'\n",
    "path_to_groud_truth_eventlog = 'testDBs/test1/ground-truth-eventlog.csv'\n",
    "db_output_dir = 'testDBs/test1/example.db'\n",
    "db_schema = get_database_schema_execute_all(path_to_csv_files = path_to_csv_files,path_to_csv_schema_file=path_to_csv_schema_file, db_output_dir= db_output_dir)"
   ]
  },
  {
   "cell_type": "code",
   "execution_count": 10,
   "metadata": {},
   "outputs": [],
   "source": [
    "\n",
    "# llm_model = ChatOpenAI(model=\"gpt-3.5-turbo\", temperature=0)\n",
    "# llm_model = ChatOpenAI(model=\"gpt-4-turbo\", temperature=0)\n",
    "llm_model = ChatOpenAI(model=\"gpt-4\", temperature=0)\n",
    "\n",
    "            # Combine the payment table with the invoice tabel to derive the order for which the payment is made. Use the derived order_id as case_id for this part of the query.\n",
    "            # Add this result to the records from the order table, invoice table and shipment table. Use the attribute in each table that is related to the id of the order as the case_id.\n",
    "            # Use the name of the table where a record originates from as the activity_id.\n",
    "\n",
    "prompt=f\"\"\"Consider the following db schema:\n",
    "            {db_schema}\n",
    "            Each record in each table represents at least one event.\n",
    "            If a table contains multiple timestamp attributes, then each of these attributes is related to an event with the activity_id equal to the attribute name.\n",
    "            \n",
    "            Use the id of the order as the case notion.\n",
    "            \n",
    "            When a table does not have an attribute that contains the selected case notion, combine the necessary tables to obtain this case notion.\n",
    "            \n",
    "            Write one sql statement that returns an event log from the selected tables with the following columns: case_id,activity_id,timestamp. \n",
    "            In activity_id leave out \"_created\".\n",
    "            Use quotes for identifiers. Provide only the query.\"\"\"\n",
    "\n",
    "# prompt=f\"\"\"Consider the relational database structure of the provided tables. \n",
    "#             Also consider you have a process model represented by start -> Create order -> Create invoice -> Deliver goods -> end. \n",
    "#             Where Create order, Create invoice, and Deliver goods are activity names of the process model, \n",
    "#             and \"X -> Y\" represents that any activity X is directly followed by an activity Y. \n",
    "#             With this in mind, now you need to write one sql statement that returns an event log from the tables with the following columns: case_id,activity_id,timestamp. \n",
    "#             Use quotes for identifiers. Provide only the query.\"\"\""
   ]
  },
  {
   "cell_type": "code",
   "execution_count": 11,
   "metadata": {},
   "outputs": [
    {
     "data": {
      "text/plain": [
       "'Consider the following db schema:\\n            TABLE invoice:\\nCREATE TABLE \"invoice\" (\"id\" TEXT, \"order_id\" TEXT, \"creation_date\" DATETIME, PRIMARY KEY (\"id\"), FOREIGN KEY (\"order_id\") REFERENCES \"order\"(\"id\"));\\n\\nTABLE order:\\nCREATE TABLE \"order\" (\"id\" TEXT, \"creation_date\" DATETIME, PRIMARY KEY (\"id\"));\\n\\nTABLE payment:\\nCREATE TABLE \"payment\" (\"id\" TEXT, \"invoice_id\" TEXT, \"creation_date\" DATETIME, PRIMARY KEY (\"id\"), FOREIGN KEY (\"invoice_id\") REFERENCES \"invoice\"(\"id\"));\\n\\nTABLE shipment:\\nCREATE TABLE \"shipment\" (\"id\" TEXT, \"order_id\" TEXT, \"creation_date\" DATETIME, PRIMARY KEY (\"id\"), FOREIGN KEY (\"order_id\") REFERENCES \"order\"(\"id\"));\\n\\n            Each record in each table represents at least one event.\\n            If a table contains multiple timestamp attributes, then each of these attributes is related to an event with the activity_id equal to the attribute name.\\n            \\n            Use the id of the order as the case notion.\\n            \\n            When a table does not have an attribute that contains the selected case notion, combine the necessary tables to obtain this case notion.\\n            \\n            Write one sql statement that returns an event log from the selected tables with the following columns: case_id,activity_id,timestamp. \\n            In activity_id leave out \"_created\".\\n            Use quotes for identifiers. Provide only the query.'"
      ]
     },
     "execution_count": 11,
     "metadata": {},
     "output_type": "execute_result"
    }
   ],
   "source": [
    "# db_schema\n",
    "prompt"
   ]
  },
  {
   "cell_type": "code",
   "execution_count": 12,
   "metadata": {},
   "outputs": [
    {
     "name": "stderr",
     "output_type": "stream",
     "text": [
      "Skipping write for channel tags which has no readers\n",
      "Skipping write for channel tags which has no readers\n",
      "Skipping write for channel tags which has no readers\n"
     ]
    },
    {
     "data": {
      "text/plain": [
       "{'messages': ['Consider the following db schema:\\n            TABLE invoice:\\nCREATE TABLE \"invoice\" (\"id\" TEXT, \"order_id\" TEXT, \"creation_date\" DATETIME, PRIMARY KEY (\"id\"), FOREIGN KEY (\"order_id\") REFERENCES \"order\"(\"id\"));\\n\\nTABLE order:\\nCREATE TABLE \"order\" (\"id\" TEXT, \"creation_date\" DATETIME, PRIMARY KEY (\"id\"));\\n\\nTABLE payment:\\nCREATE TABLE \"payment\" (\"id\" TEXT, \"invoice_id\" TEXT, \"creation_date\" DATETIME, PRIMARY KEY (\"id\"), FOREIGN KEY (\"invoice_id\") REFERENCES \"invoice\"(\"id\"));\\n\\nTABLE shipment:\\nCREATE TABLE \"shipment\" (\"id\" TEXT, \"order_id\" TEXT, \"creation_date\" DATETIME, PRIMARY KEY (\"id\"), FOREIGN KEY (\"order_id\") REFERENCES \"order\"(\"id\"));\\n\\n            Each record in each table represents at least one event.\\n            If a table contains multiple timestamp attributes, then each of these attributes is related to an event with the activity_id equal to the attribute name.\\n            \\n            Use the id of the order as the case notion.\\n            \\n            When a table does not have an attribute that contains the selected case notion, combine the necessary tables to obtain this case notion.\\n            \\n            Write one sql statement that returns an event log from the selected tables with the following columns: case_id,activity_id,timestamp. \\n            In activity_id leave out \"_created\".\\n            Use quotes for identifiers. Provide only the query.'],\n",
       " 'agent_response': 'SELECT \"order\".\"id\" AS case_id, \\'order\\' AS activity_id, \"order\".\"creation_date\" AS timestamp\\nFROM \"order\"\\nUNION ALL\\nSELECT \"invoice\".\"order_id\" AS case_id, \\'invoice\\' AS activity_id, \"invoice\".\"creation_date\" AS timestamp\\nFROM \"invoice\"\\nUNION ALL\\nSELECT \"order\".\"id\" AS case_id, \\'shipment\\' AS activity_id, \"shipment\".\"creation_date\" AS timestamp\\nFROM \"shipment\"\\nJOIN \"order\" ON \"shipment\".\"order_id\" = \"order\".\"id\"\\nUNION ALL\\nSELECT \"order\".\"id\" AS case_id, \\'payment\\' AS activity_id, \"payment\".\"creation_date\" AS timestamp\\nFROM \"payment\"\\nJOIN \"invoice\" ON \"payment\".\"invoice_id\" = \"invoice\".\"id\"\\nJOIN \"order\" ON \"invoice\".\"order_id\" = \"order\".\"id\"\\nORDER BY timestamp;',\n",
       " 'sqlexecuter':    case_id activity_id            timestamp\n",
       " 0       o1       order  2017-08-11 10:33:37\n",
       " 1       o2       order  2017-08-13 16:18:15\n",
       " 2       o1     invoice  2017-08-15 09:13:27\n",
       " 3       o3       order  2017-08-15 22:02:53\n",
       " 4       o4       order  2017-08-17 02:18:12\n",
       " 5       o2     invoice  2017-08-17 17:38:36\n",
       " 6       o3     invoice  2017-08-19 23:03:45\n",
       " 7       o4     invoice  2017-08-21 14:25:04\n",
       " 8       o1     payment  2017-08-21 16:26:13\n",
       " 9       o3     payment  2017-08-23 18:42:09\n",
       " 10      o1    shipment  2017-08-24 11:36:35\n",
       " 11      o4     payment  2017-08-25 20:52:10\n",
       " 12      o4    shipment  2017-08-30 09:45:31,\n",
       " 'result': {'prec': 1.0, 'rec': 1.0, 'f1': 1.0}}"
      ]
     },
     "execution_count": 12,
     "metadata": {},
     "output_type": "execute_result"
    }
   ],
   "source": [
    "AgentState = {\"messages\": [prompt]}\n",
    "a = SimpleApp(path_to_db = db_output_dir, path_to_groud_truth_eventlog=path_to_groud_truth_eventlog, llm_model = llm_model)\n",
    "result = a.invoke(AgentState)\n",
    "result"
   ]
  },
  {
   "cell_type": "code",
   "execution_count": null,
   "metadata": {},
   "outputs": [],
   "source": [
    "# SELECT \n",
    "#     \"order\".\"id\" AS \"case_id\", \n",
    "#     'order' AS \"activity_id\", \n",
    "#     \"order\".\"creation_date\" AS \"timestamp\"\n",
    "# FROM \"order\"\n",
    "\n",
    "# UNION ALL\n",
    "\n",
    "# SELECT \n",
    "#     \"invoice\".\"order_id\" AS \"case_id\", \n",
    "#     'invoice' AS \"activity_id\",\n",
    "#     \"invoice\".\"creation_date\" AS \"timestamp\"\n",
    "# FROM \"invoice\"\n",
    "\n",
    "# UNION ALL\n",
    "\n",
    "# SELECT \n",
    "#     \"payment\".\"id\" AS \"case_id\", \n",
    "#     'payment' AS \"activity_id\", \n",
    "#     \"payment\".\"creation_date\" AS \"timestamp\"\n",
    "# FROM \n",
    "#     \"payment\"\n",
    "#     JOIN \"invoice\" ON \"payment\".\"invoice_id\" = \"invoice\".\"id\"\n",
    "\n",
    "# UNION ALL\n",
    "\n",
    "# SELECT \n",
    "#     \"shipment\".\"order_id\" AS \"case_id\",\n",
    "#     'shipment' AS \"activity_id\",\n",
    "#     \"shipment\".\"creation_date\" AS \"timestamp\"\n",
    "# FROM \"shipment\";\n",
    " "
   ]
  },
  {
   "cell_type": "markdown",
   "metadata": {},
   "source": [
    "## TEST UWV_case_1"
   ]
  },
  {
   "cell_type": "code",
   "execution_count": 14,
   "metadata": {},
   "outputs": [
    {
     "name": "stdout",
     "output_type": "stream",
     "text": [
      "CREATE TABLE \"AutoDrive_Event_100_20201215_Sample\" (\"id\" TEXT, \"EventDateTime\" DATETIME, \"ActivityID\" TEXT, \"Attribute_101\" TEXT, PRIMARY KEY (\"id\", \"EventDateTime\", \"ActivityID\", \"Attribute_101\"))\n",
      "CREATE TABLE \"AutoDrive_Event_200_20201215_Sample\" (\"id\" TEXT, \"EventDateTime\" DATETIME, \"ActivityID\" TEXT, PRIMARY KEY (\"id\", \"EventDateTime\", \"ActivityID\"))\n",
      "CREATE TABLE \"AutoDrive_Event_300_20201215_Sample\" (\"id\" TEXT, \"EventDateTime\" DATETIME, \"ActivityID\" TEXT, \"Attribute_301\" TEXT, PRIMARY KEY (\"id\"))\n",
      "CREATE TABLE \"AutoDrive_Event_400_20201215_Sample\" (\"id\" TEXT, \"EventDateTime\" DATETIME, PRIMARY KEY (\"id\"))\n",
      "CREATE TABLE \"AutoDrive_Event_500_20201215_Sample\" (\"session_id\" TEXT, \"id\" TEXT, \"ActivityID_501\" DATETIME, \"ActivityID_502\" DATETIME, \"ActivityID_503\" DATETIME, \"ActivityID_504\" DATETIME, \"ActivityID_505\" DATETIME, \"ActivityID_506\" DATETIME, \"ActivityID_507\" DATETIME, \"Attribute_510\" TEXT, PRIMARY KEY (\"id\"))\n",
      "Data inserted into table AutoDrive_Event_300_20201215_Sample\n",
      "Data inserted into table AutoDrive_Event_500_20201215_Sample\n",
      "Data inserted into table AutoDrive_Event_400_20201215_Sample\n",
      "Data inserted into table AutoDrive_Event_200_20201215_Sample\n",
      "Data inserted into table AutoDrive_Event_100_20201215_Sample\n",
      "Database created: testDBs/UWV_case_1/example.db\n"
     ]
    }
   ],
   "source": [
    "# Change path to csv files and prompt\n",
    "path_to_csv_files = 'testDBs/UWV_case_1/db/'\n",
    "path_to_csv_schema_file = 'testDBs/UWV_case_1/csv_schema.xlsx'\n",
    "path_to_groud_truth_eventlog = 'testDBs/UWV_case_1/AutoDrive_Result_20201515_Sample.csv'\n",
    "db_output_dir = 'testDBs/UWV_case_1/example.db'\n",
    "db_schema = get_database_schema_execute_all(path_to_csv_files = path_to_csv_files,path_to_csv_schema_file=path_to_csv_schema_file, db_output_dir= db_output_dir)"
   ]
  },
  {
   "cell_type": "code",
   "execution_count": 18,
   "metadata": {},
   "outputs": [
    {
     "name": "stderr",
     "output_type": "stream",
     "text": [
      "Skipping write for channel tags which has no readers\n",
      "Skipping write for channel tags which has no readers\n",
      "Skipping write for channel tags which has no readers\n"
     ]
    },
    {
     "data": {
      "text/plain": [
       "{'messages': ['Consider the following db schema:\\n            TABLE AutoDrive_Event_100_20201215_Sample:\\nCREATE TABLE \"AutoDrive_Event_100_20201215_Sample\" (\"id\" TEXT, \"EventDateTime\" DATETIME, \"ActivityID\" TEXT, \"Attribute_101\" TEXT, PRIMARY KEY (\"id\", \"EventDateTime\", \"ActivityID\", \"Attribute_101\"));\\n\\nTABLE AutoDrive_Event_200_20201215_Sample:\\nCREATE TABLE \"AutoDrive_Event_200_20201215_Sample\" (\"id\" TEXT, \"EventDateTime\" DATETIME, \"ActivityID\" TEXT, PRIMARY KEY (\"id\", \"EventDateTime\", \"ActivityID\"));\\n\\nTABLE AutoDrive_Event_300_20201215_Sample:\\nCREATE TABLE \"AutoDrive_Event_300_20201215_Sample\" (\"id\" TEXT, \"EventDateTime\" DATETIME, \"ActivityID\" TEXT, \"Attribute_301\" TEXT, PRIMARY KEY (\"id\"));\\n\\nTABLE AutoDrive_Event_400_20201215_Sample:\\nCREATE TABLE \"AutoDrive_Event_400_20201215_Sample\" (\"id\" TEXT, \"EventDateTime\" DATETIME, PRIMARY KEY (\"id\"));\\n\\nTABLE AutoDrive_Event_500_20201215_Sample:\\nCREATE TABLE \"AutoDrive_Event_500_20201215_Sample\" (\"session_id\" TEXT, \"id\" TEXT, \"ActivityID_501\" DATETIME, \"ActivityID_502\" DATETIME, \"ActivityID_503\" DATETIME, \"ActivityID_504\" DATETIME, \"ActivityID_505\" DATETIME, \"ActivityID_506\" DATETIME, \"ActivityID_507\" DATETIME, \"Attribute_510\" TEXT, PRIMARY KEY (\"id\"));\\n\\n            Each record in each table represents at least one event.\\n            If a table contains multiple timestamp attributes, then each of these attributes is related to an event.\\n            Use the name of the column as the default value of the activity_id.\\n            \\n            Use CaseID as the case notion.\\n            When a table does not have an attribute that contains the selected case notion, combine the necessary tables to obtain this case notion.\\n\\n            Write one sql statement that returns an event log from the selected tables with the following columns: case_id,activity_id,timestamp. \\n            Use quotes for identifiers. \\n            Use for all timestamps the most detailed timeformat that occurs in the tables.\\n            If a value in the table is empty or NULL leave out the whole record.\\n            Provide only the SQL query, no other comments should be part of the response.'],\n",
       " 'agent_response': 'SELECT \"id\" as case_id, \"ActivityID\" as activity_id, \"EventDateTime\" as timestamp\\nFROM \"AutoDrive_Event_100_20201215_Sample\"\\nWHERE \"id\" IS NOT NULL AND \"ActivityID\" IS NOT NULL AND \"EventDateTime\" IS NOT NULL\\nUNION ALL\\nSELECT \"id\" as case_id, \"ActivityID\" as activity_id, \"EventDateTime\" as timestamp\\nFROM \"AutoDrive_Event_200_20201215_Sample\"\\nWHERE \"id\" IS NOT NULL AND \"ActivityID\" IS NOT NULL AND \"EventDateTime\" IS NOT NULL\\nUNION ALL\\nSELECT \"id\" as case_id, \"ActivityID\" as activity_id, \"EventDateTime\" as timestamp\\nFROM \"AutoDrive_Event_300_20201215_Sample\"\\nWHERE \"id\" IS NOT NULL AND \"ActivityID\" IS NOT NULL AND \"EventDateTime\" IS NOT NULL\\nUNION ALL\\nSELECT \"id\" as case_id, NULL as activity_id, \"EventDateTime\" as timestamp\\nFROM \"AutoDrive_Event_400_20201215_Sample\"\\nWHERE \"id\" IS NOT NULL AND \"EventDateTime\" IS NOT NULL\\nUNION ALL\\nSELECT \"id\" as case_id, NULL as activity_id, \"ActivityID_501\" as timestamp\\nFROM \"AutoDrive_Event_500_20201215_Sample\"\\nWHERE \"id\" IS NOT NULL AND \"ActivityID_501\" IS NOT NULL\\nUNION ALL\\nSELECT \"id\" as case_id, NULL as activity_id, \"ActivityID_502\" as timestamp\\nFROM \"AutoDrive_Event_500_20201215_Sample\"\\nWHERE \"id\" IS NOT NULL AND \"ActivityID_502\" IS NOT NULL\\nUNION ALL\\nSELECT \"id\" as case_id, NULL as activity_id, \"ActivityID_503\" as timestamp\\nFROM \"AutoDrive_Event_500_20201215_Sample\"\\nWHERE \"id\" IS NOT NULL AND \"ActivityID_503\" IS NOT NULL\\nUNION ALL\\nSELECT \"id\" as case_id, NULL as activity_id, \"ActivityID_504\" as timestamp\\nFROM \"AutoDrive_Event_500_20201215_Sample\"\\nWHERE \"id\" IS NOT NULL AND \"ActivityID_504\" IS NOT NULL\\nUNION ALL\\nSELECT \"id\" as case_id, NULL as activity_id, \"ActivityID_505\" as timestamp\\nFROM \"AutoDrive_Event_500_20201215_Sample\"\\nWHERE \"id\" IS NOT NULL AND \"ActivityID_505\" IS NOT NULL\\nUNION ALL\\nSELECT \"id\" as case_id, NULL as activity_id, \"ActivityID_506\" as timestamp\\nFROM \"AutoDrive_Event_500_20201215_Sample\"\\nWHERE \"id\" IS NOT NULL AND \"ActivityID_506\" IS NOT NULL\\nUNION ALL\\nSELECT \"id\" as case_id, NULL as activity_id, \"ActivityID_507\" as timestamp\\nFROM \"AutoDrive_Event_500_20201215_Sample\"\\nWHERE \"id\" IS NOT NULL AND \"ActivityID_507\" IS NOT NULL;',\n",
       " 'sqlexecuter':      case_id activity_id                timestamp\n",
       " 0   16969436         109  2019-12-31 13:08:53.827\n",
       " 1   16969436         136  2019-12-31 13:09:59.387\n",
       " 2   16981611         136  2019-12-06 11:16:06.330\n",
       " 3   16981611         109  2019-12-07 06:32:07.097\n",
       " 4   16982614         131  2019-12-07 07:03:19.637\n",
       " 5   16982614         109  2019-12-11 06:41:47.373\n",
       " 6   16982614         136  2019-12-11 06:42:18.430\n",
       " 7   16983477         136  2019-12-19 03:42:10.780\n",
       " 8   16983477         109  2019-12-19 03:52:05.100\n",
       " 9   16969436         253  2019-12-30 17:01:00.000\n",
       " 10  16981611         222  2019-12-05 08:50:00.000\n",
       " 11  16982614         253  2019-12-06 10:32:00.000\n",
       " 12  16982614         222  2019-12-10 10:44:00.000\n",
       " 13  16983477         207  2019-12-09 10:24:00.000\n",
       " 14  16983477         253  2019-12-18 14:49:00.000\n",
       " 15  16983477         253  2019-12-24 13:57:00.000\n",
       " 16  16969436         302               2019-12-30\n",
       " 17  16981611         302               2019-12-05\n",
       " 18  16982614         302               2019-12-03\n",
       " 19  16983477         302               2019-12-18\n",
       " 20  16983477        None  2019-11-28 00:00:01.240\n",
       " 21  16981611        None               2019-12-31\n",
       " 22  16982614        None               2019-12-02\n",
       " 23  16983477        None               2019-12-05\n",
       " 24  16969436        None               2020-01-01\n",
       " 25  16981611        None               2019-12-02\n",
       " 26  16982614        None               2019-12-02\n",
       " 27  16983477        None               2019-11-21\n",
       " 28  16969436        None               2019-12-27\n",
       " 29  16981611        None               2019-12-05\n",
       " 30  16982614        None               2019-12-09\n",
       " 31  16983477        None               2019-12-18\n",
       " 32  16969436        None               2019-12-30\n",
       " 33  16981611        None               2020-01-03\n",
       " 34  16982614        None               2020-01-02\n",
       " 35  16983477        None               2020-01-06\n",
       " 36  16969436        None               2020-02-04\n",
       " 37  16981611        None               2019-12-31\n",
       " 38  16982614        None               2019-12-02\n",
       " 39  16983477        None               2019-12-05\n",
       " 40  16969436        None               2020-01-01\n",
       " 41  16983477        None               2020-03-05\n",
       " 42  16983477        None               2020-04-06,\n",
       " 'result': {'prec': 0.655, 'rec': 0.5, 'f1': 0.567}}"
      ]
     },
     "execution_count": 18,
     "metadata": {},
     "output_type": "execute_result"
    }
   ],
   "source": [
    "# llm_model = ChatOpenAI(model=\"gpt-3.5-turbo\", temperature=0)\n",
    "# llm_model = ChatOpenAI(model=\"gpt-4-turbo\", temperature=0)\n",
    "llm_model = ChatOpenAI(model=\"gpt-4\", temperature=0)\n",
    "\n",
    "            # Combine the payment table with the invoice tabel to derive the order for which the payment is made. Use the derived order_id as case_id for this part of the query.\n",
    "            # Add this result to the records from the order table, invoice table and shipment table. Use the attribute in each table that is related to the id of the order as the case_id.\n",
    "            # Use the name of the table where a record originates from as the activity_id.\n",
    "\n",
    "prompt=f\"\"\"Consider the following db schema:\n",
    "            {db_schema}\n",
    "            Each record in each table represents at least one event.\n",
    "            If a table contains multiple timestamp attributes, then each of these attributes is related to an event.\n",
    "            Use the name of the column as the default value of the activity_id.\n",
    "            \n",
    "            Use CaseID as the case notion.\n",
    "            When a table does not have an attribute that contains the selected case notion, combine the necessary tables to obtain this case notion.\n",
    "\n",
    "            Write one sql statement that returns an event log from the selected tables with the following columns: case_id,activity_id,timestamp. \n",
    "            Use quotes for identifiers. \n",
    "            Use for all timestamps the most detailed timeformat that occurs in the tables.\n",
    "            If a value in the table is empty or NULL leave out the whole record.\n",
    "            Provide only the SQL query, no other comments should be part of the response.\"\"\"\n",
    "\n",
    "AgentState = {\"messages\": [prompt]}\n",
    "a = SimpleApp(path_to_db = db_output_dir, path_to_groud_truth_eventlog=path_to_groud_truth_eventlog, llm_model = llm_model)\n",
    "result = a.invoke(AgentState)\n",
    "result"
   ]
  },
  {
   "cell_type": "code",
   "execution_count": null,
   "metadata": {},
   "outputs": [],
   "source": []
  }
 ],
 "metadata": {
  "kernelspec": {
   "display_name": "Python 3",
   "language": "python",
   "name": "python3"
  },
  "language_info": {
   "codemirror_mode": {
    "name": "ipython",
    "version": 3
   },
   "file_extension": ".py",
   "mimetype": "text/x-python",
   "name": "python",
   "nbconvert_exporter": "python",
   "pygments_lexer": "ipython3",
   "version": "3.10.14"
  }
 },
 "nbformat": 4,
 "nbformat_minor": 2
}
