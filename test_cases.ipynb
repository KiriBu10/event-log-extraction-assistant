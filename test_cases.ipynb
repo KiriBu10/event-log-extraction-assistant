{
 "cells": [
  {
   "cell_type": "code",
   "execution_count": 1,
   "metadata": {},
   "outputs": [],
   "source": [
    "from utils.apps import SimpleApp\n",
    "from langchain_openai import ChatOpenAI\n",
    "from utils.db import get_database_schema_execute_all\n",
    "import os\n",
    "from keys import OPENAI_KEY\n",
    "os.environ['OPENAI_API_KEY'] = OPENAI_KEY  "
   ]
  },
  {
   "cell_type": "code",
   "execution_count": 14,
   "metadata": {},
   "outputs": [
    {
     "name": "stdout",
     "output_type": "stream",
     "text": [
      "CREATE TABLE \"order\" (\"id\" PRIMARY KEY, \"creation_date\" DATETIME)\n",
      "CREATE TABLE \"payment\" (\"id\" PRIMARY KEY, \"invoice_id\" TEXT, \"creation_date\" DATETIME, FOREIGN KEY (\"invoice_id\") REFERENCES \"invoice\"(\"id\"))\n",
      "CREATE TABLE \"shipment\" (\"id\" PRIMARY KEY, \"order_id\" TEXT, \"creation_date\" DATETIME, FOREIGN KEY (\"order_id\") REFERENCES \"order\"(\"id\"))\n",
      "CREATE TABLE \"invoice\" (\"id\" PRIMARY KEY, \"order_id\" TEXT, \"creation_date\" DATETIME, FOREIGN KEY (\"order_id\") REFERENCES \"order\"(\"id\"))\n",
      "Data inserted into table order\n",
      "Data inserted into table invoice\n",
      "Data inserted into table payment\n",
      "Data inserted into table shipment\n",
      "Database created: example.db\n"
     ]
    }
   ],
   "source": [
    "# Change path to csv files and prompt\n",
    "path_to_csv_files = 'testDBs/test1/db/'\n",
    "path_to_csv_schema_file = 'testDBs/test1/csv_schema.xlsx'\n",
    "path_to_groud_truth_eventlog = 'testDBs/test1/ground-truth-eventlog.csv'\n",
    "db_output_dir = 'example.db'\n",
    "llm_model = ChatOpenAI(model=\"gpt-3.5-turbo\", temperature=0) #gpt-4, gpt-3.5-turbo\n",
    "db_schema = get_database_schema_execute_all(path_to_csv_files = path_to_csv_files,path_to_csv_schema_file=path_to_csv_schema_file, db_output_dir= db_output_dir)\n",
    "prompt=f\"\"\"Consider the following db schema:\n",
    "            {db_schema}\n",
    "            Each record in each table represents at least one event.\n",
    "            If a table contains multiple timestamp attributes, then each of these attributes is related to an event with the activity_id equal to the attribute name.\n",
    "            \n",
    "            Use the id of the order as the case notion.\n",
    "            \n",
    "            When a table does not have an attribute that contains the selected case notion, combine the necessary tables to obtain this case notion.\n",
    "            \n",
    "            Write one sql statement that returns an event log from the selected tables with the following columns: case_id,activity_id,timestamp. \n",
    "            In activity_id leave out \"_created\".\n",
    "            Use quotes for identifiers. Provide only the query.\"\"\"\n"
   ]
  },
  {
   "cell_type": "code",
   "execution_count": 15,
   "metadata": {},
   "outputs": [
    {
     "name": "stdout",
     "output_type": "stream",
     "text": [
      "Consider the following db schema:\n",
      "            TABLE invoice:\n",
      "CREATE TABLE \"invoice\" (\"id\" PRIMARY KEY, \"order_id\" TEXT, \"creation_date\" DATETIME, FOREIGN KEY (\"order_id\") REFERENCES \"order\"(\"id\"));\n",
      "\n",
      "TABLE order:\n",
      "CREATE TABLE \"order\" (\"id\" PRIMARY KEY, \"creation_date\" DATETIME);\n",
      "\n",
      "TABLE payment:\n",
      "CREATE TABLE \"payment\" (\"id\" PRIMARY KEY, \"invoice_id\" TEXT, \"creation_date\" DATETIME, FOREIGN KEY (\"invoice_id\") REFERENCES \"invoice\"(\"id\"));\n",
      "\n",
      "TABLE shipment:\n",
      "CREATE TABLE \"shipment\" (\"id\" PRIMARY KEY, \"order_id\" TEXT, \"creation_date\" DATETIME, FOREIGN KEY (\"order_id\") REFERENCES \"order\"(\"id\"));\n",
      "\n",
      "            Each record in each table represents at least one event.\n",
      "            If a table contains multiple timestamp attributes, then each of these attributes is related to an event with the activity_id equal to the attribute name.\n",
      "            \n",
      "            Use the id of the order as the case notion.\n",
      "            \n",
      "            When a table does not have an attribute that contains the selected case notion, combine the necessary tables to obtain this case notion.\n",
      "            \n",
      "            Write one sql statement that returns an event log from the selected tables with the following columns: case_id,activity_id,timestamp. \n",
      "            In activity_id leave out \"_created\".\n",
      "            Use quotes for identifiers. Provide only the query.\n"
     ]
    }
   ],
   "source": [
    "print(prompt)"
   ]
  },
  {
   "cell_type": "code",
   "execution_count": 16,
   "metadata": {},
   "outputs": [
    {
     "name": "stderr",
     "output_type": "stream",
     "text": [
      "Skipping write for channel tags which has no readers\n",
      "Skipping write for channel tags which has no readers\n",
      "Skipping write for channel tags which has no readers\n"
     ]
    }
   ],
   "source": [
    "AgentState = {\"messages\": [prompt]}\n",
    "a = SimpleApp(path_to_db = db_output_dir, path_to_groud_truth_eventlog=path_to_groud_truth_eventlog, llm_model = llm_model)\n",
    "result = a.invoke(AgentState)"
   ]
  },
  {
   "cell_type": "code",
   "execution_count": 17,
   "metadata": {},
   "outputs": [
    {
     "data": {
      "text/plain": [
       "{'messages': ['Consider the following db schema:\\n            TABLE invoice:\\nCREATE TABLE \"invoice\" (\"id\" PRIMARY KEY, \"order_id\" TEXT, \"creation_date\" DATETIME, FOREIGN KEY (\"order_id\") REFERENCES \"order\"(\"id\"));\\n\\nTABLE order:\\nCREATE TABLE \"order\" (\"id\" PRIMARY KEY, \"creation_date\" DATETIME);\\n\\nTABLE payment:\\nCREATE TABLE \"payment\" (\"id\" PRIMARY KEY, \"invoice_id\" TEXT, \"creation_date\" DATETIME, FOREIGN KEY (\"invoice_id\") REFERENCES \"invoice\"(\"id\"));\\n\\nTABLE shipment:\\nCREATE TABLE \"shipment\" (\"id\" PRIMARY KEY, \"order_id\" TEXT, \"creation_date\" DATETIME, FOREIGN KEY (\"order_id\") REFERENCES \"order\"(\"id\"));\\n\\n            Each record in each table represents at least one event.\\n            If a table contains multiple timestamp attributes, then each of these attributes is related to an event with the activity_id equal to the attribute name.\\n            \\n            Use the id of the order as the case notion.\\n            \\n            When a table does not have an attribute that contains the selected case notion, combine the necessary tables to obtain this case notion.\\n            \\n            Write one sql statement that returns an event log from the selected tables with the following columns: case_id,activity_id,timestamp. \\n            In activity_id leave out \"_created\".\\n            Use quotes for identifiers. Provide only the query.'],\n",
       " 'agent_response': 'SELECT \"order_id\" AS case_id, \\'invoice\\' AS activity_id, \"creation_date\" AS timestamp\\nFROM \"invoice\"\\nUNION ALL\\nSELECT \"id\" AS case_id, \\'order\\' AS activity_id, \"creation_date\" AS timestamp\\nFROM \"order\"\\nUNION ALL\\nSELECT \"invoice\".\"order_id\" AS case_id, \\'payment\\' AS activity_id, \"payment\".\"creation_date\" AS timestamp\\nFROM \"payment\"\\nJOIN \"invoice\" ON \"payment\".\"invoice_id\" = \"invoice\".\"id\"\\nUNION ALL\\nSELECT \"order_id\" AS case_id, \\'shipment\\' AS activity_id, \"creation_date\" AS timestamp\\nFROM \"shipment\"\\nORDER BY timestamp;',\n",
       " 'sqlexecuter':    case_id activity_id            timestamp\n",
       " 0       o1       order  2017-08-11 10:33:37\n",
       " 1       o2       order  2017-08-13 16:18:15\n",
       " 2       o1     invoice  2017-08-15 09:13:27\n",
       " 3       o3       order  2017-08-15 22:02:53\n",
       " 4       o4       order  2017-08-17 02:18:12\n",
       " 5       o2     invoice  2017-08-17 17:38:36\n",
       " 6       o3     invoice  2017-08-19 23:03:45\n",
       " 7       o4     invoice  2017-08-21 14:25:04\n",
       " 8       o1     payment  2017-08-21 16:26:13\n",
       " 9       o3     payment  2017-08-23 18:42:09\n",
       " 10      o1    shipment  2017-08-24 11:36:35\n",
       " 11      o4     payment  2017-08-25 20:52:10\n",
       " 12      o4    shipment  2017-08-30 09:45:31,\n",
       " 'result': {'prec': 0.0, 'rec': 0.0, 'f1': 0}}"
      ]
     },
     "execution_count": 17,
     "metadata": {},
     "output_type": "execute_result"
    }
   ],
   "source": [
    "result"
   ]
  },
  {
   "cell_type": "code",
   "execution_count": 18,
   "metadata": {},
   "outputs": [
    {
     "data": {
      "text/html": [
       "<div>\n",
       "<style scoped>\n",
       "    .dataframe tbody tr th:only-of-type {\n",
       "        vertical-align: middle;\n",
       "    }\n",
       "\n",
       "    .dataframe tbody tr th {\n",
       "        vertical-align: top;\n",
       "    }\n",
       "\n",
       "    .dataframe thead th {\n",
       "        text-align: right;\n",
       "    }\n",
       "</style>\n",
       "<table border=\"1\" class=\"dataframe\">\n",
       "  <thead>\n",
       "    <tr style=\"text-align: right;\">\n",
       "      <th></th>\n",
       "      <th>case_id</th>\n",
       "      <th>activity_id</th>\n",
       "      <th>timestamp</th>\n",
       "    </tr>\n",
       "  </thead>\n",
       "  <tbody>\n",
       "    <tr>\n",
       "      <th>0</th>\n",
       "      <td>o1</td>\n",
       "      <td>order</td>\n",
       "      <td>2017-08-11 10:33:37</td>\n",
       "    </tr>\n",
       "    <tr>\n",
       "      <th>1</th>\n",
       "      <td>o2</td>\n",
       "      <td>order</td>\n",
       "      <td>2017-08-13 16:18:15</td>\n",
       "    </tr>\n",
       "    <tr>\n",
       "      <th>2</th>\n",
       "      <td>o1</td>\n",
       "      <td>invoice</td>\n",
       "      <td>2017-08-15 09:13:27</td>\n",
       "    </tr>\n",
       "    <tr>\n",
       "      <th>3</th>\n",
       "      <td>o3</td>\n",
       "      <td>order</td>\n",
       "      <td>2017-08-15 22:02:53</td>\n",
       "    </tr>\n",
       "    <tr>\n",
       "      <th>4</th>\n",
       "      <td>o4</td>\n",
       "      <td>order</td>\n",
       "      <td>2017-08-17 02:18:12</td>\n",
       "    </tr>\n",
       "    <tr>\n",
       "      <th>5</th>\n",
       "      <td>o2</td>\n",
       "      <td>invoice</td>\n",
       "      <td>2017-08-17 17:38:36</td>\n",
       "    </tr>\n",
       "    <tr>\n",
       "      <th>6</th>\n",
       "      <td>o3</td>\n",
       "      <td>invoice</td>\n",
       "      <td>2017-08-19 23:03:45</td>\n",
       "    </tr>\n",
       "    <tr>\n",
       "      <th>7</th>\n",
       "      <td>o4</td>\n",
       "      <td>invoice</td>\n",
       "      <td>2017-08-21 14:25:04</td>\n",
       "    </tr>\n",
       "    <tr>\n",
       "      <th>8</th>\n",
       "      <td>o1</td>\n",
       "      <td>payment</td>\n",
       "      <td>2017-08-21 16:26:13</td>\n",
       "    </tr>\n",
       "    <tr>\n",
       "      <th>9</th>\n",
       "      <td>o3</td>\n",
       "      <td>payment</td>\n",
       "      <td>2017-08-23 18:42:09</td>\n",
       "    </tr>\n",
       "    <tr>\n",
       "      <th>10</th>\n",
       "      <td>o1</td>\n",
       "      <td>shipment</td>\n",
       "      <td>2017-08-24 11:36:35</td>\n",
       "    </tr>\n",
       "    <tr>\n",
       "      <th>11</th>\n",
       "      <td>o4</td>\n",
       "      <td>payment</td>\n",
       "      <td>2017-08-25 20:52:10</td>\n",
       "    </tr>\n",
       "    <tr>\n",
       "      <th>12</th>\n",
       "      <td>o4</td>\n",
       "      <td>shipment</td>\n",
       "      <td>2017-08-30 09:45:31</td>\n",
       "    </tr>\n",
       "  </tbody>\n",
       "</table>\n",
       "</div>"
      ],
      "text/plain": [
       "   case_id activity_id            timestamp\n",
       "0       o1       order  2017-08-11 10:33:37\n",
       "1       o2       order  2017-08-13 16:18:15\n",
       "2       o1     invoice  2017-08-15 09:13:27\n",
       "3       o3       order  2017-08-15 22:02:53\n",
       "4       o4       order  2017-08-17 02:18:12\n",
       "5       o2     invoice  2017-08-17 17:38:36\n",
       "6       o3     invoice  2017-08-19 23:03:45\n",
       "7       o4     invoice  2017-08-21 14:25:04\n",
       "8       o1     payment  2017-08-21 16:26:13\n",
       "9       o3     payment  2017-08-23 18:42:09\n",
       "10      o1    shipment  2017-08-24 11:36:35\n",
       "11      o4     payment  2017-08-25 20:52:10\n",
       "12      o4    shipment  2017-08-30 09:45:31"
      ]
     },
     "execution_count": 18,
     "metadata": {},
     "output_type": "execute_result"
    }
   ],
   "source": [
    "result['sqlexecuter']"
   ]
  },
  {
   "cell_type": "code",
   "execution_count": 19,
   "metadata": {},
   "outputs": [
    {
     "data": {
      "text/plain": [
       "{'prec': 0.0, 'rec': 0.0, 'f1': 0}"
      ]
     },
     "execution_count": 19,
     "metadata": {},
     "output_type": "execute_result"
    }
   ],
   "source": [
    "result['result']"
   ]
  },
  {
   "cell_type": "code",
   "execution_count": null,
   "metadata": {},
   "outputs": [],
   "source": []
  }
 ],
 "metadata": {
  "kernelspec": {
   "display_name": "event-log-extraction-assistant",
   "language": "python",
   "name": "python3"
  },
  "language_info": {
   "codemirror_mode": {
    "name": "ipython",
    "version": 3
   },
   "file_extension": ".py",
   "mimetype": "text/x-python",
   "name": "python",
   "nbconvert_exporter": "python",
   "pygments_lexer": "ipython3",
   "version": "3.10.14"
  }
 },
 "nbformat": 4,
 "nbformat_minor": 2
}
