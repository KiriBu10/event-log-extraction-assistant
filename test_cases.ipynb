{
 "cells": [
  {
   "cell_type": "code",
   "execution_count": 8,
   "metadata": {},
   "outputs": [],
   "source": [
    "from utils.apps import SimpleApp\n",
    "from langchain_openai import ChatOpenAI\n",
    "from utils.db import get_database_schema_execute_all\n",
    "import os\n",
    "from keys import OPENAI_KEY\n",
    "os.environ['OPENAI_API_KEY'] = OPENAI_KEY  "
   ]
  },
  {
   "cell_type": "code",
   "execution_count": 9,
   "metadata": {},
   "outputs": [
    {
     "name": "stdout",
     "output_type": "stream",
     "text": [
      "CREATE TABLE \"invoice\" (\"id\" PRIMARY KEY, \"order_id\" TEXT, \"creation_date\" TEXT, FOREIGN KEY (\"order_id\") REFERENCES \"order\"(\"id\"))\n",
      "CREATE TABLE \"order\" (\"id\" PRIMARY KEY, \"creation_date\" TEXT)\n",
      "CREATE TABLE \"payment\" (\"id\" PRIMARY KEY, \"invoice_id\" TEXT, \"creation_date\" TEXT, FOREIGN KEY (\"invoice_id\") REFERENCES \"invoice\"(\"id\"))\n",
      "CREATE TABLE \"shipment\" (\"id\" PRIMARY KEY, \"order_id\" TEXT, \"creation_date\" TEXT, FOREIGN KEY (\"order_id\") REFERENCES \"order\"(\"id\"))\n",
      "Data inserted into table order\n",
      "Data inserted into table invoice\n",
      "Data inserted into table payment\n",
      "Data inserted into table shipment\n",
      "Database created: example.db\n"
     ]
    }
   ],
   "source": [
    "# Change path to csv files and prompt\n",
    "path_to_csv_files = 'testDBs/test1/db/'\n",
    "path_to_groud_truth_eventlog = 'testDBs/test1/ground-truth-eventlog.csv'\n",
    "db_output_dir = 'example.db'\n",
    "llm_model = ChatOpenAI(model=\"gpt-3.5-turbo\", temperature=0)\n",
    "db_schema = get_database_schema_execute_all(path_to_csv_files = path_to_csv_files, db_output_dir= db_output_dir)\n",
    "prompt=f\"\"\"Consider the following db schema:\n",
    "            {db_schema}\n",
    "            Write a sql statements that returns an event log from the tables with the following columns: case_id,activity_id,timestamp. \n",
    "            Use quotes for identifiers. Provide only the query.\"\"\""
   ]
  },
  {
   "cell_type": "code",
   "execution_count": 10,
   "metadata": {},
   "outputs": [
    {
     "name": "stderr",
     "output_type": "stream",
     "text": [
      "Skipping write for channel tags which has no readers\n",
      "Skipping write for channel tags which has no readers\n",
      "Skipping write for channel tags which has no readers\n"
     ]
    }
   ],
   "source": [
    "AgentState = {\"messages\": [prompt]}\n",
    "a = SimpleApp(path_to_db = db_output_dir, path_to_groud_truth_eventlog=path_to_groud_truth_eventlog, llm_model = llm_model)\n",
    "result = a.invoke(AgentState)"
   ]
  },
  {
   "cell_type": "code",
   "execution_count": 11,
   "metadata": {},
   "outputs": [
    {
     "data": {
      "text/plain": [
       "{'messages': ['Consider the following db schema:\\n            TABLE invoice:\\nCREATE TABLE \"invoice\" (\"id\" PRIMARY KEY, \"order_id\" TEXT, \"creation_date\" TEXT, FOREIGN KEY (\"order_id\") REFERENCES \"order\"(\"id\"));\\n\\nTABLE order:\\nCREATE TABLE \"order\" (\"id\" PRIMARY KEY, \"creation_date\" TEXT);\\n\\nTABLE payment:\\nCREATE TABLE \"payment\" (\"id\" PRIMARY KEY, \"invoice_id\" TEXT, \"creation_date\" TEXT, FOREIGN KEY (\"invoice_id\") REFERENCES \"invoice\"(\"id\"));\\n\\nTABLE shipment:\\nCREATE TABLE \"shipment\" (\"id\" PRIMARY KEY, \"order_id\" TEXT, \"creation_date\" TEXT, FOREIGN KEY (\"order_id\") REFERENCES \"order\"(\"id\"));\\n\\n            Write a sql statements that returns an event log from the tables with the following columns: case_id,activity_id,timestamp. \\n            Use quotes for identifiers. Provide only the query.'],\n",
       " 'agent_response': 'SELECT \"id\" AS case_id, \"creation_date\" AS timestamp, \\'order\\' AS activity_id FROM \"order\"\\nUNION\\nSELECT \"id\" AS case_id, \"creation_date\" AS timestamp, \\'invoice\\' AS activity_id FROM \"invoice\"\\nUNION\\nSELECT \"id\" AS case_id, \"creation_date\" AS timestamp, \\'payment\\' AS activity_id FROM \"payment\"\\nUNION\\nSELECT \"id\" AS case_id, \"creation_date\" AS timestamp, \\'shipment\\' AS activity_id FROM \"shipment\";',\n",
       " 'sqlexecuter':    case_id            timestamp activity_id\n",
       " 0       i1  2017-08-15 09:13:27     invoice\n",
       " 1       i2  2017-08-17 17:38:36     invoice\n",
       " 2       i3  2017-08-19 23:03:45     invoice\n",
       " 3       i4  2017-08-21 14:25:04     invoice\n",
       " 4       o1  2017-08-11 10:33:37       order\n",
       " 5       o2  2017-08-13 16:18:15       order\n",
       " 6       o3  2017-08-15 22:02:53       order\n",
       " 7       o4  2017-08-17 02:18:12       order\n",
       " 8       p1  2017-08-21 16:26:13     payment\n",
       " 9       p2  2017-08-23 18:42:09     payment\n",
       " 10      p3  2017-08-25 20:52:10     payment\n",
       " 11      s1  2017-08-24 11:36:35    shipment\n",
       " 12      s2  2017-08-30 09:45:31    shipment,\n",
       " 'result': {'prec': 0.0, 'rec': 0.0, 'f1': 0}}"
      ]
     },
     "execution_count": 11,
     "metadata": {},
     "output_type": "execute_result"
    }
   ],
   "source": [
    "result"
   ]
  },
  {
   "cell_type": "code",
   "execution_count": null,
   "metadata": {},
   "outputs": [],
   "source": []
  },
  {
   "cell_type": "code",
   "execution_count": null,
   "metadata": {},
   "outputs": [],
   "source": []
  }
 ],
 "metadata": {
  "kernelspec": {
   "display_name": "event-log-extraction-assistant",
   "language": "python",
   "name": "python3"
  },
  "language_info": {
   "codemirror_mode": {
    "name": "ipython",
    "version": 3
   },
   "file_extension": ".py",
   "mimetype": "text/x-python",
   "name": "python",
   "nbconvert_exporter": "python",
   "pygments_lexer": "ipython3",
   "version": "3.10.14"
  }
 },
 "nbformat": 4,
 "nbformat_minor": 2
}
